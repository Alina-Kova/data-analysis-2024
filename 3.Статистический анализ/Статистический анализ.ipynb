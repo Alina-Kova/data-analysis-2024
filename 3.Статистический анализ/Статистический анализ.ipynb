{
 "cells": [
  {
   "cell_type": "markdown",
   "id": "0ef8d7cb",
   "metadata": {},
   "source": [
    "# Проект: Статистический анализ данных\n",
    "\n",
    "Проект по статистическому анализу данных на примере сервиса аренды самокатов. Нам были переданы данные о некоторых пользователях из нескольких городов, а также об их поездках. Необходимо проанализировать данные и проверить некоторые гипотезы, которые могут помочь бизнесу вырасти.\n",
    "\n",
    "Чтобы совершать поездки по городу, пользователи сервиса пользуются мобильным приложением. Сервисом можно пользоваться:\n",
    "\n",
    "\n",
    "* без подписки\n",
    "  * абонентская плата отсутствует;\n",
    "  * стоимость одной минуты поездки — 8 рублей;\n",
    "  * стоимость старта (начала поездки) — 50 рублей;\n",
    "* подпиской Ultra\n",
    "  * абонентская плата — 199 рублей в месяц;\n",
    "  * стоимость одной минуты поездки — 6 рублей;\n",
    "  * стоимость старта — бесплатно."
   ]
  },
  {
   "cell_type": "markdown",
   "id": "bc1b452c",
   "metadata": {},
   "source": [
    "**Цель исследования**\n",
    "\n",
    "Проанализировать предоставленные данные и проверить следующие гипотезы, которые могут потенциально повлиять на прибыль компании:\n",
    "1. Тратят ли пользователи с подпиской больше времени на поездки?\n",
    "2. Можно ли сказать, что среднее расстояние, которое проезжают пользователи с подпиской за одну поездку, не превышает 3130 метров?\n",
    "3. Будет ли помесячная выручка от пользователей с подпиской по месяцам выше, чем выручка от пользователей без подписки?  \n",
    "\n",
    "Если в ходе проверки гипотез подтвердится, что пользователи с подпиской ultra потенциально выгоднее для компании и приносят больше выручки, чем пользователи без подписки, то продакт-менеджеры сервиса будут увеличивать количество пользователей с подпиской, запуская различные акции."
   ]
  },
  {
   "cell_type": "markdown",
   "id": "665db4eb",
   "metadata": {},
   "source": [
    "**Ход исследования**\n",
    "\n",
    "Исследование пройдет в несколько этапов:\n",
    "\n",
    "1. ***Загрузка и обзор данных***: верхнеуровнево рассмотрим и проанализируем датасеты и общую информацию о них.\n",
    "2. ***Предобработка данных***: данные предоставлены в \"сыром\" виде, нужно привести их к нормальному виду, по максимуму избавиться от пропущенных значений, чтобы облегчить рабобту с данными и избежать ошибочных резуальтатов исследования.\n",
    "3. ***Исследовательский анализ данных***: построим визуализации общей информации о пользователях и их поездках и опишем их.\n",
    "4. ***Объединение всех данных в единый датафрейм***\n",
    "5. ***Подсчет выручки*** путем создания нового датафрема и добавления дополнительных колонок.\n",
    "6. ***Проверка гипотез*** с использованием ttest-ов."
   ]
  },
  {
   "cell_type": "code",
   "execution_count": 1,
   "id": "e6f2e7aa",
   "metadata": {},
   "outputs": [],
   "source": [
    "#импортируем библиотеки\n",
    "import pandas as pd\n",
    "import matplotlib.pyplot as plt\n",
    "import numpy as np\n",
    "from matplotlib import pyplot as plt\n",
    "from scipy import stats as st\n",
    "import statistics"
   ]
  },
  {
   "cell_type": "markdown",
   "id": "c42cbe00",
   "metadata": {},
   "source": [
    "## Загрузка и обзор данных"
   ]
  },
  {
   "cell_type": "markdown",
   "id": "c78085c0",
   "metadata": {},
   "source": [
    "### Обзор данных о пользователях"
   ]
  },
  {
   "cell_type": "code",
   "execution_count": 2,
   "id": "eff9f206",
   "metadata": {},
   "outputs": [],
   "source": [
    "#считываем данные из файла users_go.csv, где хранится информация о пользователях\n",
    "#сохраняем датафрейм в переменную users\n",
    "users = pd.read_csv('https://code.s3.yandex.net/datasets/users_go.csv')"
   ]
  },
  {
   "cell_type": "code",
   "execution_count": 3,
   "id": "f4847cce",
   "metadata": {},
   "outputs": [],
   "source": [
    "#создаем функцию вывода первых 20 строк датафрейма, общей информации о датафрейме и гистограм\n",
    "def show_data(df):\n",
    "    print(df.head(20))\n",
    "    print()\n",
    "    print(df.info())\n",
    "    print()\n",
    "    df.hist()\n",
    "    print(plt.show())"
   ]
  },
  {
   "cell_type": "code",
   "execution_count": 4,
   "id": "415c03c6",
   "metadata": {},
   "outputs": [
    {
     "name": "stdout",
     "output_type": "stream",
     "text": [
      "    user_id        name  age            city subscription_type\n",
      "0         1        Кира   22          Тюмень             ultra\n",
      "1         2   Станислав   31            Омск             ultra\n",
      "2         3     Алексей   20          Москва             ultra\n",
      "3         4  Константин   26  Ростов-на-Дону             ultra\n",
      "4         5       Адель   28            Омск             ultra\n",
      "5         6      Регина   25       Краснодар             ultra\n",
      "6         7       Игорь   23            Омск             ultra\n",
      "7         8        Юрий   23       Краснодар             ultra\n",
      "8         9          Ян   21       Пятигорск             ultra\n",
      "9        10     Валерий   18    Екатеринбург             ultra\n",
      "10       11       Агата   31       Краснодар             ultra\n",
      "11       12        Марк   27          Тюмень             ultra\n",
      "12       13         Ева   24       Краснодар             ultra\n",
      "13       14    Антонина   18       Пятигорск             ultra\n",
      "14       15     Валерия   24          Тюмень             ultra\n",
      "15       16      Амалия   27       Краснодар             ultra\n",
      "16       17      Даниил   29          Москва             ultra\n",
      "17       18     Аделина   24            Сочи             ultra\n",
      "18       19      Регина   32          Тюмень             ultra\n",
      "19       20       Игорь   23            Омск             ultra\n",
      "\n",
      "<class 'pandas.core.frame.DataFrame'>\n",
      "RangeIndex: 1565 entries, 0 to 1564\n",
      "Data columns (total 5 columns):\n",
      " #   Column             Non-Null Count  Dtype \n",
      "---  ------             --------------  ----- \n",
      " 0   user_id            1565 non-null   int64 \n",
      " 1   name               1565 non-null   object\n",
      " 2   age                1565 non-null   int64 \n",
      " 3   city               1565 non-null   object\n",
      " 4   subscription_type  1565 non-null   object\n",
      "dtypes: int64(2), object(3)\n",
      "memory usage: 61.3+ KB\n",
      "None\n",
      "\n"
     ]
    },
    {
     "data": {
      "image/png": "[encoded data removed]",
      "text/plain": [
       "<Figure size 640x480 with 2 Axes>"
      ]
     },
     "metadata": {},
     "output_type": "display_data"
    },
    {
     "name": "stdout",
     "output_type": "stream",
     "text": [
      "None\n"
     ]
    }
   ],
   "source": [
    "#выводим информацию о датафрейме users\n",
    "show_data(users)"
   ]
  },
  {
   "cell_type": "markdown",
   "id": "540a822f",
   "metadata": {},
   "source": [
    "В датафрейме с информацией о пользователях 5 колонок. Из документации мы узнали, какая информация хранится в каждой из колонок:  \n",
    "`user_id` - уникальный идентификатор пользователя  \n",
    "`name` - имя пользователя  \n",
    "`age` - возраст  \n",
    "`city` - город  \n",
    "`subscription_type` - тип подписки (free, ultra)  \n",
    "\n",
    "Две колонки содержат *целочисленный* тип данных *int64* и три колонки - *строковый object*.  \n",
    "\n",
    "Максимальное количество строк в таблице users - 1565. В каждом столбце то же количество строк, что означает отсутствие пропусков в данных.\n",
    "\n",
    "Вес датасета составляет около 61.3 Кб.\n"
   ]
  },
  {
   "cell_type": "markdown",
   "id": "31b503c7",
   "metadata": {},
   "source": [
    "### Обзор данных о поездках пользователей"
   ]
  },
  {
   "cell_type": "code",
   "execution_count": 5,
   "id": "4ba5502a",
   "metadata": {},
   "outputs": [],
   "source": [
    "#считываем данные из файла rides_go.csv, где хранится информация о поездках пользователей\n",
    "#сохраняем датафрейм в переменную rides\n",
    "rides = pd.read_csv('https://code.s3.yandex.net/datasets/rides_go.csv')"
   ]
  },
  {
   "cell_type": "code",
   "execution_count": 6,
   "id": "45ea5a38",
   "metadata": {},
   "outputs": [
    {
     "name": "stdout",
     "output_type": "stream",
     "text": [
      "    user_id     distance   duration        date\n",
      "0         1  4409.919140  25.599769  2021-01-01\n",
      "1         1  2617.592153  15.816871  2021-01-18\n",
      "2         1   754.159807   6.232113  2021-04-20\n",
      "3         1  2694.783254  18.511000  2021-08-11\n",
      "4         1  4028.687306  26.265803  2021-08-28\n",
      "5         1  2770.890808  16.650138  2021-10-09\n",
      "6         1  3039.020292  14.927879  2021-10-19\n",
      "7         1  2842.118050  23.117468  2021-11-06\n",
      "8         1  3412.690668  15.238072  2021-11-14\n",
      "9         1   748.690645  15.041884  2021-11-22\n",
      "10        1  4031.020195  17.674448  2021-12-14\n",
      "11        1  2720.609748   9.529463  2021-12-22\n",
      "12        2  3105.086678  24.307514  2021-03-15\n",
      "13        2  3053.519401  11.543256  2021-03-18\n",
      "14        2  4029.116927  25.109188  2021-03-23\n",
      "15        2  2805.786329  20.652145  2021-04-08\n",
      "16        2  3358.595495  18.396489  2021-04-13\n",
      "17        2  3255.338202  13.851127  2021-06-20\n",
      "18        2  3942.817648  20.142725  2021-07-02\n",
      "19        2  2837.905316  26.027432  2021-07-18\n",
      "\n",
      "<class 'pandas.core.frame.DataFrame'>\n",
      "RangeIndex: 18068 entries, 0 to 18067\n",
      "Data columns (total 4 columns):\n",
      " #   Column    Non-Null Count  Dtype  \n",
      "---  ------    --------------  -----  \n",
      " 0   user_id   18068 non-null  int64  \n",
      " 1   distance  18068 non-null  float64\n",
      " 2   duration  18068 non-null  float64\n",
      " 3   date      18068 non-null  object \n",
      "dtypes: float64(2), int64(1), object(1)\n",
      "memory usage: 564.8+ KB\n",
      "None\n",
      "\n"
     ]
    },
    {
     "data": {
      "image/png": "[encoded data removed]",
      "text/plain": [
       "<Figure size 640x480 with 4 Axes>"
      ]
     },
     "metadata": {},
     "output_type": "display_data"
    },
    {
     "name": "stdout",
     "output_type": "stream",
     "text": [
      "None\n"
     ]
    }
   ],
   "source": [
    "#выводим информацию о датафрейме rides\n",
    "show_data(rides)"
   ]
  },
  {
   "cell_type": "markdown",
   "id": "2626db0c",
   "metadata": {},
   "source": [
    "В датафрейме с информацией о поездках пользователей 4 колонки:  \n",
    "`user_id` - уникальный идентификатор пользователя  \n",
    "`distance` - расстояние, которое пользователь проехал в текущей сессии (в метрах)  \n",
    "`duration` - продолжительность сессии (в минутах) — время с того момента, как пользователь нажал кнопку «Начать поездку» до момента, как он нажал кнопку «Завершить поездку»  \n",
    "`date` - дата совершения поездки  \n",
    "\n",
    "Максимальное количество строк в датафрейме - 18 068. В каждом столбце именно такое количество строк - значит в данном датафрейме отсутствую пропуски данных.\n",
    "\n",
    "Первая колонка `user_id` таблицы содержит *целочисленный тип данных int64*, вторая `distance` и третья `duration` - *вещественные числа (дроби) float64*. Последняя колонка `date` с указанием даты содержит *строковый тип данных object*, что некорректно для даты. В процессе предобработки данных необходимо будет поменять тип данных в колонке на *специальный тип для дат datetime* .\n",
    "\n",
    "Вес датасета составляет 564.8 Кб."
   ]
  },
  {
   "cell_type": "markdown",
   "id": "0164627e",
   "metadata": {},
   "source": [
    "### Обзор данных о подписках пользователей"
   ]
  },
  {
   "cell_type": "code",
   "execution_count": 7,
   "id": "1fca4de1",
   "metadata": {},
   "outputs": [],
   "source": [
    "#считываем данные из файла subscriptions_go.csv, где хранится информация о подписках пользователей\n",
    "#сохраняем датафрейм в переменную subscriptions\n",
    "subscriptions = pd.read_csv('https://code.s3.yandex.net/datasets/subscriptions_go.csv')"
   ]
  },
  {
   "cell_type": "code",
   "execution_count": 8,
   "id": "445f130b",
   "metadata": {},
   "outputs": [
    {
     "name": "stdout",
     "output_type": "stream",
     "text": [
      "  subscription_type  minute_price  start_ride_price  subscription_fee\n",
      "0              free             8                50                 0\n",
      "1             ultra             6                 0               199\n",
      "\n",
      "<class 'pandas.core.frame.DataFrame'>\n",
      "RangeIndex: 2 entries, 0 to 1\n",
      "Data columns (total 4 columns):\n",
      " #   Column             Non-Null Count  Dtype \n",
      "---  ------             --------------  ----- \n",
      " 0   subscription_type  2 non-null      object\n",
      " 1   minute_price       2 non-null      int64 \n",
      " 2   start_ride_price   2 non-null      int64 \n",
      " 3   subscription_fee   2 non-null      int64 \n",
      "dtypes: int64(3), object(1)\n",
      "memory usage: 192.0+ bytes\n",
      "None\n",
      "\n"
     ]
    },
    {
     "data": {
      "image/png": "[encoded data removed]",
      "text/plain": [
       "<Figure size 640x480 with 4 Axes>"
      ]
     },
     "metadata": {},
     "output_type": "display_data"
    },
    {
     "name": "stdout",
     "output_type": "stream",
     "text": [
      "None\n"
     ]
    }
   ],
   "source": [
    "#выводим информацию о датафрейме subscriptions\n",
    "show_data(subscriptions)"
   ]
  },
  {
   "cell_type": "markdown",
   "id": "8f9e0c0a",
   "metadata": {},
   "source": [
    "В датафрейме с информацией о подписках пользователей 4 колонки:  \n",
    "`subscription_type` - тип подписки  \n",
    "`minute_price` - стоимость одной минуты поездки по данной подписке  \n",
    "`start_ride_price` - стоимость начала поездки  \n",
    "`subscription_fee` - стоимость ежемесячного платежа  \n",
    "\n",
    "Строк в таблице всего две, так как существует только 2 типа подписки.\n",
    "\n",
    "Колонка `subscription_type` содержит *строковый тип данных object*.\n",
    "Колонки `minute_price`, `start_ride_price`, `subscription_fee` содержат *целочисленный тип данных int64*.\n",
    "\n",
    "Вес датасета subscriptions - 192 байта.\n"
   ]
  },
  {
   "cell_type": "markdown",
   "id": "c26aadbc",
   "metadata": {},
   "source": [
    "**ВЫВОДЫ**\n",
    "\n",
    "Датафреймы содержат достаточное количество информации для проведения исследования и проверки гипотез. В датафреймах содержится как информация о самих пользователях, так и об их поездках. Пропуски в данных отсутствуют, но предже чем проводить исследования с использованием этих данные, необходимо следующим шагом все же провести этап предобраотки - изменить тип данных там, где это необходимо; проверить на явные и неявные дубликаты."
   ]
  },
  {
   "cell_type": "markdown",
   "id": "e95ebca7",
   "metadata": {},
   "source": [
    "## Предобработка данных"
   ]
  },
  {
   "cell_type": "markdown",
   "id": "b9ab90db",
   "metadata": {},
   "source": [
    "### Изменение типа данных"
   ]
  },
  {
   "cell_type": "code",
   "execution_count": 9,
   "id": "4d3fea12",
   "metadata": {},
   "outputs": [],
   "source": [
    "# меняем тип данных в колонке с датой в датафрейме rides на специальный тип для даты и времени\n",
    "rides['date'] = pd.to_datetime(rides['date'])"
   ]
  },
  {
   "cell_type": "markdown",
   "id": "ac1353da",
   "metadata": {},
   "source": [
    "С целью экономии памяти изменим тип данных во всех трех датафреймах с 64-битного на 32-битный:"
   ]
  },
  {
   "cell_type": "code",
   "execution_count": 10,
   "id": "758d8de6",
   "metadata": {},
   "outputs": [],
   "source": [
    "#меняем тип данных int64 на int32 и float64 на float32 в таблице rides\n",
    "rides['user_id'] = rides['user_id'].astype('int32')\n",
    "rides['duration'] = rides['duration'].astype('float32')"
   ]
  },
  {
   "cell_type": "code",
   "execution_count": 11,
   "id": "d015aeff",
   "metadata": {},
   "outputs": [
    {
     "name": "stdout",
     "output_type": "stream",
     "text": [
      "<class 'pandas.core.frame.DataFrame'>\n",
      "RangeIndex: 18068 entries, 0 to 18067\n",
      "Data columns (total 4 columns):\n",
      " #   Column    Non-Null Count  Dtype         \n",
      "---  ------    --------------  -----         \n",
      " 0   user_id   18068 non-null  int32         \n",
      " 1   distance  18068 non-null  float64       \n",
      " 2   duration  18068 non-null  float32       \n",
      " 3   date      18068 non-null  datetime64[ns]\n",
      "dtypes: datetime64[ns](1), float32(1), float64(1), int32(1)\n",
      "memory usage: 423.6 KB\n"
     ]
    }
   ],
   "source": [
    "#проверим, что в датасете rides изменился формат и сократился вес\n",
    "rides.info()"
   ]
  },
  {
   "cell_type": "code",
   "execution_count": 12,
   "id": "cd6fe8e1",
   "metadata": {},
   "outputs": [],
   "source": [
    "#меняем тип данных int64 на int32 в таблице subscriptions\n",
    "for type in ['minute_price', 'start_ride_price', 'subscription_fee']:\n",
    "    subscriptions[type] = subscriptions[type].astype('int32')"
   ]
  },
  {
   "cell_type": "code",
   "execution_count": 13,
   "id": "989ae7cf",
   "metadata": {},
   "outputs": [
    {
     "name": "stdout",
     "output_type": "stream",
     "text": [
      "<class 'pandas.core.frame.DataFrame'>\n",
      "RangeIndex: 2 entries, 0 to 1\n",
      "Data columns (total 4 columns):\n",
      " #   Column             Non-Null Count  Dtype \n",
      "---  ------             --------------  ----- \n",
      " 0   subscription_type  2 non-null      object\n",
      " 1   minute_price       2 non-null      int32 \n",
      " 2   start_ride_price   2 non-null      int32 \n",
      " 3   subscription_fee   2 non-null      int32 \n",
      "dtypes: int32(3), object(1)\n",
      "memory usage: 168.0+ bytes\n"
     ]
    }
   ],
   "source": [
    "#проверим, что в датасете subscriptions сократился вес\n",
    "subscriptions.info()"
   ]
  },
  {
   "cell_type": "code",
   "execution_count": 14,
   "id": "77f21b65",
   "metadata": {},
   "outputs": [],
   "source": [
    "#меняем тип данных int64 на int32 в таблице users\n",
    "for type in ['user_id', 'age']:\n",
    "    users[type] = users[type].astype('int32') "
   ]
  },
  {
   "cell_type": "code",
   "execution_count": 15,
   "id": "7964ff79",
   "metadata": {},
   "outputs": [
    {
     "name": "stdout",
     "output_type": "stream",
     "text": [
      "<class 'pandas.core.frame.DataFrame'>\n",
      "RangeIndex: 1565 entries, 0 to 1564\n",
      "Data columns (total 5 columns):\n",
      " #   Column             Non-Null Count  Dtype \n",
      "---  ------             --------------  ----- \n",
      " 0   user_id            1565 non-null   int32 \n",
      " 1   name               1565 non-null   object\n",
      " 2   age                1565 non-null   int32 \n",
      " 3   city               1565 non-null   object\n",
      " 4   subscription_type  1565 non-null   object\n",
      "dtypes: int32(2), object(3)\n",
      "memory usage: 49.0+ KB\n"
     ]
    }
   ],
   "source": [
    "#проверим, что в датасете users сократился вес\n",
    "users.info()"
   ]
  },
  {
   "cell_type": "markdown",
   "id": "0bad8b8d",
   "metadata": {},
   "source": [
    "### Создание нового столбца"
   ]
  },
  {
   "cell_type": "code",
   "execution_count": 16,
   "id": "8ed382b4",
   "metadata": {},
   "outputs": [
    {
     "data": {
      "text/html": [
       "<div>\n",
       "<style scoped>\n",
       "    .dataframe tbody tr th:only-of-type {\n",
       "        vertical-align: middle;\n",
       "    }\n",
       "\n",
       "    .dataframe tbody tr th {\n",
       "        vertical-align: top;\n",
       "    }\n",
       "\n",
       "    .dataframe thead th {\n",
       "        text-align: right;\n",
       "    }\n",
       "</style>\n",
       "<table border=\"1\" class=\"dataframe\">\n",
       "  <thead>\n",
       "    <tr style=\"text-align: right;\">\n",
       "      <th></th>\n",
       "      <th>user_id</th>\n",
       "      <th>distance</th>\n",
       "      <th>duration</th>\n",
       "      <th>date</th>\n",
       "      <th>month_number</th>\n",
       "    </tr>\n",
       "  </thead>\n",
       "  <tbody>\n",
       "    <tr>\n",
       "      <th>0</th>\n",
       "      <td>1</td>\n",
       "      <td>4409.919140</td>\n",
       "      <td>25.599770</td>\n",
       "      <td>2021-01-01</td>\n",
       "      <td>1</td>\n",
       "    </tr>\n",
       "    <tr>\n",
       "      <th>1</th>\n",
       "      <td>1</td>\n",
       "      <td>2617.592153</td>\n",
       "      <td>15.816872</td>\n",
       "      <td>2021-01-18</td>\n",
       "      <td>1</td>\n",
       "    </tr>\n",
       "    <tr>\n",
       "      <th>2</th>\n",
       "      <td>1</td>\n",
       "      <td>754.159807</td>\n",
       "      <td>6.232113</td>\n",
       "      <td>2021-04-20</td>\n",
       "      <td>4</td>\n",
       "    </tr>\n",
       "    <tr>\n",
       "      <th>3</th>\n",
       "      <td>1</td>\n",
       "      <td>2694.783254</td>\n",
       "      <td>18.511000</td>\n",
       "      <td>2021-08-11</td>\n",
       "      <td>8</td>\n",
       "    </tr>\n",
       "    <tr>\n",
       "      <th>4</th>\n",
       "      <td>1</td>\n",
       "      <td>4028.687306</td>\n",
       "      <td>26.265802</td>\n",
       "      <td>2021-08-28</td>\n",
       "      <td>8</td>\n",
       "    </tr>\n",
       "  </tbody>\n",
       "</table>\n",
       "</div>"
      ],
      "text/plain": [
       "   user_id     distance   duration       date  month_number\n",
       "0        1  4409.919140  25.599770 2021-01-01             1\n",
       "1        1  2617.592153  15.816872 2021-01-18             1\n",
       "2        1   754.159807   6.232113 2021-04-20             4\n",
       "3        1  2694.783254  18.511000 2021-08-11             8\n",
       "4        1  4028.687306  26.265802 2021-08-28             8"
      ]
     },
     "execution_count": 16,
     "metadata": {},
     "output_type": "execute_result"
    }
   ],
   "source": [
    "#добавляем в датафрейм rides колонку с номером месяца\n",
    "rides['month_number'] = rides['date'].dt.month\n",
    "rides.head()"
   ]
  },
  {
   "cell_type": "code",
   "execution_count": 17,
   "id": "9525c31f",
   "metadata": {},
   "outputs": [
    {
     "data": {
      "text/plain": [
       "Timestamp('2021-01-01 00:00:00')"
      ]
     },
     "execution_count": 17,
     "metadata": {},
     "output_type": "execute_result"
    }
   ],
   "source": [
    "#выведем самую раннюю дату в данных\n",
    "rides['date'].min()"
   ]
  },
  {
   "cell_type": "code",
   "execution_count": 18,
   "id": "b11fbc8e",
   "metadata": {},
   "outputs": [
    {
     "data": {
      "text/plain": [
       "Timestamp('2021-12-30 00:00:00')"
      ]
     },
     "execution_count": 18,
     "metadata": {},
     "output_type": "execute_result"
    }
   ],
   "source": [
    "#выведем самую последнюю дату в данных\n",
    "rides['date'].max()"
   ]
  },
  {
   "cell_type": "markdown",
   "id": "88382411",
   "metadata": {},
   "source": [
    "Данные предоставлены за один год, начиная с 1 января 2021г по 30 декабря 2021г, что означает, что при агрегации по месяцам данные не \"склеиваются\"."
   ]
  },
  {
   "cell_type": "code",
   "execution_count": 19,
   "id": "f4966ac9",
   "metadata": {},
   "outputs": [
    {
     "name": "stdout",
     "output_type": "stream",
     "text": [
      "<class 'pandas.core.frame.DataFrame'>\n",
      "RangeIndex: 18068 entries, 0 to 18067\n",
      "Data columns (total 5 columns):\n",
      " #   Column        Non-Null Count  Dtype         \n",
      "---  ------        --------------  -----         \n",
      " 0   user_id       18068 non-null  int32         \n",
      " 1   distance      18068 non-null  float64       \n",
      " 2   duration      18068 non-null  float32       \n",
      " 3   date          18068 non-null  datetime64[ns]\n",
      " 4   month_number  18068 non-null  int64         \n",
      "dtypes: datetime64[ns](1), float32(1), float64(1), int32(1), int64(1)\n",
      "memory usage: 564.8 KB\n"
     ]
    }
   ],
   "source": [
    "#выводим общие данные о датафрейме\n",
    "rides.info()"
   ]
  },
  {
   "cell_type": "code",
   "execution_count": 20,
   "id": "67626139",
   "metadata": {},
   "outputs": [],
   "source": [
    "#меняем тип данных в новом столбце с int64 на int32 и проверяем таблицу с новым стлобцом\n",
    "rides['month_number'] = rides['month_number'].astype('int32')"
   ]
  },
  {
   "cell_type": "code",
   "execution_count": 21,
   "id": "9cbf5bde",
   "metadata": {},
   "outputs": [
    {
     "name": "stdout",
     "output_type": "stream",
     "text": [
      "<class 'pandas.core.frame.DataFrame'>\n",
      "RangeIndex: 18068 entries, 0 to 18067\n",
      "Data columns (total 5 columns):\n",
      " #   Column        Non-Null Count  Dtype         \n",
      "---  ------        --------------  -----         \n",
      " 0   user_id       18068 non-null  int32         \n",
      " 1   distance      18068 non-null  float64       \n",
      " 2   duration      18068 non-null  float32       \n",
      " 3   date          18068 non-null  datetime64[ns]\n",
      " 4   month_number  18068 non-null  int32         \n",
      "dtypes: datetime64[ns](1), float32(1), float64(1), int32(2)\n",
      "memory usage: 494.2 KB\n"
     ]
    }
   ],
   "source": [
    "rides.info()"
   ]
  },
  {
   "cell_type": "markdown",
   "id": "0932bb4f",
   "metadata": {},
   "source": [
    "### Обработка дубликатов"
   ]
  },
  {
   "cell_type": "code",
   "execution_count": 22,
   "id": "af6d202c",
   "metadata": {},
   "outputs": [
    {
     "data": {
      "text/plain": [
       "31"
      ]
     },
     "execution_count": 22,
     "metadata": {},
     "output_type": "execute_result"
    }
   ],
   "source": [
    "#проверяем количество явных дубликатов в датафрейме users\n",
    "users.duplicated().sum()"
   ]
  },
  {
   "cell_type": "code",
   "execution_count": 23,
   "id": "1c276c1c",
   "metadata": {},
   "outputs": [
    {
     "data": {
      "text/plain": [
       "1.9808306709265175"
      ]
     },
     "execution_count": 23,
     "metadata": {},
     "output_type": "execute_result"
    }
   ],
   "source": [
    "#расчитаем в процентах долю явных дубликатов в данных\n",
    "users.duplicated().sum() / len(users) * 100 "
   ]
  },
  {
   "cell_type": "markdown",
   "id": "7788c3e3",
   "metadata": {},
   "source": [
    "Доля дубликатов от общего количества данных составляет почти 2%. Это не так много, можем избавиться от явных дубликатов, так как задублированные пользователи с одинаковой информацией, в том числе с одинаковым user_id, очевидно не должны присутствовать в данных. Вероятно, во время регистрации некоторых пользователей произошла какая-то ошибка. Нужно сообщить разработчикам, чтобы проверили, все ли в порядке на сервер и корректно ли уходят запросы по api."
   ]
  },
  {
   "cell_type": "code",
   "execution_count": 24,
   "id": "52256635",
   "metadata": {},
   "outputs": [],
   "source": [
    "#удаляем из датафрейма строки с явными дубликатами\n",
    "users = users.drop_duplicates()"
   ]
  },
  {
   "cell_type": "code",
   "execution_count": 25,
   "id": "22b001fa",
   "metadata": {},
   "outputs": [
    {
     "name": "stdout",
     "output_type": "stream",
     "text": [
      "<class 'pandas.core.frame.DataFrame'>\n",
      "Int64Index: 1534 entries, 0 to 1533\n",
      "Data columns (total 5 columns):\n",
      " #   Column             Non-Null Count  Dtype \n",
      "---  ------             --------------  ----- \n",
      " 0   user_id            1534 non-null   int32 \n",
      " 1   name               1534 non-null   object\n",
      " 2   age                1534 non-null   int32 \n",
      " 3   city               1534 non-null   object\n",
      " 4   subscription_type  1534 non-null   object\n",
      "dtypes: int32(2), object(3)\n",
      "memory usage: 59.9+ KB\n"
     ]
    }
   ],
   "source": [
    "#посмотрим общую информацию о датасете\n",
    "users.info()"
   ]
  },
  {
   "cell_type": "code",
   "execution_count": 26,
   "id": "a97904d0",
   "metadata": {},
   "outputs": [
    {
     "data": {
      "text/plain": [
       "0"
      ]
     },
     "execution_count": 26,
     "metadata": {},
     "output_type": "execute_result"
    }
   ],
   "source": [
    "#проверяем наличие явных дубликатов в датафрейме rides\n",
    "rides.duplicated().sum()"
   ]
  },
  {
   "cell_type": "markdown",
   "id": "ea278544",
   "metadata": {},
   "source": [
    "**ВЫВОДЫ**\n",
    "\n",
    "После предобработки данных всех трех датафремов был получен следующий результат:    \n",
    "1. ***Добавлен новый столбец*** `month_number` с порядковыми номерами месяцев в датасеты rides, гда хранится информация о поездках пользователей. Данные даны за период с 01/01/2021 пл 30/12/2021, то есть при агрегации данные не \"склеиваются\".\n",
    "2. Датасеты rides и users проверены на наличие ***явных дубликатов***. В датасете ride явных дубликатов не обнаружено. В датасете users найден 31 явный дубликат, что составляет почти 2% от общего количества данных в датасете. Это входит в допустимую доля потери данных, поэтому явные дубликаты были удалены. Вероятно, одни и те же пользователи с одними и теми же поездками задублировались в связи с каким-то сбоем в приложении. О том, что это ошибочные дубли готовит то, что в некоторых строках пользователи с одинаковым user id имеют поездки на одни ите же расстония и с одной и той же продолжительностью, где числа указаны до 6 знаков после запятой, то есть таких совпадений быть не может.  \n",
    "3. ***Изменены типы данных*** для столбца, где хранятся данные о дате на *datetime*, а также изменен тип данных во всех столбцах с целочисленными и вещественными значениями с 64-битного на 32-битный с целью экономии памяти, в результате чего вес датасета *users* сократился с 61.3 Кб до 59.9 Кб, датасета *rides* сократился с 564.8  Кб до 494.2 Кб и датасета *subscriptions* сократился с 192 байт до 168 байт.\n",
    "\n",
    "*Рекомендация разработчикам*:   \n",
    "проверить дубли, например, по дате, так как, возможно, в определенные день произошел сбой в приложении у пользователей при совершении поездок."
   ]
  },
  {
   "cell_type": "markdown",
   "id": "212593c7",
   "metadata": {},
   "source": [
    "## Исследовательский анализ данных"
   ]
  },
  {
   "cell_type": "markdown",
   "id": "e2c89810",
   "metadata": {},
   "source": [
    "Опишем и визуализируем общую информацию о пользователях и поездках:  \n",
    "- частота встречаемости городов;  \n",
    "- соотношение пользователей с подпиской и без подписки;  \n",
    "- возраст пользователей;  \n",
    "- расстояние, которое пользователь преодолел за одну поездку;  \n",
    "- продолжительность поездок."
   ]
  },
  {
   "cell_type": "markdown",
   "id": "5ab6c33b",
   "metadata": {},
   "source": [
    "**Частота встречаемости городов**"
   ]
  },
  {
   "cell_type": "code",
   "execution_count": 27,
   "id": "cc67a22d",
   "metadata": {},
   "outputs": [
    {
     "name": "stdout",
     "output_type": "stream",
     "text": [
      "Пятигорск         219\n",
      "Екатеринбург      204\n",
      "Ростов-на-Дону    198\n",
      "Краснодар         193\n",
      "Сочи              189\n",
      "Омск              183\n",
      "Тюмень            180\n",
      "Москва            168\n",
      "Name: city, dtype: int64\n"
     ]
    }
   ],
   "source": [
    "#посчитаем, какие города и как часто они встречаются в датасете users\n",
    "print(users['city'].value_counts())"
   ]
  },
  {
   "cell_type": "code",
   "execution_count": 28,
   "id": "f825f392",
   "metadata": {},
   "outputs": [
    {
     "data": {
      "image/png": "[encoded data removed]",
      "text/plain": [
       "<Figure size 800x600 with 1 Axes>"
      ]
     },
     "metadata": {},
     "output_type": "display_data"
    }
   ],
   "source": [
    "#сделаем сводную таблицу по частоте встречаемости городов в датасете users \n",
    "#и построим по столбчатый горизонтальный график \n",
    "(\n",
    "    users.groupby('city')['city'].agg('count')\n",
    "    .sort_values(ascending=False)\n",
    "    .plot(kind='barh', cmap='summer', xlabel='Город', figsize=(8, 6), title='Частота встречаемости городов')\n",
    ")\n",
    "plt.legend([\"Кол-во поездок\"], loc='upper right');\n",
    "plt.show()"
   ]
  },
  {
   "cell_type": "markdown",
   "id": "b3af0167",
   "metadata": {},
   "source": [
    "Количество пользователей сервисом аренды самокатов практически равномерно распределено во всех представленных в датасете городах и составляет от 11% до 14%.\n",
    "\n",
    "Чуть больше пользователей арендуют самокаты в *Пятигорске - 14% (219 пользователей)* и меньше всего в *Москве - 11% (168 пользователей)*.  \n",
    "Можно предположить, что Пятигорск - самый южный из всех представленных в выборке городов и сезон проката там может действовать дольше, чем в остальных городах из-за более благоприятных погодных условий. В Москве, помимо того, что сезон проката длится примерно с мая по октябрь, больше вариантов передвижения:  метро (есть не в каждом городе), каршеринг (также есть не в каждом городе), прокат велосипедов."
   ]
  },
  {
   "cell_type": "markdown",
   "id": "9ec58c00",
   "metadata": {},
   "source": [
    "**Соотношение пользователей с подпиской и без подписки**"
   ]
  },
  {
   "cell_type": "code",
   "execution_count": 29,
   "id": "156674d9",
   "metadata": {},
   "outputs": [
    {
     "data": {
      "text/plain": [
       "free     835\n",
       "ultra    699\n",
       "Name: subscription_type, dtype: int64"
      ]
     },
     "execution_count": 29,
     "metadata": {},
     "output_type": "execute_result"
    }
   ],
   "source": [
    "#посчитаем количество пользователей с подписками free и ultra\n",
    "users['subscription_type'].value_counts()"
   ]
  },
  {
   "cell_type": "code",
   "execution_count": 30,
   "id": "21f689a4",
   "metadata": {},
   "outputs": [
    {
     "data": {
      "image/png": "[encoded data removed]",
      "text/plain": [
       "<Figure size 500x500 with 1 Axes>"
      ]
     },
     "metadata": {},
     "output_type": "display_data"
    }
   ],
   "source": [
    "#построим диаграмму в виде пирога, что посмотреть соотношение пользователей по тарифам\n",
    "users.groupby('subscription_type')['subscription_type'].agg('count').plot(\n",
    "    kind = 'pie',  \n",
    "    autopct = '%1.0f%%',\n",
    "    figsize=(5,5),\n",
    "    label='',\n",
    "    labels=None,\n",
    "    legend=True,\n",
    "    cmap='summer',\n",
    "    title='Процентное соотношение пользователей в зависимости от тарифа')\n",
    "\n",
    "plt.show()"
   ]
  },
  {
   "cell_type": "markdown",
   "id": "f0c5bb46",
   "metadata": {},
   "source": [
    "Пользователей с бесплатной подпиской на 8% больше, чем пользователей с подпиской ультра, но, тем не менее, разница в количестве пользователей с подпиской и без подписки не колоссально большая: 845 и 699 соответственно."
   ]
  },
  {
   "cell_type": "markdown",
   "id": "9669b57b",
   "metadata": {},
   "source": [
    "**Возраст пользователей**"
   ]
  },
  {
   "cell_type": "code",
   "execution_count": 31,
   "id": "2fb2fd1a",
   "metadata": {},
   "outputs": [
    {
     "name": "stdout",
     "output_type": "stream",
     "text": [
      "Количество и доля пользователей в процентах по критерию возраста:\n",
      "     count  percentage\n",
      "age                   \n",
      "25     145        9.45\n",
      "24     132        8.60\n",
      "26     131        8.54\n",
      "23     129        8.41\n",
      "27     119        7.76\n",
      "22     119        7.76\n",
      "28     112        7.30\n",
      "21      93        6.06\n",
      "20      71        4.63\n",
      "30      68        4.43\n",
      "29      68        4.43\n",
      "31      48        3.13\n",
      "19      47        3.06\n",
      "18      46        3.00\n",
      "32      41        2.67\n",
      "33      39        2.54\n",
      "17      26        1.69\n",
      "34      19        1.24\n",
      "16      19        1.24\n",
      "35      15        0.98\n",
      "15      13        0.85\n",
      "14       9        0.59\n",
      "13       8        0.52\n",
      "36       6        0.39\n",
      "12       4        0.26\n",
      "38       3        0.20\n",
      "37       2        0.13\n",
      "39       1        0.07\n",
      "43       1        0.07\n",
      "\n",
      "count    1534.000000\n",
      "mean       24.903520\n",
      "std         4.572367\n",
      "min        12.000000\n",
      "25%        22.000000\n",
      "50%        25.000000\n",
      "75%        28.000000\n",
      "max        43.000000\n",
      "Name: age, dtype: float64\n"
     ]
    }
   ],
   "source": [
    "#создаем сводную таблицу, где посчитаем количество пользователей возрасту \n",
    "#и их процентную долю от общего количества пользователей\n",
    "#отсортируем сводную таблицу от большего показателя к меньшему\n",
    "print('Количество и доля пользователей в процентах по критерию возраста:')\n",
    "users_age = users.pivot_table(index='age', values='user_id', aggfunc='count')\n",
    "users_age.columns = ['count']\n",
    "users_age['percentage'] = (users_age['count'] / len(users) * 100).round(2)\n",
    "print(users_age.sort_values(by='count', ascending=False))\n",
    "print()\n",
    "#посмотрим на описание столбца с возрастом\n",
    "print(users['age'].describe())"
   ]
  },
  {
   "cell_type": "code",
   "execution_count": 32,
   "id": "d01b815a",
   "metadata": {},
   "outputs": [
    {
     "data": {
      "image/png": "[encoded data removed]",
      "text/plain": [
       "<Figure size 640x480 with 1 Axes>"
      ]
     },
     "metadata": {},
     "output_type": "display_data"
    }
   ],
   "source": [
    "#построим гистограмму по количеству пользователей каждого возраста\n",
    "plt.hist(users['age'], bins=31, range=(12,43))\n",
    "plt.title('Возраст пользоватлей, арендующих самокаты')\n",
    "plt.xlabel('Возраст')\n",
    "plt.ylabel('Как часто встречается')\n",
    "plt.grid(True)\n",
    "plt.show()"
   ]
  },
  {
   "cell_type": "markdown",
   "id": "a2ad9543",
   "metadata": {},
   "source": [
    "Чаще всего прокатом пользуются люди в возрастном диапазоне от 22 до 28 лет.\n",
    "\n",
    "Медианный возраст пользователей сервиса проката самокатов - 25 лет (он практически совпадает со средним значением). В то же время 25-летних пользователей больше всего в выборке - 9.45% (145 человек).\n",
    "\n",
    "Минимальный возраст пользователей - 12 лет. Самому старшему пользователю 43 года. Пользователей младше 15 и старше 35 лет в выборке данных единицы."
   ]
  },
  {
   "cell_type": "markdown",
   "id": "9246b1c1",
   "metadata": {},
   "source": [
    "**Расстояние, которое пользователь преодолел за одну поездку**"
   ]
  },
  {
   "cell_type": "code",
   "execution_count": 33,
   "id": "2f8673d6",
   "metadata": {},
   "outputs": [
    {
     "name": "stdout",
     "output_type": "stream",
     "text": [
      "10 пользователей с самыми длинными по расстоянию поездками:\n",
      "16309    7211.007745\n",
      "16484    7066.003772\n",
      "15580    6908.491343\n",
      "17171    6760.940067\n",
      "17242    6724.932981\n",
      "10341    6671.969833\n",
      "11385    6601.197575\n",
      "12086    6538.937375\n",
      "10915    6535.386520\n",
      "11319    6503.600402\n",
      "Name: distance, dtype: float64\n",
      "\n",
      "10 пользователей с самыми короткими по расстоянию поездками:\n",
      "11862    15.630873\n",
      "15626    15.366168\n",
      "13940    15.000606\n",
      "8324     12.233115\n",
      "8906     11.283615\n",
      "7841      7.097072\n",
      "8658      6.784447\n",
      "13690     4.329506\n",
      "9541      2.570787\n",
      "11555     0.855683\n",
      "Name: distance, dtype: float64\n",
      "\n",
      "count    18068.000000\n",
      "mean      3070.659976\n",
      "std       1116.831209\n",
      "min          0.855683\n",
      "25%       2543.226360\n",
      "50%       3133.609994\n",
      "75%       3776.222735\n",
      "max       7211.007745\n",
      "Name: distance, dtype: float64\n"
     ]
    }
   ],
   "source": [
    "#в датасете rides с информацией о поездках пользователей, рассмотрим колонку с расстоянием,\n",
    "#которое пользовалели проехали\n",
    "print('10 пользователей с самыми длинными по расстоянию поездками:')\n",
    "print(rides['distance'].sort_values(ascending=False).head(10))\n",
    "print()\n",
    "print('10 пользователей с самыми короткими по расстоянию поездками:')\n",
    "print(rides['distance'].sort_values(ascending=False).tail(10))\n",
    "print()\n",
    "#и посмотрим на описание колонки с расстоянием\n",
    "print(rides['distance'].describe())"
   ]
  },
  {
   "cell_type": "code",
   "execution_count": 34,
   "id": "f6108d9b",
   "metadata": {},
   "outputs": [
    {
     "data": {
      "image/png": "[encoded data removed]",
      "text/plain": [
       "<Figure size 640x480 with 1 Axes>"
      ]
     },
     "metadata": {},
     "output_type": "display_data"
    }
   ],
   "source": [
    "#построим гистограмму на основе данных о расстоянии каждой поездки\n",
    "plt.hist(rides['distance'], bins=70, range=(0,7211))\n",
    "plt.title('Расстояния, которое проехали пользователи сервиса')\n",
    "plt.xlabel('Дистанция поездки в метрах')\n",
    "plt.ylabel('Количество поездок')\n",
    "plt.grid(True)\n",
    "plt.show()"
   ]
  },
  {
   "cell_type": "markdown",
   "id": "b472871d",
   "metadata": {},
   "source": [
    "Медианная дистанция, которую проезжают пользователи проката составляет 3134м. На гистограмме наблюдаются два пика: малый - от 0 м до 1400 м и основной большой - от 1500 м до 6000 м.\n",
    "Если говорить о диапазоне, то чаще всего пользователи проезжают расстояние от 2543м до 3776м.\n",
    "\n",
    "Самая длительная поезда зафиксирована на дистанцию 7211м, а самая короткая - на 0.86м."
   ]
  },
  {
   "cell_type": "markdown",
   "id": "a5de23af",
   "metadata": {},
   "source": [
    "**Продолжительность поездок**\n"
   ]
  },
  {
   "cell_type": "code",
   "execution_count": 35,
   "id": "df569c05",
   "metadata": {},
   "outputs": [
    {
     "name": "stdout",
     "output_type": "stream",
     "text": [
      "10 пользователей с самыми длительными по длительности поездками:\n",
      "4215    40.823963\n",
      "4709    39.873856\n",
      "2623    39.526604\n",
      "1998    38.352764\n",
      "6453    38.265228\n",
      "143     38.125729\n",
      "3729    37.014141\n",
      "499     36.906490\n",
      "6348    36.809311\n",
      "4653    36.622593\n",
      "Name: duration, dtype: float32\n",
      "\n",
      "10 пользователей с самыми короткими по длительности поездками:\n",
      "6531     0.5\n",
      "16540    0.5\n",
      "10650    0.5\n",
      "11445    0.5\n",
      "6570     0.5\n",
      "6768     0.5\n",
      "7883     0.5\n",
      "16179    0.5\n",
      "9497     0.5\n",
      "16704    0.5\n",
      "Name: duration, dtype: float32\n",
      "\n",
      "count    18068.000000\n",
      "mean        17.805012\n",
      "std          6.091051\n",
      "min          0.500000\n",
      "25%         13.597563\n",
      "50%         17.678394\n",
      "75%         21.724800\n",
      "max         40.823963\n",
      "Name: duration, dtype: float64\n"
     ]
    }
   ],
   "source": [
    "#в датасете rides с информацией о поездках пользователей, рассмотрим колонку duration \n",
    "#с продолжительностью поездок пользователей\n",
    "print('10 пользователей с самыми длительными по длительности поездками:')\n",
    "print(rides['duration'].sort_values(ascending=False).head(10))\n",
    "print()\n",
    "print('10 пользователей с самыми короткими по длительности поездками:')\n",
    "print(rides['duration'].sort_values(ascending=False).tail(10))\n",
    "print()\n",
    "#и посмотрим на описание колонки с расстоянием\n",
    "print(rides['duration'].describe())"
   ]
  },
  {
   "cell_type": "code",
   "execution_count": 36,
   "id": "3f0d675f",
   "metadata": {},
   "outputs": [
    {
     "data": {
      "image/png": "[encoded data removed]",
      "text/plain": [
       "<Figure size 640x480 with 1 Axes>"
      ]
     },
     "metadata": {},
     "output_type": "display_data"
    }
   ],
   "source": [
    "#построим гистограмму на основе данных о длительности каждой поездки\n",
    "plt.hist(rides['duration'], bins=41, range=(0,41))\n",
    "plt.title('Длительность каждой поездки от нажатия кнопки «Начать поездку» до нажатия кнопки «Завершить поездку»')\n",
    "plt.xlabel('Продолжительность поездки в минутах')\n",
    "plt.ylabel('Количество поездок')\n",
    "plt.grid(True)\n",
    "plt.show()"
   ]
  },
  {
   "cell_type": "markdown",
   "id": "0718b960",
   "metadata": {},
   "source": [
    "Отсортировав 10 пользователей с минимальной длительностью поездки и построив график можно увидеть выброс в данных по пользователям с поездками по 0.5 мин. Посмотрим на расстояние, которое проехали этим пользователи."
   ]
  },
  {
   "cell_type": "code",
   "execution_count": 37,
   "id": "c1e379c5",
   "metadata": {},
   "outputs": [
    {
     "data": {
      "text/html": [
       "<div>\n",
       "<style scoped>\n",
       "    .dataframe tbody tr th:only-of-type {\n",
       "        vertical-align: middle;\n",
       "    }\n",
       "\n",
       "    .dataframe tbody tr th {\n",
       "        vertical-align: top;\n",
       "    }\n",
       "\n",
       "    .dataframe thead th {\n",
       "        text-align: right;\n",
       "    }\n",
       "</style>\n",
       "<table border=\"1\" class=\"dataframe\">\n",
       "  <thead>\n",
       "    <tr style=\"text-align: right;\">\n",
       "      <th></th>\n",
       "      <th>user_id</th>\n",
       "      <th>distance</th>\n",
       "      <th>duration</th>\n",
       "      <th>date</th>\n",
       "      <th>month_number</th>\n",
       "    </tr>\n",
       "  </thead>\n",
       "  <tbody>\n",
       "    <tr>\n",
       "      <th>12013</th>\n",
       "      <td>1102</td>\n",
       "      <td>4602.122401</td>\n",
       "      <td>0.5</td>\n",
       "      <td>2021-08-01</td>\n",
       "      <td>8</td>\n",
       "    </tr>\n",
       "    <tr>\n",
       "      <th>17314</th>\n",
       "      <td>1483</td>\n",
       "      <td>4445.481070</td>\n",
       "      <td>0.5</td>\n",
       "      <td>2021-03-06</td>\n",
       "      <td>3</td>\n",
       "    </tr>\n",
       "    <tr>\n",
       "      <th>15029</th>\n",
       "      <td>1318</td>\n",
       "      <td>5894.633314</td>\n",
       "      <td>0.5</td>\n",
       "      <td>2021-03-28</td>\n",
       "      <td>3</td>\n",
       "    </tr>\n",
       "    <tr>\n",
       "      <th>7437</th>\n",
       "      <td>766</td>\n",
       "      <td>4539.088310</td>\n",
       "      <td>0.5</td>\n",
       "      <td>2021-12-22</td>\n",
       "      <td>12</td>\n",
       "    </tr>\n",
       "    <tr>\n",
       "      <th>12967</th>\n",
       "      <td>1172</td>\n",
       "      <td>4907.140751</td>\n",
       "      <td>0.5</td>\n",
       "      <td>2021-12-19</td>\n",
       "      <td>12</td>\n",
       "    </tr>\n",
       "    <tr>\n",
       "      <th>15015</th>\n",
       "      <td>1317</td>\n",
       "      <td>4593.389022</td>\n",
       "      <td>0.5</td>\n",
       "      <td>2021-07-16</td>\n",
       "      <td>7</td>\n",
       "    </tr>\n",
       "    <tr>\n",
       "      <th>13012</th>\n",
       "      <td>1176</td>\n",
       "      <td>4935.071045</td>\n",
       "      <td>0.5</td>\n",
       "      <td>2021-05-14</td>\n",
       "      <td>5</td>\n",
       "    </tr>\n",
       "    <tr>\n",
       "      <th>7508</th>\n",
       "      <td>772</td>\n",
       "      <td>4718.820996</td>\n",
       "      <td>0.5</td>\n",
       "      <td>2021-05-22</td>\n",
       "      <td>5</td>\n",
       "    </tr>\n",
       "    <tr>\n",
       "      <th>16589</th>\n",
       "      <td>1428</td>\n",
       "      <td>5059.187375</td>\n",
       "      <td>0.5</td>\n",
       "      <td>2021-05-06</td>\n",
       "      <td>5</td>\n",
       "    </tr>\n",
       "    <tr>\n",
       "      <th>9049</th>\n",
       "      <td>890</td>\n",
       "      <td>4848.485014</td>\n",
       "      <td>0.5</td>\n",
       "      <td>2021-11-20</td>\n",
       "      <td>11</td>\n",
       "    </tr>\n",
       "    <tr>\n",
       "      <th>7537</th>\n",
       "      <td>774</td>\n",
       "      <td>5488.141903</td>\n",
       "      <td>0.5</td>\n",
       "      <td>2021-05-27</td>\n",
       "      <td>5</td>\n",
       "    </tr>\n",
       "    <tr>\n",
       "      <th>16540</th>\n",
       "      <td>1425</td>\n",
       "      <td>5306.346398</td>\n",
       "      <td>0.5</td>\n",
       "      <td>2021-07-05</td>\n",
       "      <td>7</td>\n",
       "    </tr>\n",
       "    <tr>\n",
       "      <th>13266</th>\n",
       "      <td>1194</td>\n",
       "      <td>5636.253153</td>\n",
       "      <td>0.5</td>\n",
       "      <td>2021-11-20</td>\n",
       "      <td>11</td>\n",
       "    </tr>\n",
       "    <tr>\n",
       "      <th>10426</th>\n",
       "      <td>987</td>\n",
       "      <td>5375.139265</td>\n",
       "      <td>0.5</td>\n",
       "      <td>2021-03-16</td>\n",
       "      <td>3</td>\n",
       "    </tr>\n",
       "    <tr>\n",
       "      <th>11559</th>\n",
       "      <td>1069</td>\n",
       "      <td>5780.316092</td>\n",
       "      <td>0.5</td>\n",
       "      <td>2021-04-06</td>\n",
       "      <td>4</td>\n",
       "    </tr>\n",
       "    <tr>\n",
       "      <th>7612</th>\n",
       "      <td>780</td>\n",
       "      <td>6112.644835</td>\n",
       "      <td>0.5</td>\n",
       "      <td>2021-11-23</td>\n",
       "      <td>11</td>\n",
       "    </tr>\n",
       "    <tr>\n",
       "      <th>9077</th>\n",
       "      <td>893</td>\n",
       "      <td>4762.120493</td>\n",
       "      <td>0.5</td>\n",
       "      <td>2021-03-18</td>\n",
       "      <td>3</td>\n",
       "    </tr>\n",
       "    <tr>\n",
       "      <th>17909</th>\n",
       "      <td>1524</td>\n",
       "      <td>4103.998874</td>\n",
       "      <td>0.5</td>\n",
       "      <td>2021-06-18</td>\n",
       "      <td>6</td>\n",
       "    </tr>\n",
       "    <tr>\n",
       "      <th>16704</th>\n",
       "      <td>1436</td>\n",
       "      <td>5409.750250</td>\n",
       "      <td>0.5</td>\n",
       "      <td>2021-06-18</td>\n",
       "      <td>6</td>\n",
       "    </tr>\n",
       "    <tr>\n",
       "      <th>9698</th>\n",
       "      <td>937</td>\n",
       "      <td>4169.066800</td>\n",
       "      <td>0.5</td>\n",
       "      <td>2021-12-12</td>\n",
       "      <td>12</td>\n",
       "    </tr>\n",
       "    <tr>\n",
       "      <th>11853</th>\n",
       "      <td>1090</td>\n",
       "      <td>5121.403392</td>\n",
       "      <td>0.5</td>\n",
       "      <td>2021-09-29</td>\n",
       "      <td>9</td>\n",
       "    </tr>\n",
       "    <tr>\n",
       "      <th>6531</th>\n",
       "      <td>701</td>\n",
       "      <td>4196.445201</td>\n",
       "      <td>0.5</td>\n",
       "      <td>2021-08-31</td>\n",
       "      <td>8</td>\n",
       "    </tr>\n",
       "    <tr>\n",
       "      <th>15132</th>\n",
       "      <td>1325</td>\n",
       "      <td>4030.308008</td>\n",
       "      <td>0.5</td>\n",
       "      <td>2021-12-22</td>\n",
       "      <td>12</td>\n",
       "    </tr>\n",
       "    <tr>\n",
       "      <th>10229</th>\n",
       "      <td>973</td>\n",
       "      <td>5052.769411</td>\n",
       "      <td>0.5</td>\n",
       "      <td>2021-11-27</td>\n",
       "      <td>11</td>\n",
       "    </tr>\n",
       "    <tr>\n",
       "      <th>12354</th>\n",
       "      <td>1128</td>\n",
       "      <td>4703.905427</td>\n",
       "      <td>0.5</td>\n",
       "      <td>2021-09-23</td>\n",
       "      <td>9</td>\n",
       "    </tr>\n",
       "    <tr>\n",
       "      <th>11822</th>\n",
       "      <td>1088</td>\n",
       "      <td>4533.964591</td>\n",
       "      <td>0.5</td>\n",
       "      <td>2021-11-23</td>\n",
       "      <td>11</td>\n",
       "    </tr>\n",
       "    <tr>\n",
       "      <th>12412</th>\n",
       "      <td>1132</td>\n",
       "      <td>5466.110839</td>\n",
       "      <td>0.5</td>\n",
       "      <td>2021-11-10</td>\n",
       "      <td>11</td>\n",
       "    </tr>\n",
       "    <tr>\n",
       "      <th>16464</th>\n",
       "      <td>1421</td>\n",
       "      <td>5071.577248</td>\n",
       "      <td>0.5</td>\n",
       "      <td>2021-03-04</td>\n",
       "      <td>3</td>\n",
       "    </tr>\n",
       "    <tr>\n",
       "      <th>15112</th>\n",
       "      <td>1324</td>\n",
       "      <td>5537.095264</td>\n",
       "      <td>0.5</td>\n",
       "      <td>2021-09-16</td>\n",
       "      <td>9</td>\n",
       "    </tr>\n",
       "    <tr>\n",
       "      <th>16817</th>\n",
       "      <td>1444</td>\n",
       "      <td>5830.705170</td>\n",
       "      <td>0.5</td>\n",
       "      <td>2021-08-29</td>\n",
       "      <td>8</td>\n",
       "    </tr>\n",
       "  </tbody>\n",
       "</table>\n",
       "</div>"
      ],
      "text/plain": [
       "       user_id     distance  duration       date  month_number\n",
       "12013     1102  4602.122401       0.5 2021-08-01             8\n",
       "17314     1483  4445.481070       0.5 2021-03-06             3\n",
       "15029     1318  5894.633314       0.5 2021-03-28             3\n",
       "7437       766  4539.088310       0.5 2021-12-22            12\n",
       "12967     1172  4907.140751       0.5 2021-12-19            12\n",
       "15015     1317  4593.389022       0.5 2021-07-16             7\n",
       "13012     1176  4935.071045       0.5 2021-05-14             5\n",
       "7508       772  4718.820996       0.5 2021-05-22             5\n",
       "16589     1428  5059.187375       0.5 2021-05-06             5\n",
       "9049       890  4848.485014       0.5 2021-11-20            11\n",
       "7537       774  5488.141903       0.5 2021-05-27             5\n",
       "16540     1425  5306.346398       0.5 2021-07-05             7\n",
       "13266     1194  5636.253153       0.5 2021-11-20            11\n",
       "10426      987  5375.139265       0.5 2021-03-16             3\n",
       "11559     1069  5780.316092       0.5 2021-04-06             4\n",
       "7612       780  6112.644835       0.5 2021-11-23            11\n",
       "9077       893  4762.120493       0.5 2021-03-18             3\n",
       "17909     1524  4103.998874       0.5 2021-06-18             6\n",
       "16704     1436  5409.750250       0.5 2021-06-18             6\n",
       "9698       937  4169.066800       0.5 2021-12-12            12\n",
       "11853     1090  5121.403392       0.5 2021-09-29             9\n",
       "6531       701  4196.445201       0.5 2021-08-31             8\n",
       "15132     1325  4030.308008       0.5 2021-12-22            12\n",
       "10229      973  5052.769411       0.5 2021-11-27            11\n",
       "12354     1128  4703.905427       0.5 2021-09-23             9\n",
       "11822     1088  4533.964591       0.5 2021-11-23            11\n",
       "12412     1132  5466.110839       0.5 2021-11-10            11\n",
       "16464     1421  5071.577248       0.5 2021-03-04             3\n",
       "15112     1324  5537.095264       0.5 2021-09-16             9\n",
       "16817     1444  5830.705170       0.5 2021-08-29             8"
      ]
     },
     "execution_count": 37,
     "metadata": {},
     "output_type": "execute_result"
    }
   ],
   "source": [
    "#отсортирруем данные в датасете rides по убыванию колонки duration\n",
    "rides.sort_values(by='duration').head(30)"
   ]
  },
  {
   "cell_type": "code",
   "execution_count": 38,
   "id": "4225d2d9",
   "metadata": {},
   "outputs": [
    {
     "data": {
      "text/plain": [
       "user_id         95\n",
       "distance        95\n",
       "duration        95\n",
       "date            95\n",
       "month_number    95\n",
       "dtype: int64"
      ]
     },
     "execution_count": 38,
     "metadata": {},
     "output_type": "execute_result"
    }
   ],
   "source": [
    "#посчитаем пользователей, проехавших 0.5 минут\n",
    "rides.query('duration == 0.5').count()"
   ]
  },
  {
   "cell_type": "markdown",
   "id": "7c0d037e",
   "metadata": {},
   "source": [
    "Большинство пользователей пользуются арендой самоката от 13.5 мин до 21.7 мин. Медианна длительность поездок пользователей составляет 17.6 мин и практически совпадает со средней.\n",
    "\n",
    "Самая длительная поездка в срезе данных - 40.8 мин.\n",
    "\n",
    "Минимальные по продолжительности поездки - 30 секунд. На гистограмме наблюдается выброс пользователей, которые пользовались арендой 30 секунд, всего 95 подобных поездок."
   ]
  },
  {
   "cell_type": "markdown",
   "id": "60f509ad",
   "metadata": {},
   "source": [
    "**ВЫВОДЫ**\n",
    "\n",
    "**Частота встречаемости городов**  \n",
    "Количество пользователей сервисом аренды самокатов практически равномерно распределено во всех представленных в датасете городах и составляет от 11% до 14%.\n",
    "\n",
    "Чуть больше пользователей арендуют самокаты в *Пятигорске - 14% (219 пользователей)* и меньше всего в *Москве - 11% (168 пользователей)*.  \n",
    "Можно предположить, что Пятигорск - самый южный из всех представленных в выборке городов и сезон проката там может действовать дольше, чем в остальных городах из-за более благоприятных погодных условий. В Москве, помимо того, что сезон проката длится примерно с мая по октябрь, больше вариантов передвижения:  метро (есть не в каждом городе), каршеринг (также есть не в каждом городе), прокат велосипедов.\n",
    "\n",
    "**Соотношение пользователей с подпиской и без подписки**  \n",
    "*Пользователей с бесплатной подпиской на 8% больше, чем пользователей с подпиской ультра*, но, тем не менее, разница в количестве пользователей с подпиской и без подписки не колоссально большая: 845 и 699 соответственно. \n",
    "\n",
    "**Возраст пользователей**  \n",
    "\n",
    "Чаще всего прокатом пользуются люди в возрастном *диапазоне от 22 до 28 лет*.   \n",
    "\n",
    "Медианный возраст пользователей сервиса проката самокатов - *25 лет* (он практически совпадает со средним значением). В то же время 25-летних пользователей больше всего в выборке - 9.45% (145 человек).  \n",
    "\n",
    "Минимальный возраст пользователей - 12 лет. Самому старшему пользователю 43 года. Пользователей младше 15 и старше 35 лет в выборке данных единицы.\n",
    "\n",
    "**Расстояние, которое пользователь преодолел за одну поездку**  \n",
    "\n",
    "*Медианная дистанция*, которую проезжают пользователи проката составляет *3134м*.  \n",
    "На гистограмме наблюдаются два пика: малый - от 0 м до 1400 м и основной большой - от 1500 м до 6000 м.  \n",
    "Если говорить о диапазоне, то *чаще всего пользователи проезжают расстояние от 2543м до 3776м*. \n",
    "\n",
    "Самая длительная поезда зафиксирована на дистанцию 7211м, а самая короткая - на 0.86м.\n",
    "\n",
    "**Продолжительность поездок**  \n",
    "\n",
    "Большинство пользователей пользуются арендой самоката *от 13.5 мин до 21.7 мин*. *Медианна длительность поездок* пользователей составляет *17.6 мин* и практически совпадает со средней.\n",
    "\n",
    "Самая длительная поездка в срезе данных - 40.8 мин.  \n",
    "\n",
    "Минимальные по продолжительности поездки - 30 секунд. На гистограмме наблюдается выброс пользователей, которые пользовались арендой 30 секунд, всего 95 подобных поездок."
   ]
  },
  {
   "cell_type": "markdown",
   "id": "4ef51331",
   "metadata": {},
   "source": [
    "## Объединение данных"
   ]
  },
  {
   "cell_type": "markdown",
   "id": "eb831638",
   "metadata": {},
   "source": [
    "### Объединение данных о пользователях, поездках и подписках в один датафрейм."
   ]
  },
  {
   "cell_type": "code",
   "execution_count": 39,
   "id": "dd33afde",
   "metadata": {},
   "outputs": [],
   "source": [
    "#сначала объединим датасеты users и rides по общей колонке user_id\n",
    "data_users_rides = users.merge(rides, on='user_id', how='left')\n",
    "#для финального датасета к новой таблице добавим датасет subscriptions по общей колонке subscription_type\n",
    "rent_data = data_users_rides.merge(subscriptions, on='subscription_type', how='left')"
   ]
  },
  {
   "cell_type": "code",
   "execution_count": 40,
   "id": "d6963feb",
   "metadata": {
    "scrolled": false
   },
   "outputs": [
    {
     "data": {
      "text/html": [
       "<div>\n",
       "<style scoped>\n",
       "    .dataframe tbody tr th:only-of-type {\n",
       "        vertical-align: middle;\n",
       "    }\n",
       "\n",
       "    .dataframe tbody tr th {\n",
       "        vertical-align: top;\n",
       "    }\n",
       "\n",
       "    .dataframe thead th {\n",
       "        text-align: right;\n",
       "    }\n",
       "</style>\n",
       "<table border=\"1\" class=\"dataframe\">\n",
       "  <thead>\n",
       "    <tr style=\"text-align: right;\">\n",
       "      <th></th>\n",
       "      <th>user_id</th>\n",
       "      <th>name</th>\n",
       "      <th>age</th>\n",
       "      <th>city</th>\n",
       "      <th>subscription_type</th>\n",
       "      <th>distance</th>\n",
       "      <th>duration</th>\n",
       "      <th>date</th>\n",
       "      <th>month_number</th>\n",
       "      <th>minute_price</th>\n",
       "      <th>start_ride_price</th>\n",
       "      <th>subscription_fee</th>\n",
       "    </tr>\n",
       "  </thead>\n",
       "  <tbody>\n",
       "    <tr>\n",
       "      <th>0</th>\n",
       "      <td>1</td>\n",
       "      <td>Кира</td>\n",
       "      <td>22</td>\n",
       "      <td>Тюмень</td>\n",
       "      <td>ultra</td>\n",
       "      <td>4409.919140</td>\n",
       "      <td>25.599770</td>\n",
       "      <td>2021-01-01</td>\n",
       "      <td>1</td>\n",
       "      <td>6</td>\n",
       "      <td>0</td>\n",
       "      <td>199</td>\n",
       "    </tr>\n",
       "    <tr>\n",
       "      <th>1</th>\n",
       "      <td>1</td>\n",
       "      <td>Кира</td>\n",
       "      <td>22</td>\n",
       "      <td>Тюмень</td>\n",
       "      <td>ultra</td>\n",
       "      <td>2617.592153</td>\n",
       "      <td>15.816872</td>\n",
       "      <td>2021-01-18</td>\n",
       "      <td>1</td>\n",
       "      <td>6</td>\n",
       "      <td>0</td>\n",
       "      <td>199</td>\n",
       "    </tr>\n",
       "    <tr>\n",
       "      <th>2</th>\n",
       "      <td>1</td>\n",
       "      <td>Кира</td>\n",
       "      <td>22</td>\n",
       "      <td>Тюмень</td>\n",
       "      <td>ultra</td>\n",
       "      <td>754.159807</td>\n",
       "      <td>6.232113</td>\n",
       "      <td>2021-04-20</td>\n",
       "      <td>4</td>\n",
       "      <td>6</td>\n",
       "      <td>0</td>\n",
       "      <td>199</td>\n",
       "    </tr>\n",
       "    <tr>\n",
       "      <th>3</th>\n",
       "      <td>1</td>\n",
       "      <td>Кира</td>\n",
       "      <td>22</td>\n",
       "      <td>Тюмень</td>\n",
       "      <td>ultra</td>\n",
       "      <td>2694.783254</td>\n",
       "      <td>18.511000</td>\n",
       "      <td>2021-08-11</td>\n",
       "      <td>8</td>\n",
       "      <td>6</td>\n",
       "      <td>0</td>\n",
       "      <td>199</td>\n",
       "    </tr>\n",
       "    <tr>\n",
       "      <th>4</th>\n",
       "      <td>1</td>\n",
       "      <td>Кира</td>\n",
       "      <td>22</td>\n",
       "      <td>Тюмень</td>\n",
       "      <td>ultra</td>\n",
       "      <td>4028.687306</td>\n",
       "      <td>26.265802</td>\n",
       "      <td>2021-08-28</td>\n",
       "      <td>8</td>\n",
       "      <td>6</td>\n",
       "      <td>0</td>\n",
       "      <td>199</td>\n",
       "    </tr>\n",
       "  </tbody>\n",
       "</table>\n",
       "</div>"
      ],
      "text/plain": [
       "   user_id  name  age    city subscription_type     distance   duration  \\\n",
       "0        1  Кира   22  Тюмень             ultra  4409.919140  25.599770   \n",
       "1        1  Кира   22  Тюмень             ultra  2617.592153  15.816872   \n",
       "2        1  Кира   22  Тюмень             ultra   754.159807   6.232113   \n",
       "3        1  Кира   22  Тюмень             ultra  2694.783254  18.511000   \n",
       "4        1  Кира   22  Тюмень             ultra  4028.687306  26.265802   \n",
       "\n",
       "        date  month_number  minute_price  start_ride_price  subscription_fee  \n",
       "0 2021-01-01             1             6                 0               199  \n",
       "1 2021-01-18             1             6                 0               199  \n",
       "2 2021-04-20             4             6                 0               199  \n",
       "3 2021-08-11             8             6                 0               199  \n",
       "4 2021-08-28             8             6                 0               199  "
      ]
     },
     "execution_count": 40,
     "metadata": {},
     "output_type": "execute_result"
    }
   ],
   "source": [
    "#посмотрим на получившуюся таблицу\n",
    "rent_data.head()"
   ]
  },
  {
   "cell_type": "code",
   "execution_count": 41,
   "id": "6efe3dbc",
   "metadata": {},
   "outputs": [
    {
     "name": "stdout",
     "output_type": "stream",
     "text": [
      "<class 'pandas.core.frame.DataFrame'>\n",
      "Int64Index: 18068 entries, 0 to 18067\n",
      "Data columns (total 12 columns):\n",
      " #   Column             Non-Null Count  Dtype         \n",
      "---  ------             --------------  -----         \n",
      " 0   user_id            18068 non-null  int32         \n",
      " 1   name               18068 non-null  object        \n",
      " 2   age                18068 non-null  int32         \n",
      " 3   city               18068 non-null  object        \n",
      " 4   subscription_type  18068 non-null  object        \n",
      " 5   distance           18068 non-null  float64       \n",
      " 6   duration           18068 non-null  float32       \n",
      " 7   date               18068 non-null  datetime64[ns]\n",
      " 8   month_number       18068 non-null  int32         \n",
      " 9   minute_price       18068 non-null  int32         \n",
      " 10  start_ride_price   18068 non-null  int32         \n",
      " 11  subscription_fee   18068 non-null  int32         \n",
      "dtypes: datetime64[ns](1), float32(1), float64(1), int32(6), object(3)\n",
      "memory usage: 1.3+ MB\n"
     ]
    }
   ],
   "source": [
    "#выведем общую информацию о датафрейме\n",
    "rent_data.info()"
   ]
  },
  {
   "cell_type": "code",
   "execution_count": 42,
   "id": "028ad3d8",
   "metadata": {},
   "outputs": [
    {
     "data": {
      "text/plain": [
       "user_id              0\n",
       "name                 0\n",
       "age                  0\n",
       "city                 0\n",
       "subscription_type    0\n",
       "distance             0\n",
       "duration             0\n",
       "date                 0\n",
       "month_number         0\n",
       "minute_price         0\n",
       "start_ride_price     0\n",
       "subscription_fee     0\n",
       "dtype: int64"
      ]
     },
     "execution_count": 42,
     "metadata": {},
     "output_type": "execute_result"
    }
   ],
   "source": [
    "#проверяем датафрейм на наличие пропусков\n",
    "rent_data.isna().sum()"
   ]
  },
  {
   "cell_type": "markdown",
   "id": "61d05cbf",
   "metadata": {},
   "source": [
    "Пропуски в датафрейме `rent_data` отсутствуют."
   ]
  },
  {
   "cell_type": "markdown",
   "id": "c6fcf7e7",
   "metadata": {},
   "source": [
    "### Создание двух дополнительных датафреймов. "
   ]
  },
  {
   "cell_type": "markdown",
   "id": "3cf86d5d",
   "metadata": {},
   "source": [
    "Из датафрейма `rent_data`, который объединил все три таблицы, создадим два отдельных датафрейма:  \n",
    "      - c данными о пользователях без подписки;  \n",
    "      - с данными о пользователях с подпиской."
   ]
  },
  {
   "cell_type": "code",
   "execution_count": 43,
   "id": "d162a997",
   "metadata": {
    "scrolled": false
   },
   "outputs": [
    {
     "data": {
      "text/html": [
       "<div>\n",
       "<style scoped>\n",
       "    .dataframe tbody tr th:only-of-type {\n",
       "        vertical-align: middle;\n",
       "    }\n",
       "\n",
       "    .dataframe tbody tr th {\n",
       "        vertical-align: top;\n",
       "    }\n",
       "\n",
       "    .dataframe thead th {\n",
       "        text-align: right;\n",
       "    }\n",
       "</style>\n",
       "<table border=\"1\" class=\"dataframe\">\n",
       "  <thead>\n",
       "    <tr style=\"text-align: right;\">\n",
       "      <th></th>\n",
       "      <th>user_id</th>\n",
       "      <th>name</th>\n",
       "      <th>age</th>\n",
       "      <th>city</th>\n",
       "      <th>subscription_type</th>\n",
       "      <th>distance</th>\n",
       "      <th>duration</th>\n",
       "      <th>date</th>\n",
       "      <th>month_number</th>\n",
       "      <th>minute_price</th>\n",
       "      <th>start_ride_price</th>\n",
       "      <th>subscription_fee</th>\n",
       "    </tr>\n",
       "  </thead>\n",
       "  <tbody>\n",
       "    <tr>\n",
       "      <th>6500</th>\n",
       "      <td>700</td>\n",
       "      <td>Айдар</td>\n",
       "      <td>22</td>\n",
       "      <td>Омск</td>\n",
       "      <td>free</td>\n",
       "      <td>2515.690719</td>\n",
       "      <td>14.944286</td>\n",
       "      <td>2021-01-02</td>\n",
       "      <td>1</td>\n",
       "      <td>8</td>\n",
       "      <td>50</td>\n",
       "      <td>0</td>\n",
       "    </tr>\n",
       "    <tr>\n",
       "      <th>6501</th>\n",
       "      <td>700</td>\n",
       "      <td>Айдар</td>\n",
       "      <td>22</td>\n",
       "      <td>Омск</td>\n",
       "      <td>free</td>\n",
       "      <td>846.932642</td>\n",
       "      <td>16.234663</td>\n",
       "      <td>2021-02-01</td>\n",
       "      <td>2</td>\n",
       "      <td>8</td>\n",
       "      <td>50</td>\n",
       "      <td>0</td>\n",
       "    </tr>\n",
       "    <tr>\n",
       "      <th>6502</th>\n",
       "      <td>700</td>\n",
       "      <td>Айдар</td>\n",
       "      <td>22</td>\n",
       "      <td>Омск</td>\n",
       "      <td>free</td>\n",
       "      <td>4004.434142</td>\n",
       "      <td>20.016628</td>\n",
       "      <td>2021-02-04</td>\n",
       "      <td>2</td>\n",
       "      <td>8</td>\n",
       "      <td>50</td>\n",
       "      <td>0</td>\n",
       "    </tr>\n",
       "    <tr>\n",
       "      <th>6503</th>\n",
       "      <td>700</td>\n",
       "      <td>Айдар</td>\n",
       "      <td>22</td>\n",
       "      <td>Омск</td>\n",
       "      <td>free</td>\n",
       "      <td>1205.911290</td>\n",
       "      <td>9.782872</td>\n",
       "      <td>2021-02-10</td>\n",
       "      <td>2</td>\n",
       "      <td>8</td>\n",
       "      <td>50</td>\n",
       "      <td>0</td>\n",
       "    </tr>\n",
       "    <tr>\n",
       "      <th>6504</th>\n",
       "      <td>700</td>\n",
       "      <td>Айдар</td>\n",
       "      <td>22</td>\n",
       "      <td>Омск</td>\n",
       "      <td>free</td>\n",
       "      <td>3047.379435</td>\n",
       "      <td>17.427673</td>\n",
       "      <td>2021-02-14</td>\n",
       "      <td>2</td>\n",
       "      <td>8</td>\n",
       "      <td>50</td>\n",
       "      <td>0</td>\n",
       "    </tr>\n",
       "    <tr>\n",
       "      <th>...</th>\n",
       "      <td>...</td>\n",
       "      <td>...</td>\n",
       "      <td>...</td>\n",
       "      <td>...</td>\n",
       "      <td>...</td>\n",
       "      <td>...</td>\n",
       "      <td>...</td>\n",
       "      <td>...</td>\n",
       "      <td>...</td>\n",
       "      <td>...</td>\n",
       "      <td>...</td>\n",
       "      <td>...</td>\n",
       "    </tr>\n",
       "    <tr>\n",
       "      <th>18063</th>\n",
       "      <td>1534</td>\n",
       "      <td>Альберт</td>\n",
       "      <td>25</td>\n",
       "      <td>Краснодар</td>\n",
       "      <td>free</td>\n",
       "      <td>3781.098080</td>\n",
       "      <td>19.822962</td>\n",
       "      <td>2021-11-04</td>\n",
       "      <td>11</td>\n",
       "      <td>8</td>\n",
       "      <td>50</td>\n",
       "      <td>0</td>\n",
       "    </tr>\n",
       "    <tr>\n",
       "      <th>18064</th>\n",
       "      <td>1534</td>\n",
       "      <td>Альберт</td>\n",
       "      <td>25</td>\n",
       "      <td>Краснодар</td>\n",
       "      <td>free</td>\n",
       "      <td>2840.423057</td>\n",
       "      <td>21.409800</td>\n",
       "      <td>2021-11-16</td>\n",
       "      <td>11</td>\n",
       "      <td>8</td>\n",
       "      <td>50</td>\n",
       "      <td>0</td>\n",
       "    </tr>\n",
       "    <tr>\n",
       "      <th>18065</th>\n",
       "      <td>1534</td>\n",
       "      <td>Альберт</td>\n",
       "      <td>25</td>\n",
       "      <td>Краснодар</td>\n",
       "      <td>free</td>\n",
       "      <td>3826.185507</td>\n",
       "      <td>18.435051</td>\n",
       "      <td>2021-11-18</td>\n",
       "      <td>11</td>\n",
       "      <td>8</td>\n",
       "      <td>50</td>\n",
       "      <td>0</td>\n",
       "    </tr>\n",
       "    <tr>\n",
       "      <th>18066</th>\n",
       "      <td>1534</td>\n",
       "      <td>Альберт</td>\n",
       "      <td>25</td>\n",
       "      <td>Краснодар</td>\n",
       "      <td>free</td>\n",
       "      <td>2902.308661</td>\n",
       "      <td>16.674362</td>\n",
       "      <td>2021-11-27</td>\n",
       "      <td>11</td>\n",
       "      <td>8</td>\n",
       "      <td>50</td>\n",
       "      <td>0</td>\n",
       "    </tr>\n",
       "    <tr>\n",
       "      <th>18067</th>\n",
       "      <td>1534</td>\n",
       "      <td>Альберт</td>\n",
       "      <td>25</td>\n",
       "      <td>Краснодар</td>\n",
       "      <td>free</td>\n",
       "      <td>2371.711192</td>\n",
       "      <td>15.893917</td>\n",
       "      <td>2021-12-29</td>\n",
       "      <td>12</td>\n",
       "      <td>8</td>\n",
       "      <td>50</td>\n",
       "      <td>0</td>\n",
       "    </tr>\n",
       "  </tbody>\n",
       "</table>\n",
       "<p>11568 rows × 12 columns</p>\n",
       "</div>"
      ],
      "text/plain": [
       "       user_id     name  age       city subscription_type     distance  \\\n",
       "6500       700    Айдар   22       Омск              free  2515.690719   \n",
       "6501       700    Айдар   22       Омск              free   846.932642   \n",
       "6502       700    Айдар   22       Омск              free  4004.434142   \n",
       "6503       700    Айдар   22       Омск              free  1205.911290   \n",
       "6504       700    Айдар   22       Омск              free  3047.379435   \n",
       "...        ...      ...  ...        ...               ...          ...   \n",
       "18063     1534  Альберт   25  Краснодар              free  3781.098080   \n",
       "18064     1534  Альберт   25  Краснодар              free  2840.423057   \n",
       "18065     1534  Альберт   25  Краснодар              free  3826.185507   \n",
       "18066     1534  Альберт   25  Краснодар              free  2902.308661   \n",
       "18067     1534  Альберт   25  Краснодар              free  2371.711192   \n",
       "\n",
       "        duration       date  month_number  minute_price  start_ride_price  \\\n",
       "6500   14.944286 2021-01-02             1             8                50   \n",
       "6501   16.234663 2021-02-01             2             8                50   \n",
       "6502   20.016628 2021-02-04             2             8                50   \n",
       "6503    9.782872 2021-02-10             2             8                50   \n",
       "6504   17.427673 2021-02-14             2             8                50   \n",
       "...          ...        ...           ...           ...               ...   \n",
       "18063  19.822962 2021-11-04            11             8                50   \n",
       "18064  21.409800 2021-11-16            11             8                50   \n",
       "18065  18.435051 2021-11-18            11             8                50   \n",
       "18066  16.674362 2021-11-27            11             8                50   \n",
       "18067  15.893917 2021-12-29            12             8                50   \n",
       "\n",
       "       subscription_fee  \n",
       "6500                  0  \n",
       "6501                  0  \n",
       "6502                  0  \n",
       "6503                  0  \n",
       "6504                  0  \n",
       "...                 ...  \n",
       "18063                 0  \n",
       "18064                 0  \n",
       "18065                 0  \n",
       "18066                 0  \n",
       "18067                 0  \n",
       "\n",
       "[11568 rows x 12 columns]"
      ]
     },
     "execution_count": 43,
     "metadata": {},
     "output_type": "execute_result"
    }
   ],
   "source": [
    "#создадим таблицу с данными о пользователях без подписки\n",
    "free_subscription = rent_data.query('subscription_type == \"free\"')\n",
    "free_subscription"
   ]
  },
  {
   "cell_type": "code",
   "execution_count": 44,
   "id": "7be1abdc",
   "metadata": {},
   "outputs": [
    {
     "data": {
      "text/html": [
       "<div>\n",
       "<style scoped>\n",
       "    .dataframe tbody tr th:only-of-type {\n",
       "        vertical-align: middle;\n",
       "    }\n",
       "\n",
       "    .dataframe tbody tr th {\n",
       "        vertical-align: top;\n",
       "    }\n",
       "\n",
       "    .dataframe thead th {\n",
       "        text-align: right;\n",
       "    }\n",
       "</style>\n",
       "<table border=\"1\" class=\"dataframe\">\n",
       "  <thead>\n",
       "    <tr style=\"text-align: right;\">\n",
       "      <th></th>\n",
       "      <th>user_id</th>\n",
       "      <th>name</th>\n",
       "      <th>age</th>\n",
       "      <th>city</th>\n",
       "      <th>subscription_type</th>\n",
       "      <th>distance</th>\n",
       "      <th>duration</th>\n",
       "      <th>date</th>\n",
       "      <th>month_number</th>\n",
       "      <th>minute_price</th>\n",
       "      <th>start_ride_price</th>\n",
       "      <th>subscription_fee</th>\n",
       "    </tr>\n",
       "  </thead>\n",
       "  <tbody>\n",
       "    <tr>\n",
       "      <th>0</th>\n",
       "      <td>1</td>\n",
       "      <td>Кира</td>\n",
       "      <td>22</td>\n",
       "      <td>Тюмень</td>\n",
       "      <td>ultra</td>\n",
       "      <td>4409.919140</td>\n",
       "      <td>25.599770</td>\n",
       "      <td>2021-01-01</td>\n",
       "      <td>1</td>\n",
       "      <td>6</td>\n",
       "      <td>0</td>\n",
       "      <td>199</td>\n",
       "    </tr>\n",
       "    <tr>\n",
       "      <th>1</th>\n",
       "      <td>1</td>\n",
       "      <td>Кира</td>\n",
       "      <td>22</td>\n",
       "      <td>Тюмень</td>\n",
       "      <td>ultra</td>\n",
       "      <td>2617.592153</td>\n",
       "      <td>15.816872</td>\n",
       "      <td>2021-01-18</td>\n",
       "      <td>1</td>\n",
       "      <td>6</td>\n",
       "      <td>0</td>\n",
       "      <td>199</td>\n",
       "    </tr>\n",
       "    <tr>\n",
       "      <th>2</th>\n",
       "      <td>1</td>\n",
       "      <td>Кира</td>\n",
       "      <td>22</td>\n",
       "      <td>Тюмень</td>\n",
       "      <td>ultra</td>\n",
       "      <td>754.159807</td>\n",
       "      <td>6.232113</td>\n",
       "      <td>2021-04-20</td>\n",
       "      <td>4</td>\n",
       "      <td>6</td>\n",
       "      <td>0</td>\n",
       "      <td>199</td>\n",
       "    </tr>\n",
       "    <tr>\n",
       "      <th>3</th>\n",
       "      <td>1</td>\n",
       "      <td>Кира</td>\n",
       "      <td>22</td>\n",
       "      <td>Тюмень</td>\n",
       "      <td>ultra</td>\n",
       "      <td>2694.783254</td>\n",
       "      <td>18.511000</td>\n",
       "      <td>2021-08-11</td>\n",
       "      <td>8</td>\n",
       "      <td>6</td>\n",
       "      <td>0</td>\n",
       "      <td>199</td>\n",
       "    </tr>\n",
       "    <tr>\n",
       "      <th>4</th>\n",
       "      <td>1</td>\n",
       "      <td>Кира</td>\n",
       "      <td>22</td>\n",
       "      <td>Тюмень</td>\n",
       "      <td>ultra</td>\n",
       "      <td>4028.687306</td>\n",
       "      <td>26.265802</td>\n",
       "      <td>2021-08-28</td>\n",
       "      <td>8</td>\n",
       "      <td>6</td>\n",
       "      <td>0</td>\n",
       "      <td>199</td>\n",
       "    </tr>\n",
       "    <tr>\n",
       "      <th>...</th>\n",
       "      <td>...</td>\n",
       "      <td>...</td>\n",
       "      <td>...</td>\n",
       "      <td>...</td>\n",
       "      <td>...</td>\n",
       "      <td>...</td>\n",
       "      <td>...</td>\n",
       "      <td>...</td>\n",
       "      <td>...</td>\n",
       "      <td>...</td>\n",
       "      <td>...</td>\n",
       "      <td>...</td>\n",
       "    </tr>\n",
       "    <tr>\n",
       "      <th>6495</th>\n",
       "      <td>699</td>\n",
       "      <td>Оксана</td>\n",
       "      <td>22</td>\n",
       "      <td>Москва</td>\n",
       "      <td>ultra</td>\n",
       "      <td>3973.046497</td>\n",
       "      <td>24.671164</td>\n",
       "      <td>2021-08-29</td>\n",
       "      <td>8</td>\n",
       "      <td>6</td>\n",
       "      <td>0</td>\n",
       "      <td>199</td>\n",
       "    </tr>\n",
       "    <tr>\n",
       "      <th>6496</th>\n",
       "      <td>699</td>\n",
       "      <td>Оксана</td>\n",
       "      <td>22</td>\n",
       "      <td>Москва</td>\n",
       "      <td>ultra</td>\n",
       "      <td>3288.702563</td>\n",
       "      <td>15.892886</td>\n",
       "      <td>2021-09-12</td>\n",
       "      <td>9</td>\n",
       "      <td>6</td>\n",
       "      <td>0</td>\n",
       "      <td>199</td>\n",
       "    </tr>\n",
       "    <tr>\n",
       "      <th>6497</th>\n",
       "      <td>699</td>\n",
       "      <td>Оксана</td>\n",
       "      <td>22</td>\n",
       "      <td>Москва</td>\n",
       "      <td>ultra</td>\n",
       "      <td>3076.159348</td>\n",
       "      <td>14.389525</td>\n",
       "      <td>2021-09-26</td>\n",
       "      <td>9</td>\n",
       "      <td>6</td>\n",
       "      <td>0</td>\n",
       "      <td>199</td>\n",
       "    </tr>\n",
       "    <tr>\n",
       "      <th>6498</th>\n",
       "      <td>699</td>\n",
       "      <td>Оксана</td>\n",
       "      <td>22</td>\n",
       "      <td>Москва</td>\n",
       "      <td>ultra</td>\n",
       "      <td>4707.845501</td>\n",
       "      <td>15.839579</td>\n",
       "      <td>2021-10-17</td>\n",
       "      <td>10</td>\n",
       "      <td>6</td>\n",
       "      <td>0</td>\n",
       "      <td>199</td>\n",
       "    </tr>\n",
       "    <tr>\n",
       "      <th>6499</th>\n",
       "      <td>699</td>\n",
       "      <td>Оксана</td>\n",
       "      <td>22</td>\n",
       "      <td>Москва</td>\n",
       "      <td>ultra</td>\n",
       "      <td>3202.890770</td>\n",
       "      <td>25.217344</td>\n",
       "      <td>2021-12-03</td>\n",
       "      <td>12</td>\n",
       "      <td>6</td>\n",
       "      <td>0</td>\n",
       "      <td>199</td>\n",
       "    </tr>\n",
       "  </tbody>\n",
       "</table>\n",
       "<p>6500 rows × 12 columns</p>\n",
       "</div>"
      ],
      "text/plain": [
       "      user_id    name  age    city subscription_type     distance   duration  \\\n",
       "0           1    Кира   22  Тюмень             ultra  4409.919140  25.599770   \n",
       "1           1    Кира   22  Тюмень             ultra  2617.592153  15.816872   \n",
       "2           1    Кира   22  Тюмень             ultra   754.159807   6.232113   \n",
       "3           1    Кира   22  Тюмень             ultra  2694.783254  18.511000   \n",
       "4           1    Кира   22  Тюмень             ultra  4028.687306  26.265802   \n",
       "...       ...     ...  ...     ...               ...          ...        ...   \n",
       "6495      699  Оксана   22  Москва             ultra  3973.046497  24.671164   \n",
       "6496      699  Оксана   22  Москва             ultra  3288.702563  15.892886   \n",
       "6497      699  Оксана   22  Москва             ultra  3076.159348  14.389525   \n",
       "6498      699  Оксана   22  Москва             ultra  4707.845501  15.839579   \n",
       "6499      699  Оксана   22  Москва             ultra  3202.890770  25.217344   \n",
       "\n",
       "           date  month_number  minute_price  start_ride_price  \\\n",
       "0    2021-01-01             1             6                 0   \n",
       "1    2021-01-18             1             6                 0   \n",
       "2    2021-04-20             4             6                 0   \n",
       "3    2021-08-11             8             6                 0   \n",
       "4    2021-08-28             8             6                 0   \n",
       "...         ...           ...           ...               ...   \n",
       "6495 2021-08-29             8             6                 0   \n",
       "6496 2021-09-12             9             6                 0   \n",
       "6497 2021-09-26             9             6                 0   \n",
       "6498 2021-10-17            10             6                 0   \n",
       "6499 2021-12-03            12             6                 0   \n",
       "\n",
       "      subscription_fee  \n",
       "0                  199  \n",
       "1                  199  \n",
       "2                  199  \n",
       "3                  199  \n",
       "4                  199  \n",
       "...                ...  \n",
       "6495               199  \n",
       "6496               199  \n",
       "6497               199  \n",
       "6498               199  \n",
       "6499               199  \n",
       "\n",
       "[6500 rows x 12 columns]"
      ]
     },
     "execution_count": 44,
     "metadata": {},
     "output_type": "execute_result"
    }
   ],
   "source": [
    "#создадим таблицу с данными о пользователях c подпиской\n",
    "ultra_subscription = rent_data.query('subscription_type == \"ultra\"')\n",
    "ultra_subscription"
   ]
  },
  {
   "cell_type": "markdown",
   "id": "b9117d02",
   "metadata": {},
   "source": [
    "### Визуализация информации о расстоянии и времени поездок для пользователей обеих категорий - ultra и free."
   ]
  },
  {
   "cell_type": "code",
   "execution_count": 45,
   "id": "6d99e6c0",
   "metadata": {},
   "outputs": [
    {
     "data": {
      "image/png": "[encoded data removed]",
      "text/plain": [
       "<Figure size 640x480 with 1 Axes>"
      ]
     },
     "metadata": {},
     "output_type": "display_data"
    },
    {
     "data": {
      "text/plain": [
       "<Figure size 2000x2000 with 0 Axes>"
      ]
     },
     "metadata": {},
     "output_type": "display_data"
    }
   ],
   "source": [
    "#построим две гистограмму по параметру расстояния для пользователей с подпиской и без \n",
    "#наложим две диаграммы друг на друга для более точного сравнения данных\n",
    "plt.hist(ultra_subscription['distance'], bins=50, range=(0,7000), color='#28D53B', alpha=.5)\n",
    "plt.hist(free_subscription['distance'], bins=50, range=(0,7000), color='#FCF560', alpha=.5)\n",
    "plt.title('Расстояние поездок (зеленый = подписка ultra, желтый = без подписки)')\n",
    "plt.xlabel('Расстояние (в метрах)')\n",
    "plt.ylabel('Количество поездок')\n",
    "plt.figure(figsize=(20,20))\n",
    "plt.show()"
   ]
  },
  {
   "cell_type": "code",
   "execution_count": 46,
   "id": "dfd74e85",
   "metadata": {},
   "outputs": [
    {
     "data": {
      "text/plain": [
       "count    6500.000000\n",
       "mean     3115.445388\n",
       "std       836.895330\n",
       "min       244.210438\n",
       "25%      2785.444017\n",
       "50%      3148.637229\n",
       "75%      3560.574425\n",
       "max      5699.769662\n",
       "Name: distance, dtype: float64"
      ]
     },
     "execution_count": 46,
     "metadata": {},
     "output_type": "execute_result"
    }
   ],
   "source": [
    "#посмотрим на описание расстояния для пользователей с подпиской\n",
    "ultra_subscription['distance'].describe()"
   ]
  },
  {
   "cell_type": "code",
   "execution_count": 47,
   "id": "03d0d625",
   "metadata": {},
   "outputs": [
    {
     "data": {
      "text/plain": [
       "count    11568.000000\n",
       "mean      3045.495282\n",
       "std       1246.173806\n",
       "min          0.855683\n",
       "25%       2366.562689\n",
       "50%       3114.648465\n",
       "75%       3905.697894\n",
       "max       7211.007745\n",
       "Name: distance, dtype: float64"
      ]
     },
     "execution_count": 47,
     "metadata": {},
     "output_type": "execute_result"
    }
   ],
   "source": [
    "#посмотрим на описание расстояния для пользователей без подписки\n",
    "free_subscription['distance'].describe()"
   ]
  },
  {
   "cell_type": "code",
   "execution_count": 48,
   "id": "24b000b2",
   "metadata": {
    "scrolled": false
   },
   "outputs": [
    {
     "data": {
      "image/png": "[encoded data removed]",
      "text/plain": [
       "<Figure size 640x480 with 1 Axes>"
      ]
     },
     "metadata": {},
     "output_type": "display_data"
    },
    {
     "data": {
      "text/plain": [
       "<Figure size 2000x2000 with 0 Axes>"
      ]
     },
     "metadata": {},
     "output_type": "display_data"
    }
   ],
   "source": [
    "#построим гистограмму по параметру продолжительности поездок для пользователей с подпиской и без\n",
    "plt.hist(ultra_subscription['duration'], bins=50, range=(0,41), color='#28D53B', alpha=.5)\n",
    "plt.hist(free_subscription['duration'], bins=50, range=(0,41), color='#FCF560', alpha=.5)\n",
    "plt.title('Длительность поездок (зеленый = подписка ultra, желтый = без подписки)')\n",
    "plt.xlabel('Продолжительность (в минутах)')\n",
    "plt.ylabel('Количество поездок')\n",
    "plt.figure(figsize=(20,20))\n",
    "plt.show()"
   ]
  },
  {
   "cell_type": "code",
   "execution_count": 49,
   "id": "68818351",
   "metadata": {},
   "outputs": [
    {
     "data": {
      "text/plain": [
       "count    6500.000000\n",
       "mean       18.541986\n",
       "std         5.572048\n",
       "min         3.760353\n",
       "25%        14.524654\n",
       "50%        18.178153\n",
       "75%        21.884128\n",
       "max        40.823963\n",
       "Name: duration, dtype: float64"
      ]
     },
     "execution_count": 49,
     "metadata": {},
     "output_type": "execute_result"
    }
   ],
   "source": [
    "#посмотрим на описание длительности для пользователей с подпиской\n",
    "ultra_subscription['duration'].describe()"
   ]
  },
  {
   "cell_type": "code",
   "execution_count": 50,
   "id": "4e1df013",
   "metadata": {},
   "outputs": [
    {
     "data": {
      "text/plain": [
       "count    11568.000000\n",
       "mean        17.390909\n",
       "std          6.326803\n",
       "min          0.500000\n",
       "25%         12.958436\n",
       "50%         17.326890\n",
       "75%         21.594071\n",
       "max         34.948498\n",
       "Name: duration, dtype: float64"
      ]
     },
     "execution_count": 50,
     "metadata": {},
     "output_type": "execute_result"
    }
   ],
   "source": [
    "#посмотрим на описание длительности для пользователей без подписки\n",
    "free_subscription['duration'].describe()"
   ]
  },
  {
   "cell_type": "markdown",
   "id": "4787f4f7",
   "metadata": {},
   "source": [
    "**ВЫВОДЫ**\n",
    "\n",
    "Мы объединили все три данных нам изначально датафрейма (`users`, `rides`, `subscriptions`) в один - `rent_data`. После чего этот датафрейм мы разбили на два: `free_subscription` - с данными о пользователях без подписки и `ultra_subscription` - с данными о пользователях с подпиской ultra.  \n",
    "\n",
    "Следущим шагом мы сравнили на гистограмме два этих датафреймы по параметрам дистанции поездок и длительности.  \n",
    "\n",
    "Сразу нужно отметить, что **число поездок среди пользователей без подписки почти в 2 раза больше, чем с подпиской**.\n",
    "\n",
    "***Сравнение расстояния поездок среди пользователей с подпиской и без*** \n",
    "\n",
    "*Диапазон расстояний*, которое проезжают пользователи без подписки шире - минимальные поездки фиксируются на 0.85 м и максимальные - на 7211 м, тогда как у пользователей с подпиской минимальное расстояние поездки составляет 244 м, а максимальное - 5699 м.  \n",
    "\n",
    "По визуализации *наблюдаются два пика* как у тех, кто пользуется подпиской, так и у тех, кто не пользуется. У пользователей с подпиской наблюдается первый небольшой пик в промежутке от 400 м до 1900 м и второй основной в промежутке от 2000 м до 5000 м. У пользователей без подписки присутствует аналогичный малый пик, но в диапазоне от 0 до 1300 м и также второй основной в диапазоне от 1500 м до 6000 м.\n",
    "\n",
    "Среднее распределение поездок для пользователей без подписки зафиксированно в диапазоне от 2367 м до 3906 м, а у пользователей с подпиской от 2785 м до 3560 м. Здесь мы также наблюдаем, что у пользователей без подписки диапазон расстояний шире.\n",
    "\n",
    "О том, что разнообразие значений по параметру расстояния у пользователей без подписки больше, чем у пользователей с подпиской, нам также говорят *значения стандартного отклонения: у пользователей без подписки оно больше на 410 м, чем у пользователей с подпиской*.  \n",
    "\n",
    "*Медианное расстояние* у пользователей без подписки - 3114 м, а с подпиской - 3148 м. Это говорит о том, что не смотря на то, что количество поездок среди пользователей c подпиской почти в 2 раза меньше, но они при этом проезжают в среднем на 34 метра больше.\n",
    "\n",
    "На гистограмме мы видим, что для пользователей с подпиской ultra основной пик по количеству поездок пришелся на дистанции около 3200м (около 700 поездок), тогда как у пользователей без подписки основной пик меньше и пришелся примерно на 2500м (почти 600 поездок). Обратная ситуация наблюдается на малом пике, где количество поездок у пользователей без подписки значительно больше, чем у тех, кто использует ultra. При этом малый пик у пользователей без подписки пришелся на 600 м (около 200 пользователей проехали эту дистанцию), а у тех, кто использует подписку ultra матый пик пришелся на 1100 м ( проехали около 80 пользователей).\n",
    " \n",
    "\n",
    "Важно обратить внимание на то, что количество *пользователей без подписки, которые берут самокат в аренду и сразу завершают поездку, чуть больше 100*.\n",
    "\n",
    "\n",
    "\n",
    "\n",
    "***Сравнение длительности поездок среди пользователей с подпиской и без***  \n",
    "\n",
    "По пикам мы видим, что пользователи с подпиской по времени меньше проезжают, чем пользователей без подписки.  \n",
    "\n",
    "Минимальное время поездки у пользователей ultra 3.7 мин и максимальное - 40.8 мин. У тех, кто не использует ultra минимальная длительность составляет 0.5 мин и максимальная - 34.9 мин.\n",
    "\n",
    "*Среднее распределение* по длительности у пользователей с подпиской - от 14.5 мин до 21.8, а у пользователей без подписки - от 12.9 до 21.5, то есть почти одинаковое.  \n",
    "\n",
    "*Медианное время* поездки для пользователей с подпиской - 18.1 мин и для тех, у кого нет подписки - 17.3. Разница небольшая, пользователи обеих категорий тратят в среднем одинаково по времени на поездки.  \n",
    "\n",
    "У пользователей без подписки пик количества поездок по времени приходится приблизительно на 17 мин, около 590 поездок. Среди тех, кто пользуется подпиской пик приходится на 18 мин, около 410 поездок.\n",
    "\n",
    "**Важно отметить, что на гистограмме наблюдается выброс: порядка 100 поездок среди пользователей без подписки продлилиcь менее 1 минуты.** Так как пользователей без подписки в 2 раза больше, поэтому мы видим этот выброс именно на данной категории пользователей. Предположительно, причиной такого выбраса могли стать либо технические неисправности самокатов, либо пользователи по личным причинам отказались от аренды."
   ]
  },
  {
   "cell_type": "markdown",
   "id": "402d620f",
   "metadata": {},
   "source": [
    "## Подсчёт выручки"
   ]
  },
  {
   "cell_type": "markdown",
   "id": "acaa8084",
   "metadata": {},
   "source": [
    "Создадим датафрейм с агрегированными данными о поездках на основе датафрейма с объединёнными данными из шага 4. В новом датафрейме посчитаем и добавим колонки с суммарным расстоянием, количеством поездок и суммарным временем для каждого пользователя за каждый месяц."
   ]
  },
  {
   "cell_type": "code",
   "execution_count": 51,
   "id": "53049e0a",
   "metadata": {},
   "outputs": [
    {
     "data": {
      "text/html": [
       "<div>\n",
       "<style scoped>\n",
       "    .dataframe tbody tr th:only-of-type {\n",
       "        vertical-align: middle;\n",
       "    }\n",
       "\n",
       "    .dataframe tbody tr th {\n",
       "        vertical-align: top;\n",
       "    }\n",
       "\n",
       "    .dataframe thead th {\n",
       "        text-align: right;\n",
       "    }\n",
       "</style>\n",
       "<table border=\"1\" class=\"dataframe\">\n",
       "  <thead>\n",
       "    <tr style=\"text-align: right;\">\n",
       "      <th></th>\n",
       "      <th>user_id</th>\n",
       "      <th>month_number</th>\n",
       "      <th>distance_sum</th>\n",
       "      <th>duration_sum</th>\n",
       "      <th>minute_price</th>\n",
       "      <th>rides_count</th>\n",
       "      <th>start_ride_price</th>\n",
       "      <th>subscription_fee</th>\n",
       "      <th>subscription_type</th>\n",
       "    </tr>\n",
       "  </thead>\n",
       "  <tbody>\n",
       "    <tr>\n",
       "      <th>0</th>\n",
       "      <td>1</td>\n",
       "      <td>1</td>\n",
       "      <td>7027.511294</td>\n",
       "      <td>42.0</td>\n",
       "      <td>6</td>\n",
       "      <td>2</td>\n",
       "      <td>0</td>\n",
       "      <td>199</td>\n",
       "      <td>ultra</td>\n",
       "    </tr>\n",
       "    <tr>\n",
       "      <th>1</th>\n",
       "      <td>1</td>\n",
       "      <td>4</td>\n",
       "      <td>754.159807</td>\n",
       "      <td>7.0</td>\n",
       "      <td>6</td>\n",
       "      <td>1</td>\n",
       "      <td>0</td>\n",
       "      <td>199</td>\n",
       "      <td>ultra</td>\n",
       "    </tr>\n",
       "    <tr>\n",
       "      <th>2</th>\n",
       "      <td>1</td>\n",
       "      <td>8</td>\n",
       "      <td>6723.470560</td>\n",
       "      <td>46.0</td>\n",
       "      <td>6</td>\n",
       "      <td>2</td>\n",
       "      <td>0</td>\n",
       "      <td>199</td>\n",
       "      <td>ultra</td>\n",
       "    </tr>\n",
       "    <tr>\n",
       "      <th>3</th>\n",
       "      <td>1</td>\n",
       "      <td>10</td>\n",
       "      <td>5809.911100</td>\n",
       "      <td>32.0</td>\n",
       "      <td>6</td>\n",
       "      <td>2</td>\n",
       "      <td>0</td>\n",
       "      <td>199</td>\n",
       "      <td>ultra</td>\n",
       "    </tr>\n",
       "    <tr>\n",
       "      <th>4</th>\n",
       "      <td>1</td>\n",
       "      <td>11</td>\n",
       "      <td>7003.499363</td>\n",
       "      <td>56.0</td>\n",
       "      <td>6</td>\n",
       "      <td>3</td>\n",
       "      <td>0</td>\n",
       "      <td>199</td>\n",
       "      <td>ultra</td>\n",
       "    </tr>\n",
       "    <tr>\n",
       "      <th>...</th>\n",
       "      <td>...</td>\n",
       "      <td>...</td>\n",
       "      <td>...</td>\n",
       "      <td>...</td>\n",
       "      <td>...</td>\n",
       "      <td>...</td>\n",
       "      <td>...</td>\n",
       "      <td>...</td>\n",
       "      <td>...</td>\n",
       "    </tr>\n",
       "    <tr>\n",
       "      <th>11326</th>\n",
       "      <td>1534</td>\n",
       "      <td>6</td>\n",
       "      <td>3409.468534</td>\n",
       "      <td>26.0</td>\n",
       "      <td>8</td>\n",
       "      <td>2</td>\n",
       "      <td>50</td>\n",
       "      <td>0</td>\n",
       "      <td>free</td>\n",
       "    </tr>\n",
       "    <tr>\n",
       "      <th>11327</th>\n",
       "      <td>1534</td>\n",
       "      <td>8</td>\n",
       "      <td>7622.453034</td>\n",
       "      <td>48.0</td>\n",
       "      <td>8</td>\n",
       "      <td>2</td>\n",
       "      <td>50</td>\n",
       "      <td>0</td>\n",
       "      <td>free</td>\n",
       "    </tr>\n",
       "    <tr>\n",
       "      <th>11328</th>\n",
       "      <td>1534</td>\n",
       "      <td>9</td>\n",
       "      <td>4928.173852</td>\n",
       "      <td>23.0</td>\n",
       "      <td>8</td>\n",
       "      <td>1</td>\n",
       "      <td>50</td>\n",
       "      <td>0</td>\n",
       "      <td>free</td>\n",
       "    </tr>\n",
       "    <tr>\n",
       "      <th>11329</th>\n",
       "      <td>1534</td>\n",
       "      <td>11</td>\n",
       "      <td>13350.015305</td>\n",
       "      <td>78.0</td>\n",
       "      <td>8</td>\n",
       "      <td>4</td>\n",
       "      <td>50</td>\n",
       "      <td>0</td>\n",
       "      <td>free</td>\n",
       "    </tr>\n",
       "    <tr>\n",
       "      <th>11330</th>\n",
       "      <td>1534</td>\n",
       "      <td>12</td>\n",
       "      <td>2371.711192</td>\n",
       "      <td>16.0</td>\n",
       "      <td>8</td>\n",
       "      <td>1</td>\n",
       "      <td>50</td>\n",
       "      <td>0</td>\n",
       "      <td>free</td>\n",
       "    </tr>\n",
       "  </tbody>\n",
       "</table>\n",
       "<p>11331 rows × 9 columns</p>\n",
       "</div>"
      ],
      "text/plain": [
       "       user_id  month_number  distance_sum  duration_sum  minute_price  \\\n",
       "0            1             1   7027.511294          42.0             6   \n",
       "1            1             4    754.159807           7.0             6   \n",
       "2            1             8   6723.470560          46.0             6   \n",
       "3            1            10   5809.911100          32.0             6   \n",
       "4            1            11   7003.499363          56.0             6   \n",
       "...        ...           ...           ...           ...           ...   \n",
       "11326     1534             6   3409.468534          26.0             8   \n",
       "11327     1534             8   7622.453034          48.0             8   \n",
       "11328     1534             9   4928.173852          23.0             8   \n",
       "11329     1534            11  13350.015305          78.0             8   \n",
       "11330     1534            12   2371.711192          16.0             8   \n",
       "\n",
       "       rides_count  start_ride_price  subscription_fee subscription_type  \n",
       "0                2                 0               199             ultra  \n",
       "1                1                 0               199             ultra  \n",
       "2                2                 0               199             ultra  \n",
       "3                2                 0               199             ultra  \n",
       "4                3                 0               199             ultra  \n",
       "...            ...               ...               ...               ...  \n",
       "11326            2                50                 0              free  \n",
       "11327            2                50                 0              free  \n",
       "11328            1                50                 0              free  \n",
       "11329            4                50                 0              free  \n",
       "11330            1                50                 0              free  \n",
       "\n",
       "[11331 rows x 9 columns]"
      ]
     },
     "execution_count": 51,
     "metadata": {},
     "output_type": "execute_result"
    }
   ],
   "source": [
    "#округлим значения в колонке duration, где указана продолжительность поездок, до целых чисел\n",
    "rent_data['duration'] = np.ceil(rent_data['duration'])\n",
    "\n",
    "#создаем сводную таблицу с аггрегированными данными о поездках\n",
    "data_rides = rent_data.pivot_table(index=['user_id', \n",
    "                                        'month_number'], \n",
    "                                 values=['subscription_type',\n",
    "                                         'minute_price',\n",
    "                                         'start_ride_price',\n",
    "                                         'subscription_fee',\n",
    "                                         'distance', \n",
    "                                         'duration'],\n",
    "                                 aggfunc={'subscription_type': 'first',\n",
    "                                          'month_number': 'count',\n",
    "                                         'minute_price': 'min',\n",
    "                                         'start_ride_price': 'min',\n",
    "                                         'subscription_fee': 'min',\n",
    "                                          'distance': 'sum', \n",
    "                                          'duration': 'sum'})\n",
    "\n",
    "#переименуем столбцы  и уберем мулииндекс\n",
    "#data_rides.сolumns = ['distance_sum', 'duration_sum', 'rides_count']\n",
    "data_rides = data_rides.rename(columns={'distance': 'distance_sum', \n",
    "                                        'duration': 'duration_sum',\n",
    "                                        'month_number': 'rides_count',}).reset_index()\n",
    "\n",
    "data_rides"
   ]
  },
  {
   "cell_type": "code",
   "execution_count": 52,
   "id": "748e7d5b",
   "metadata": {},
   "outputs": [
    {
     "name": "stdout",
     "output_type": "stream",
     "text": [
      "<class 'pandas.core.frame.DataFrame'>\n",
      "RangeIndex: 11331 entries, 0 to 11330\n",
      "Data columns (total 9 columns):\n",
      " #   Column             Non-Null Count  Dtype  \n",
      "---  ------             --------------  -----  \n",
      " 0   user_id            11331 non-null  int64  \n",
      " 1   month_number       11331 non-null  int64  \n",
      " 2   distance_sum       11331 non-null  float64\n",
      " 3   duration_sum       11331 non-null  float32\n",
      " 4   minute_price       11331 non-null  int32  \n",
      " 5   rides_count        11331 non-null  int64  \n",
      " 6   start_ride_price   11331 non-null  int32  \n",
      " 7   subscription_fee   11331 non-null  int32  \n",
      " 8   subscription_type  11331 non-null  object \n",
      "dtypes: float32(1), float64(1), int32(3), int64(3), object(1)\n",
      "memory usage: 619.8+ KB\n"
     ]
    }
   ],
   "source": [
    "#проверим общую информацию о новом датафрейме\n",
    "data_rides.info()"
   ]
  },
  {
   "cell_type": "markdown",
   "id": "efaac650",
   "metadata": {},
   "source": [
    "В новый датафрейм `data_rides` добавим столбец `revenue_sum` с помесячной выручкой, которую принёс каждый пользователь."
   ]
  },
  {
   "cell_type": "code",
   "execution_count": 53,
   "id": "55220d24",
   "metadata": {
    "scrolled": false
   },
   "outputs": [
    {
     "data": {
      "text/html": [
       "<div>\n",
       "<style scoped>\n",
       "    .dataframe tbody tr th:only-of-type {\n",
       "        vertical-align: middle;\n",
       "    }\n",
       "\n",
       "    .dataframe tbody tr th {\n",
       "        vertical-align: top;\n",
       "    }\n",
       "\n",
       "    .dataframe thead th {\n",
       "        text-align: right;\n",
       "    }\n",
       "</style>\n",
       "<table border=\"1\" class=\"dataframe\">\n",
       "  <thead>\n",
       "    <tr style=\"text-align: right;\">\n",
       "      <th></th>\n",
       "      <th>user_id</th>\n",
       "      <th>month_number</th>\n",
       "      <th>distance_sum</th>\n",
       "      <th>duration_sum</th>\n",
       "      <th>minute_price</th>\n",
       "      <th>rides_count</th>\n",
       "      <th>start_ride_price</th>\n",
       "      <th>subscription_fee</th>\n",
       "      <th>subscription_type</th>\n",
       "      <th>revenue_sum</th>\n",
       "    </tr>\n",
       "  </thead>\n",
       "  <tbody>\n",
       "    <tr>\n",
       "      <th>0</th>\n",
       "      <td>1</td>\n",
       "      <td>1</td>\n",
       "      <td>7027.511294</td>\n",
       "      <td>42.0</td>\n",
       "      <td>6</td>\n",
       "      <td>2</td>\n",
       "      <td>0</td>\n",
       "      <td>199</td>\n",
       "      <td>ultra</td>\n",
       "      <td>451.0</td>\n",
       "    </tr>\n",
       "    <tr>\n",
       "      <th>1</th>\n",
       "      <td>1</td>\n",
       "      <td>4</td>\n",
       "      <td>754.159807</td>\n",
       "      <td>7.0</td>\n",
       "      <td>6</td>\n",
       "      <td>1</td>\n",
       "      <td>0</td>\n",
       "      <td>199</td>\n",
       "      <td>ultra</td>\n",
       "      <td>241.0</td>\n",
       "    </tr>\n",
       "    <tr>\n",
       "      <th>2</th>\n",
       "      <td>1</td>\n",
       "      <td>8</td>\n",
       "      <td>6723.470560</td>\n",
       "      <td>46.0</td>\n",
       "      <td>6</td>\n",
       "      <td>2</td>\n",
       "      <td>0</td>\n",
       "      <td>199</td>\n",
       "      <td>ultra</td>\n",
       "      <td>475.0</td>\n",
       "    </tr>\n",
       "    <tr>\n",
       "      <th>3</th>\n",
       "      <td>1</td>\n",
       "      <td>10</td>\n",
       "      <td>5809.911100</td>\n",
       "      <td>32.0</td>\n",
       "      <td>6</td>\n",
       "      <td>2</td>\n",
       "      <td>0</td>\n",
       "      <td>199</td>\n",
       "      <td>ultra</td>\n",
       "      <td>391.0</td>\n",
       "    </tr>\n",
       "    <tr>\n",
       "      <th>4</th>\n",
       "      <td>1</td>\n",
       "      <td>11</td>\n",
       "      <td>7003.499363</td>\n",
       "      <td>56.0</td>\n",
       "      <td>6</td>\n",
       "      <td>3</td>\n",
       "      <td>0</td>\n",
       "      <td>199</td>\n",
       "      <td>ultra</td>\n",
       "      <td>535.0</td>\n",
       "    </tr>\n",
       "    <tr>\n",
       "      <th>...</th>\n",
       "      <td>...</td>\n",
       "      <td>...</td>\n",
       "      <td>...</td>\n",
       "      <td>...</td>\n",
       "      <td>...</td>\n",
       "      <td>...</td>\n",
       "      <td>...</td>\n",
       "      <td>...</td>\n",
       "      <td>...</td>\n",
       "      <td>...</td>\n",
       "    </tr>\n",
       "    <tr>\n",
       "      <th>11326</th>\n",
       "      <td>1534</td>\n",
       "      <td>6</td>\n",
       "      <td>3409.468534</td>\n",
       "      <td>26.0</td>\n",
       "      <td>8</td>\n",
       "      <td>2</td>\n",
       "      <td>50</td>\n",
       "      <td>0</td>\n",
       "      <td>free</td>\n",
       "      <td>308.0</td>\n",
       "    </tr>\n",
       "    <tr>\n",
       "      <th>11327</th>\n",
       "      <td>1534</td>\n",
       "      <td>8</td>\n",
       "      <td>7622.453034</td>\n",
       "      <td>48.0</td>\n",
       "      <td>8</td>\n",
       "      <td>2</td>\n",
       "      <td>50</td>\n",
       "      <td>0</td>\n",
       "      <td>free</td>\n",
       "      <td>484.0</td>\n",
       "    </tr>\n",
       "    <tr>\n",
       "      <th>11328</th>\n",
       "      <td>1534</td>\n",
       "      <td>9</td>\n",
       "      <td>4928.173852</td>\n",
       "      <td>23.0</td>\n",
       "      <td>8</td>\n",
       "      <td>1</td>\n",
       "      <td>50</td>\n",
       "      <td>0</td>\n",
       "      <td>free</td>\n",
       "      <td>234.0</td>\n",
       "    </tr>\n",
       "    <tr>\n",
       "      <th>11329</th>\n",
       "      <td>1534</td>\n",
       "      <td>11</td>\n",
       "      <td>13350.015305</td>\n",
       "      <td>78.0</td>\n",
       "      <td>8</td>\n",
       "      <td>4</td>\n",
       "      <td>50</td>\n",
       "      <td>0</td>\n",
       "      <td>free</td>\n",
       "      <td>824.0</td>\n",
       "    </tr>\n",
       "    <tr>\n",
       "      <th>11330</th>\n",
       "      <td>1534</td>\n",
       "      <td>12</td>\n",
       "      <td>2371.711192</td>\n",
       "      <td>16.0</td>\n",
       "      <td>8</td>\n",
       "      <td>1</td>\n",
       "      <td>50</td>\n",
       "      <td>0</td>\n",
       "      <td>free</td>\n",
       "      <td>178.0</td>\n",
       "    </tr>\n",
       "  </tbody>\n",
       "</table>\n",
       "<p>11331 rows × 10 columns</p>\n",
       "</div>"
      ],
      "text/plain": [
       "       user_id  month_number  distance_sum  duration_sum  minute_price  \\\n",
       "0            1             1   7027.511294          42.0             6   \n",
       "1            1             4    754.159807           7.0             6   \n",
       "2            1             8   6723.470560          46.0             6   \n",
       "3            1            10   5809.911100          32.0             6   \n",
       "4            1            11   7003.499363          56.0             6   \n",
       "...        ...           ...           ...           ...           ...   \n",
       "11326     1534             6   3409.468534          26.0             8   \n",
       "11327     1534             8   7622.453034          48.0             8   \n",
       "11328     1534             9   4928.173852          23.0             8   \n",
       "11329     1534            11  13350.015305          78.0             8   \n",
       "11330     1534            12   2371.711192          16.0             8   \n",
       "\n",
       "       rides_count  start_ride_price  subscription_fee subscription_type  \\\n",
       "0                2                 0               199             ultra   \n",
       "1                1                 0               199             ultra   \n",
       "2                2                 0               199             ultra   \n",
       "3                2                 0               199             ultra   \n",
       "4                3                 0               199             ultra   \n",
       "...            ...               ...               ...               ...   \n",
       "11326            2                50                 0              free   \n",
       "11327            2                50                 0              free   \n",
       "11328            1                50                 0              free   \n",
       "11329            4                50                 0              free   \n",
       "11330            1                50                 0              free   \n",
       "\n",
       "       revenue_sum  \n",
       "0            451.0  \n",
       "1            241.0  \n",
       "2            475.0  \n",
       "3            391.0  \n",
       "4            535.0  \n",
       "...            ...  \n",
       "11326        308.0  \n",
       "11327        484.0  \n",
       "11328        234.0  \n",
       "11329        824.0  \n",
       "11330        178.0  \n",
       "\n",
       "[11331 rows x 10 columns]"
      ]
     },
     "execution_count": 53,
     "metadata": {},
     "output_type": "execute_result"
    }
   ],
   "source": [
    "#добавляем колонку с выручкой\n",
    "data_rides['revenue_sum'] = (data_rides['start_ride_price'] * data_rides['rides_count']) + \\\n",
    "(data_rides['minute_price'] * data_rides['duration_sum']) + data_rides['subscription_fee']\n",
    "data_rides"
   ]
  },
  {
   "cell_type": "code",
   "execution_count": 54,
   "id": "58b5bb83",
   "metadata": {},
   "outputs": [
    {
     "data": {
      "text/plain": [
       "count    4533.000000\n",
       "mean      362.792191\n",
       "std        88.262737\n",
       "min       223.000000\n",
       "25%       301.000000\n",
       "50%       337.000000\n",
       "75%       409.000000\n",
       "max       955.000000\n",
       "Name: revenue_sum, dtype: float64"
      ]
     },
     "execution_count": 54,
     "metadata": {},
     "output_type": "execute_result"
    }
   ],
   "source": [
    "#посмотрим на описание выручки для пользоватей с подпиской ultra\n",
    "data_ultra = data_rides.query('subscription_type == \"ultra\"')\n",
    "data_ultra['revenue_sum'].describe()"
   ]
  },
  {
   "cell_type": "code",
   "execution_count": 55,
   "id": "42e6e242",
   "metadata": {},
   "outputs": [
    {
     "data": {
      "text/plain": [
       "count    6798.000000\n",
       "mean      328.641365\n",
       "std       183.868330\n",
       "min        58.000000\n",
       "25%       194.000000\n",
       "50%       274.000000\n",
       "75%       428.000000\n",
       "max      1444.000000\n",
       "Name: revenue_sum, dtype: float64"
      ]
     },
     "execution_count": 55,
     "metadata": {},
     "output_type": "execute_result"
    }
   ],
   "source": [
    "#посмотрим на описание выручки для пользоватей с подпиской free\n",
    "data_free = data_rides.query('subscription_type == \"free\"')\n",
    "data_free['revenue_sum'].describe()"
   ]
  },
  {
   "cell_type": "markdown",
   "id": "fd0ea358",
   "metadata": {},
   "source": [
    "**ВЫВОДЫ**\n",
    "\n",
    "Поездок среди пользователей с подпиской ultra на 2265 меньше, чем среди пользователей без подписки. Но при этом, медианная выручка с каждой поездки среди пользователей с подпиской выше и составляет 337 руб., тогда как среди пользователей без подписки она составляет 274 руб.  \n",
    "\n",
    "Средний диапазое по выручке среди подльзователей с подпиской менее широкий, чем у тех, кто не пользуется подпиской. Для пользователей без подписки диапазон по средней выручке составляет от 194 руб. до 428 руб., а для пользователей с подпиской - от 223 руб. до 409 руб.\n",
    "\n",
    "Если брать максимальную и минимальную выручку, то тут также прослежвается бОльший диапазон для пользователей без подписки - от 58 руб. до 1444 руб., в отличии от пользователей с подпиской - от 88 руб. до 955 руб."
   ]
  },
  {
   "cell_type": "markdown",
   "id": "41545ac0",
   "metadata": {},
   "source": [
    "## Проверка гипотез"
   ]
  },
  {
   "cell_type": "markdown",
   "id": "870390af",
   "metadata": {},
   "source": [
    "Продакт-менеджеры сервиса хотят увеличить количество пользователей с подпиской. Для этого они будут проводить различные акции, но перед этим нужно проверить несколько гипотез.  "
   ]
  },
  {
   "cell_type": "markdown",
   "id": "9f242fca",
   "metadata": {},
   "source": [
    "### Гипотеза №1"
   ]
  },
  {
   "cell_type": "markdown",
   "id": "d1cc26b4",
   "metadata": {},
   "source": [
    "**Тратят ли пользователи с подпиской больше времени на поездки?**  \n",
    "\n",
    "Если да, то пользователи с подпиской могут быть «выгоднее» для компании."
   ]
  },
  {
   "cell_type": "markdown",
   "id": "24907377",
   "metadata": {},
   "source": [
    "**Нулевая гипотеза H0:** Среднее время поезки пользователей с подпиской ultra = среднему времени поездки пользователей без подписки.  \n",
    "**Альтернативная гипотеза H1:** Среднее время поезки пользователей с подпиской ultra > среднего времени поездки пользователей без подписки.  "
   ]
  },
  {
   "cell_type": "code",
   "execution_count": 56,
   "id": "c42cf8c6",
   "metadata": {},
   "outputs": [
    {
     "data": {
      "text/plain": [
       "31.047722496974373"
      ]
     },
     "execution_count": 56,
     "metadata": {},
     "output_type": "execute_result"
    }
   ],
   "source": [
    "#вычисляем дисперсию продолжительности поездок для пользователей с подпиской \n",
    "statistics.variance(ultra_subscription['duration'])"
   ]
  },
  {
   "cell_type": "code",
   "execution_count": 57,
   "id": "9c3d13ae",
   "metadata": {},
   "outputs": [
    {
     "data": {
      "text/plain": [
       "40.02843444863358"
      ]
     },
     "execution_count": 57,
     "metadata": {},
     "output_type": "execute_result"
    }
   ],
   "source": [
    "#вычисляем дисперсию продолжительности поездок для пользователей без подписки\n",
    "statistics.variance(free_subscription['duration'])"
   ]
  },
  {
   "cell_type": "markdown",
   "id": "1442d499",
   "metadata": {},
   "source": [
    "Дисперсии значений продолжительности поездок `duration` двух выборок `ultra_subscription` (пользователи с подпиской) и `free_subscription` (пользователи без подписки) отличаются."
   ]
  },
  {
   "cell_type": "code",
   "execution_count": 58,
   "id": "c9ed46c4",
   "metadata": {},
   "outputs": [
    {
     "name": "stdout",
     "output_type": "stream",
     "text": [
      "p-значение: 5.674664677435323e-37\n",
      "Отвергаем нулевую гипотезу.\n"
     ]
    }
   ],
   "source": [
    "#уровень статистической значимости\n",
    "alpha = .05 \n",
    "\n",
    "#проведем ttest для проверки гипотезы о равенстве среднего двух генеральных совокупностей \n",
    "#в качестве альтернативной гипотезы выбираем правую одностороннюю: «наблюдаемое значение больше предполагаемого»\n",
    "#так как дисперсия числовых значений duration у двух выборок разная, то укажем это в параметре equal_var\n",
    "results = st.ttest_ind(\n",
    "    ultra_subscription['duration'],\n",
    "    free_subscription['duration'],\n",
    "    equal_var=False,\n",
    "    alternative='greater'\n",
    ")\n",
    "\n",
    "print('p-значение:', results.pvalue)\n",
    "\n",
    "if (results.pvalue < alpha):\n",
    "    print('Отвергаем нулевую гипотезу.')\n",
    "else:\n",
    "    print('Не получилось отвергнуть нулевую гипотезу.')"
   ]
  },
  {
   "cell_type": "markdown",
   "id": "6205080c",
   "metadata": {},
   "source": [
    "**ВЫВОД**  \n",
    "\n",
    "Pvalue оказалось меньше уровня статистической значимости, поэтому нулевая гипотеза отвергается. Пользователи c подпиской ultra тратят больше времени на поездки, чем пользователи без подписки."
   ]
  },
  {
   "cell_type": "markdown",
   "id": "5f5b03e8",
   "metadata": {},
   "source": [
    "### Гипотеза №2"
   ]
  },
  {
   "cell_type": "markdown",
   "id": "5a4c8bdb",
   "metadata": {},
   "source": [
    "**Можно ли сказать, что среднее расстояние, которое проезжают пользователи с подпиской за одну поездку, не превышает 3130 метров?**  \n",
    "\n",
    "Расстояние одной поездки в 3130 метров — оптимальное с точки зрения износа самоката. "
   ]
  },
  {
   "cell_type": "markdown",
   "id": "a347c12a",
   "metadata": {},
   "source": [
    "**Нулевая гипотеза H0:** Среднее расстояние, которое проезжаю пользователи с подпиской ultra, = 3130 метров.   \n",
    "**Альтернативная гипотеза H1:** Среднее расстояние, которое проезжаю пользователи с подпиской ultra, > оптимального - 3130 метров. "
   ]
  },
  {
   "cell_type": "code",
   "execution_count": 59,
   "id": "8f274e55",
   "metadata": {},
   "outputs": [
    {
     "name": "stdout",
     "output_type": "stream",
     "text": [
      "p-значение: 0.9195368847849785\n",
      "Не получилось отвергнуть нулевую гипотезу.\n"
     ]
    }
   ],
   "source": [
    "#интересующее нас значение одной поездки для проверки гипотезы\n",
    "interested_value = 3130\n",
    "\n",
    "#уровень статистической значимости\n",
    "alpha = .05 \n",
    "\n",
    "#проведем ttest для проверки гипотезы, в качестве альтернативной гипотезы выбираем правую одностороннюю:\n",
    "#«наблюдаемое значение меньше предполагаемого»\n",
    "results = st.ttest_1samp(\n",
    "    ultra_subscription['distance'],\n",
    "    interested_value,\n",
    "    alternative='greater'\n",
    ")\n",
    "\n",
    "print('p-значение:', results.pvalue)\n",
    "\n",
    "if (results.pvalue < alpha):\n",
    "    print('Отвергаем нулевую гипотезу.')\n",
    "else:\n",
    "    print('Не получилось отвергнуть нулевую гипотезу.')"
   ]
  },
  {
   "cell_type": "markdown",
   "id": "6404b3c1",
   "metadata": {},
   "source": [
    "**ВЫВОД**  \n",
    "\n",
    "Pvalue оказалось больше уровня статистической значимости, поэтому нулевая гипотеза не отвергается. Среднее расстояние, которое проезжают пользователи с подпиской ultra, превышает оптимальное расстояние 3130 метров."
   ]
  },
  {
   "cell_type": "markdown",
   "id": "1ff29917",
   "metadata": {},
   "source": [
    "### Гипотеза №3"
   ]
  },
  {
   "cell_type": "markdown",
   "id": "2fba53c7",
   "metadata": {},
   "source": [
    "**Будет ли помесячная выручка от пользователей с подпиской по месяцам выше, чем выручка от пользователей без подписки?**"
   ]
  },
  {
   "cell_type": "markdown",
   "id": "85bf8ccf",
   "metadata": {},
   "source": [
    "**Нулевая гипотеза H0:** Помесячная выручка от пользователей с подпиской по месяцам = выручке от пользователей без подписки.     \n",
    "**Альтернативная гипотеза H1:** Помесячная выручка от пользователей с подпиской по месяцам > выручки от пользователей без подписки. "
   ]
  },
  {
   "cell_type": "code",
   "execution_count": 60,
   "id": "e9e65ba6",
   "metadata": {},
   "outputs": [
    {
     "data": {
      "text/plain": [
       "7790.31073335113"
      ]
     },
     "execution_count": 60,
     "metadata": {},
     "output_type": "execute_result"
    }
   ],
   "source": [
    "#создадим датафрейм для пользователей с подпиской, где содержится информация о выручке\n",
    "df_ultra = data_rides.query('subscription_type == \"ultra\"')\n",
    "#вычисляем дисперсию значений выручки для пользователей с подпиской \n",
    "statistics.variance(df_ultra['revenue_sum'])"
   ]
  },
  {
   "cell_type": "code",
   "execution_count": 61,
   "id": "2a67ffd0",
   "metadata": {},
   "outputs": [
    {
     "data": {
      "text/plain": [
       "33807.56269650313"
      ]
     },
     "execution_count": 61,
     "metadata": {},
     "output_type": "execute_result"
    }
   ],
   "source": [
    "#создадим датафрейм для пользователей без подписки, где содержится информация о выручке\n",
    "df_free = data_rides.query('subscription_type == \"free\"')\n",
    "#вычисляем дисперсию значений выручки для пользователей без подписки\n",
    "statistics.variance(df_free['revenue_sum'])"
   ]
  },
  {
   "cell_type": "markdown",
   "id": "40e2fd0d",
   "metadata": {},
   "source": [
    "Дисперсии значений выручки `revenue_sum` двух выборок `df_ultra` (пользователи с подпиской) и `df_free` (пользователи без подписки) отличаются."
   ]
  },
  {
   "cell_type": "code",
   "execution_count": 62,
   "id": "177c5fbb",
   "metadata": {},
   "outputs": [
    {
     "name": "stdout",
     "output_type": "stream",
     "text": [
      "p-значение: 8.874140893976874e-40\n",
      "Отвергаем нулевую гипотезу.\n"
     ]
    }
   ],
   "source": [
    "#уровень статистической значимости\n",
    "alpha = .05 \n",
    "\n",
    "#проведем ttest для проверки гипотезы о равенстве среднего двух генеральных совокупностей \n",
    "#в качестве альтернативной гипотезы выбираем правую одностороннюю: «наблюдаемое значение больше предполагаемого»\n",
    "#так как дисперсия числовых значений revenue_sum у двух выборок разная, то укажем это в параметре equal_var\n",
    "results = st.ttest_ind(\n",
    "    df_ultra['revenue_sum'],\n",
    "    df_free['revenue_sum'],\n",
    "    equal_var=False,\n",
    "    alternative='greater'\n",
    ")\n",
    "\n",
    "print('p-значение:', results.pvalue)\n",
    "\n",
    "if (results.pvalue < alpha):\n",
    "    print('Отвергаем нулевую гипотезу.')\n",
    "else:\n",
    "    print('Не получилось отвергнуть нулевую гипотезу.')"
   ]
  },
  {
   "cell_type": "markdown",
   "id": "f54d8c53",
   "metadata": {},
   "source": [
    "**ВЫВОД**  \n",
    "\n",
    "Pvalue оказалось меньше уровня статистической значимости, поэтому нулевая гипотеза отвергается. Помесячная выручка от пользователей с подпиской ultra по месяцам больше, чем выручка от пользователей без подписки."
   ]
  },
  {
   "cell_type": "markdown",
   "id": "c1f9e681",
   "metadata": {},
   "source": [
    "### Ответ на вопрос"
   ]
  },
  {
   "cell_type": "markdown",
   "id": "2f0f0332",
   "metadata": {},
   "source": [
    "Представьте такую ситуацию: техническая команда сервиса обновила сервера, с которыми взаимодействует мобильное приложение. Она надеется, что из-за этого количество обращений в техподдержку значимо снизилось. Некоторый файл содержит для каждого пользователя данные о количестве обращений до обновления и после него. Какой тест вам понадобился бы для проверки этой гипотезы?"
   ]
  },
  {
   "cell_type": "markdown",
   "id": "288e0011",
   "metadata": {},
   "source": [
    "**ОТВЕТ**  \n",
    "\n",
    "Для проверки данной гипотезы необходимо воспользоваться **тестом для проверки гипотезы односторонней гипотезы**. У нас в распоряжении имеется файл, в котором содержится две выборки для каждого пользователя: количество обращений до обновления сервера и после. Требуется проверить, снизилось ли количество обращений в техподдрежку после обновления сервера, поэтому необходимо использовать левосторонний тест.\n",
    "\n",
    "\n",
    "В этом случае нулевая и альтернативная гипотеза будут сформулированы следующим образом:  \n",
    "**H0:** количество обращений после обновления сервера осталось прежним.   \n",
    "**H1:** количество обращений после обновления сервера снизилось.\n",
    "\n",
    "Для проверки односторонней гипотезы влево в Python применяется метод \n",
    "`scipy.stats.ttest_1samp()`, где в качестве аргумента необходимо указать `alternative='less'` для левосторонней гипотезы."
   ]
  },
  {
   "cell_type": "markdown",
   "id": "6b39ee29",
   "metadata": {},
   "source": [
    "## **Общие выводы**"
   ]
  },
  {
   "cell_type": "markdown",
   "id": "7bc3466f",
   "metadata": {},
   "source": [
    "Для исследования данных сервиса аренды самокатов были даны три датафрейма с информацией о пользователях - `users`, с информацией о поездках - `rides` и с информацией о подписках - `subscriptions`. До проведения исследовательского анализа была проделана следующая работа с данными:\n",
    "\n",
    "1. Проведена предобработка данных всех трех датафреймов. В результате предобработки данных были изменены типы данных как для того, что привести их к корректому, так и с целью экономии памяти. Также был создан дополнительный столбце с номером месяца. В датафрейме с информацией о пользователях `users` были обнаружены явные дубликты и, так как их доля составила менее 2% от общего числа данных датафрейма, то явные дубликаты были удалены из таблицы.  \n",
    "\n",
    "\n",
    "2. Был проведен исследовательский анализ данных по нескольким параметрам:\n",
    "\n",
    "  * **Частота встречаемости городов.** Пользователи из представленных в выборке городов практически равномерно распределены. Чуть больше пользователей в Пятигорске - 14%, меньше всего в Москве - 11%. Предположительно причинами такого распределения по городам может быть то, что в Пятигорске сезон аренды действует дольше из-за благопритных погодных условий, поэтому процент пользователей там больше, а в Москве сезон аренды длится примерно полгода, а также в Москве есть выбор средств передвижения (каршеринг, метро) и количество населения в Москве гораздо больше других городов, что усложняет езду на самокате.  \n",
    "  \n",
    "  * **Соотношение пользователей с подпиской и без подписки.** Пользователей без подписки на 8% больше, чем пользователей с подпиской ultra.  \n",
    "  \n",
    "  * **Возраст пользователей.** Больше всего самокаты арендует возрастная группа от 22 до 28 лет. Медианный возраст среди пользователей аренды - 25 лет. \n",
    "  \n",
    "  * **Расстояние, которое пользователь преодолел за одну поездку.** В среднем пользователи проезжают 3134 м. При этом наблюдается два пика среди пользователей по проезжаемым дистанциям: малый пик, который фиксирует поездки в диапазоне от 0 до 1400 метров и большой пик, который фиксирует поездки в диапазоне от 1500 до 6000 метров.\n",
    "  \n",
    "  * **Продолжительность поездок.** Медианная продолжительность поездок составляет 17.6 минут. В основном большинство ползователей берут самокаты в аренду на период от 13.5 до 21.7 минут. Но в данных также имеется выброс из 95 поездок, которые по длительности составили 30 секунд. Но какой-то причине, пользователи отказали от поездки и завершили аренду. Возможно это связанно с техническими неполадками самокатов или у пользователей поменялись планы. \n",
    "  \n",
    "  *Рекомендация: на выброс из 95 поездок продолжительностью в 30 сек стоит обратить внимание и проверить, так как проблема может быть в техническом состоянии самокатов или сбое в приложении.*  \n",
    "  \n",
    "  \n",
    "3. Три дадафрейма были объединены в один, на основе которого были созданы еще 2 дополнительных: с информацией о пользователях без подписки и о пользователях с подпиской ultra. После чего, были построены две визуализации:\n",
    "\n",
    "  * **C информацией о расстоянии поездок для пользователей обеих категорий - ultra и free.** Медианное расстояние поездок среди пользователей без подписки составляет 3114 метров и среди пользователей с подпиской - 3148 метров, хотя количество поездок среди тех, у кого имеется подписка почти в 2 раза меньше, чем среди тех, кто не пользуется подпиской. У обеих категорий также наблюдаются два пика: малый пик у пользователей с подпиской наблюдается в промежутке от 400 до 1900 метров и у пользователей без подписки - от 0 до 1300 метров; большой пик среди пользователей с подпиской наблюдается в промежутке от 2000 до 5000 метров и среди пользователей без подписки в диапазоне от 1500 до 6000 метров. Самое большое число поездок среди пользоателей без подписки было совершено на расстоние 3200м - около 700 поездок, а среди пользователей с подпиской на расстояние 2500м - около 600 поездок.\n",
    "  * **C информацией о времени поездок для пользователей обеих категорий - ultra и free.** Медианное время поездок среди пользователей с подпиской составляет 18.1 мин и среди пользователей без подписки - 17.3 мин. В среднем пользователи с подпиской ultra арендуют самокаты по длительности в диапазоне от 14.5 до 21.8 мин, а пользователи без подписки - от 12.9 до 21.5 мин, то есть средее время аренды у обеих категорий почти одинаковое. Чаще всего пользователи без подписки совершают поездки длительностью в 17 минут, таких поездок больше всего - около 590; пользователи с подпиской больше всего совершили поездок длительность 18 минут - 410 поездок.\n",
    "  \n",
    "  *Выброс в 95 поездок продолжительность менее 30 секунд, который мы ранее наблюдали на общей гистограмме, был замечен именно среди пользователей без подписки.*  \n",
    "  \n",
    "  \n",
    "4. Был создан новый датафрейм, на основе общего объединенного и были посчитаны и добавлены в него колонки с суммарным расстоянием - `distance_sum`, количеством поездок - `rides_count`, суммарным временем - `duration_sum` и выручкой - `revenue_sum` для каждого пользователя за каждый месяц.\n",
    "\n",
    "\n",
    "5. Была создана дополнительная колонка с подсчетом помесячной выручки от каждого пользователя. Поездок среди пользователей с подпиской ultra на 2265 меньше, чем среди пользователей без подписки. Но при этом, медианная выручка с каждой поездки среди пользователей с подпиской выше и составляет 337 руб., тогда как среди пользователей без подписки она составляет 274 руб.  \n",
    "\n",
    "\n",
    "**Главные выводы и ответы на поставленные вопросы**\n",
    "\n",
    "В результате исследовательского анализа было проверено три гипотезы с помощью ttest-ов. \n",
    "\n",
    "***1. Тратят ли пользователи с подпиской больше времени на поездки?***  \n",
    "\n",
    "*Нулевая гипотеза H0*: Среднее время поезки пользователей с подпиской ultra = среднему времени поездки пользователей без подписки.  \n",
    "*Альтернативная гипотеза H1*: Среднее время поезки пользователей с подпиской ultra > среднего времени поездки пользователей без подписки.  \n",
    "\n",
    "*Ответ*: Нулевая гипотеза отвергается, что означает, что пользователи c подпиской ultra тратят больше времени на поездки, чем пользователи без подписки.  \n",
    "\n",
    "***2.Можно ли сказать, что среднее расстояние, которое проезжают пользователи с подпиской за одну поездку, не превышает 3130 метров?***  \n",
    "\n",
    "*Нулевая гипотеза H0*: Среднее расстояние, которое проезжаю пользователи с подпиской ultra, = 3130 метров.  \n",
    "*Альтернативная гипотеза H1*: Среднее расстояние, которое проезжаю пользователи с подпиской ultra, < 3130 метров.  \n",
    "\n",
    "*Ответ*: Нулевая гипотеза не отвергается, то есть среднее расстояние, которое проезжают пользователи с подпиской ultra, не превышает 3130 метров.  \n",
    "\n",
    "***3.Будет ли помесячная выручка от пользователей с подпиской по месяцам выше, чем выручка от пользователей без подписки?***  \n",
    "\n",
    "*Нулевая гипотеза H0*: Помесячная выручка от пользователей с подпиской по месяцам = выручке от пользователей без подписки.  \n",
    "*Альтернативная гипотеза H1*: Помесячная выручка от пользователей с подпиской по месяцам > выручки от пользователей без подписки.  \n",
    "\n",
    "*Ответ*: Нулевая гипотеза отвергается, то есть помесячная выручка от пользователей с подпиской ultra по месяцам больше, чем выручка от пользователей без подписки.\n",
    "\n",
    "**В результате проделаного анализа очевидно можно сделать вывод, что пользователй с подпиской ultra приносят больше денег и выгодны компании, поэтом продакт-менеджеры должны увеличивать количество пользователей с подпиской (так как их сейчас меньше, чем пользователей без подписки), запуская акции.**"
   ]
  }
 ],
 "metadata": {
  "ExecuteTimeLog": [
   {
    "duration": 71,
    "start_time": "2024-02-04T16:38:17.241Z"
   },
   {
    "duration": 1185,
    "start_time": "2024-02-04T16:38:27.187Z"
   },
   {
    "duration": 37,
    "start_time": "2024-02-04T16:38:28.374Z"
   },
   {
    "duration": 14,
    "start_time": "2024-02-04T16:38:28.413Z"
   },
   {
    "duration": 12,
    "start_time": "2024-02-04T16:38:28.429Z"
   },
   {
    "duration": 267,
    "start_time": "2024-02-04T16:38:28.442Z"
   },
   {
    "duration": 110,
    "start_time": "2024-02-04T16:38:28.711Z"
   },
   {
    "duration": 11,
    "start_time": "2024-02-04T16:38:28.823Z"
   },
   {
    "duration": 12,
    "start_time": "2024-02-04T16:38:28.836Z"
   },
   {
    "duration": 374,
    "start_time": "2024-02-04T16:38:28.850Z"
   },
   {
    "duration": 27,
    "start_time": "2024-02-04T16:38:29.227Z"
   },
   {
    "duration": 6,
    "start_time": "2024-02-04T16:38:29.256Z"
   },
   {
    "duration": 19,
    "start_time": "2024-02-04T16:38:29.264Z"
   },
   {
    "duration": 20,
    "start_time": "2024-02-04T16:38:29.285Z"
   },
   {
    "duration": 6,
    "start_time": "2024-02-04T16:38:29.306Z"
   },
   {
    "duration": 10,
    "start_time": "2024-02-04T16:38:29.313Z"
   },
   {
    "duration": 17,
    "start_time": "2024-02-04T16:38:29.324Z"
   },
   {
    "duration": 27,
    "start_time": "2024-02-04T16:38:29.343Z"
   },
   {
    "duration": 5,
    "start_time": "2024-02-04T16:38:29.371Z"
   },
   {
    "duration": 24,
    "start_time": "2024-02-04T16:38:29.377Z"
   },
   {
    "duration": 11,
    "start_time": "2024-02-04T16:38:29.403Z"
   },
   {
    "duration": 11,
    "start_time": "2024-02-04T16:38:29.415Z"
   },
   {
    "duration": 3,
    "start_time": "2024-02-04T16:38:29.428Z"
   },
   {
    "duration": 13,
    "start_time": "2024-02-04T16:38:29.432Z"
   },
   {
    "duration": 33,
    "start_time": "2024-02-04T16:38:29.447Z"
   },
   {
    "duration": 7,
    "start_time": "2024-02-04T16:38:29.482Z"
   },
   {
    "duration": 13,
    "start_time": "2024-02-04T16:38:29.490Z"
   },
   {
    "duration": 10,
    "start_time": "2024-02-04T16:38:29.505Z"
   },
   {
    "duration": 7,
    "start_time": "2024-02-04T16:38:29.519Z"
   },
   {
    "duration": 11,
    "start_time": "2024-02-04T16:38:29.527Z"
   },
   {
    "duration": 323,
    "start_time": "2024-02-04T16:38:29.539Z"
   },
   {
    "duration": 6,
    "start_time": "2024-02-04T16:38:29.864Z"
   },
   {
    "duration": 163,
    "start_time": "2024-02-04T16:38:29.872Z"
   },
   {
    "duration": 18,
    "start_time": "2024-02-04T16:38:30.037Z"
   },
   {
    "duration": 263,
    "start_time": "2024-02-04T16:38:30.057Z"
   },
   {
    "duration": 15,
    "start_time": "2024-02-04T16:38:30.322Z"
   },
   {
    "duration": 310,
    "start_time": "2024-02-04T16:38:30.338Z"
   },
   {
    "duration": 18,
    "start_time": "2024-02-04T16:38:30.650Z"
   },
   {
    "duration": 305,
    "start_time": "2024-02-04T16:38:30.680Z"
   },
   {
    "duration": 16,
    "start_time": "2024-02-04T16:38:30.987Z"
   },
   {
    "duration": 45,
    "start_time": "2024-02-04T16:38:31.005Z"
   },
   {
    "duration": 66,
    "start_time": "2024-02-04T16:38:31.052Z"
   },
   {
    "duration": 27,
    "start_time": "2024-02-04T16:38:31.120Z"
   },
   {
    "duration": 68,
    "start_time": "2024-02-04T16:38:31.149Z"
   },
   {
    "duration": 37,
    "start_time": "2024-02-04T16:38:31.219Z"
   },
   {
    "duration": 322,
    "start_time": "2024-02-04T16:38:31.258Z"
   },
   {
    "duration": 8,
    "start_time": "2024-02-04T16:38:31.582Z"
   },
   {
    "duration": 53,
    "start_time": "2024-02-04T16:38:31.592Z"
   },
   {
    "duration": 287,
    "start_time": "2024-02-04T16:38:31.647Z"
   },
   {
    "duration": 7,
    "start_time": "2024-02-04T16:38:31.936Z"
   },
   {
    "duration": 32,
    "start_time": "2024-02-04T16:38:31.945Z"
   },
   {
    "duration": 89,
    "start_time": "2024-02-04T16:38:31.978Z"
   },
   {
    "duration": 27,
    "start_time": "2024-02-04T16:38:32.068Z"
   },
   {
    "duration": 61,
    "start_time": "2024-02-04T16:38:32.097Z"
   },
   {
    "duration": 30,
    "start_time": "2024-02-04T16:38:32.160Z"
   },
   {
    "duration": 46,
    "start_time": "2024-02-04T16:38:32.192Z"
   },
   {
    "duration": 53,
    "start_time": "2024-02-04T16:38:32.239Z"
   },
   {
    "duration": 68,
    "start_time": "2024-02-04T16:38:32.293Z"
   },
   {
    "duration": 134,
    "start_time": "2024-02-04T16:38:32.363Z"
   },
   {
    "duration": 31,
    "start_time": "2024-02-04T16:38:32.499Z"
   },
   {
    "duration": 6,
    "start_time": "2024-02-04T16:38:32.532Z"
   },
   {
    "duration": 7,
    "start_time": "2024-02-04T16:38:44.908Z"
   },
   {
    "duration": 82,
    "start_time": "2024-02-04T16:45:05.589Z"
   },
   {
    "duration": 61,
    "start_time": "2024-02-04T16:45:18.933Z"
   },
   {
    "duration": 28,
    "start_time": "2024-02-04T16:45:24.828Z"
   },
   {
    "duration": 41,
    "start_time": "2024-02-04T16:45:30.401Z"
   },
   {
    "duration": 9,
    "start_time": "2024-02-04T16:46:21.609Z"
   },
   {
    "duration": 107,
    "start_time": "2024-02-04T16:47:41.570Z"
   },
   {
    "duration": 13,
    "start_time": "2024-02-04T16:48:01.018Z"
   },
   {
    "duration": 25,
    "start_time": "2024-02-04T16:48:08.220Z"
   },
   {
    "duration": 10,
    "start_time": "2024-02-04T16:48:19.628Z"
   },
   {
    "duration": 69,
    "start_time": "2024-02-04T16:48:29.219Z"
   },
   {
    "duration": 64,
    "start_time": "2024-02-04T16:48:46.994Z"
   },
   {
    "duration": 10,
    "start_time": "2024-02-04T16:49:14.435Z"
   },
   {
    "duration": 9,
    "start_time": "2024-02-04T16:49:20.773Z"
   },
   {
    "duration": 446,
    "start_time": "2024-02-04T16:49:36.000Z"
   },
   {
    "duration": 414,
    "start_time": "2024-02-04T16:50:29.356Z"
   },
   {
    "duration": 18,
    "start_time": "2024-02-04T16:50:40.084Z"
   },
   {
    "duration": 39,
    "start_time": "2024-02-04T16:51:13.129Z"
   },
   {
    "duration": 4,
    "start_time": "2024-02-04T16:51:17.593Z"
   },
   {
    "duration": 6,
    "start_time": "2024-02-04T16:51:39.695Z"
   },
   {
    "duration": 63,
    "start_time": "2024-02-04T16:52:46.538Z"
   },
   {
    "duration": 6,
    "start_time": "2024-02-04T16:52:47.592Z"
   },
   {
    "duration": 1156,
    "start_time": "2024-02-04T16:52:51.606Z"
   },
   {
    "duration": 88,
    "start_time": "2024-02-04T16:52:53.137Z"
   },
   {
    "duration": 13,
    "start_time": "2024-02-04T16:52:53.499Z"
   },
   {
    "duration": 12,
    "start_time": "2024-02-04T16:52:53.752Z"
   },
   {
    "duration": 222,
    "start_time": "2024-02-04T16:52:54.021Z"
   },
   {
    "duration": 62,
    "start_time": "2024-02-04T16:52:55.181Z"
   },
   {
    "duration": 10,
    "start_time": "2024-02-04T16:52:55.363Z"
   },
   {
    "duration": 12,
    "start_time": "2024-02-04T16:52:55.700Z"
   },
   {
    "duration": 384,
    "start_time": "2024-02-04T16:52:55.943Z"
   },
   {
    "duration": 466,
    "start_time": "2024-02-04T16:52:56.611Z"
   },
   {
    "duration": 7,
    "start_time": "2024-02-04T16:52:57.079Z"
   },
   {
    "duration": 11,
    "start_time": "2024-02-04T16:52:57.552Z"
   },
   {
    "duration": 8,
    "start_time": "2024-02-04T16:53:02.253Z"
   },
   {
    "duration": 5,
    "start_time": "2024-02-04T16:53:02.982Z"
   },
   {
    "duration": 12,
    "start_time": "2024-02-04T16:53:03.308Z"
   },
   {
    "duration": 4,
    "start_time": "2024-02-04T16:53:03.684Z"
   },
   {
    "duration": 10,
    "start_time": "2024-02-04T16:53:04.285Z"
   },
   {
    "duration": 5,
    "start_time": "2024-02-04T16:53:04.575Z"
   },
   {
    "duration": 10,
    "start_time": "2024-02-04T16:53:05.002Z"
   },
   {
    "duration": 12,
    "start_time": "2024-02-04T16:53:07.597Z"
   },
   {
    "duration": 11,
    "start_time": "2024-02-04T16:53:11.329Z"
   },
   {
    "duration": 5,
    "start_time": "2024-02-04T16:53:12.103Z"
   },
   {
    "duration": 13,
    "start_time": "2024-02-04T16:53:15.476Z"
   },
   {
    "duration": 8,
    "start_time": "2024-02-04T16:53:18.781Z"
   },
   {
    "duration": 6,
    "start_time": "2024-02-04T16:53:19.247Z"
   },
   {
    "duration": 66,
    "start_time": "2024-02-04T19:26:27.455Z"
   },
   {
    "duration": 1145,
    "start_time": "2024-02-04T19:27:20.609Z"
   },
   {
    "duration": 63,
    "start_time": "2024-02-04T19:27:21.756Z"
   },
   {
    "duration": 13,
    "start_time": "2024-02-04T19:27:21.820Z"
   },
   {
    "duration": 37,
    "start_time": "2024-02-04T19:27:21.835Z"
   },
   {
    "duration": 245,
    "start_time": "2024-02-04T19:27:21.874Z"
   },
   {
    "duration": 66,
    "start_time": "2024-02-04T19:27:22.121Z"
   },
   {
    "duration": 10,
    "start_time": "2024-02-04T19:27:22.189Z"
   },
   {
    "duration": 28,
    "start_time": "2024-02-04T19:27:22.201Z"
   },
   {
    "duration": 417,
    "start_time": "2024-02-04T19:27:22.230Z"
   },
   {
    "duration": 47,
    "start_time": "2024-02-04T19:27:22.651Z"
   },
   {
    "duration": 7,
    "start_time": "2024-02-04T19:27:22.700Z"
   },
   {
    "duration": 27,
    "start_time": "2024-02-04T19:27:22.708Z"
   },
   {
    "duration": 12,
    "start_time": "2024-02-04T19:27:22.737Z"
   },
   {
    "duration": 7,
    "start_time": "2024-02-04T19:27:22.751Z"
   },
   {
    "duration": 20,
    "start_time": "2024-02-04T19:27:22.760Z"
   },
   {
    "duration": 13,
    "start_time": "2024-02-04T19:27:22.782Z"
   },
   {
    "duration": 30,
    "start_time": "2024-02-04T19:27:22.796Z"
   },
   {
    "duration": 26,
    "start_time": "2024-02-04T19:27:22.828Z"
   },
   {
    "duration": 36,
    "start_time": "2024-02-04T19:27:22.856Z"
   },
   {
    "duration": 17,
    "start_time": "2024-02-04T19:27:22.894Z"
   },
   {
    "duration": 18,
    "start_time": "2024-02-04T19:27:22.913Z"
   },
   {
    "duration": 13,
    "start_time": "2024-02-04T19:27:22.933Z"
   },
   {
    "duration": 14,
    "start_time": "2024-02-04T19:27:22.948Z"
   },
   {
    "duration": 6,
    "start_time": "2024-02-04T19:27:22.963Z"
   },
   {
    "duration": 14,
    "start_time": "2024-02-04T19:27:22.971Z"
   },
   {
    "duration": 22,
    "start_time": "2024-02-04T19:27:22.986Z"
   },
   {
    "duration": 19,
    "start_time": "2024-02-04T19:27:23.010Z"
   },
   {
    "duration": 8,
    "start_time": "2024-02-04T19:27:23.033Z"
   },
   {
    "duration": 4,
    "start_time": "2024-02-04T19:27:23.043Z"
   },
   {
    "duration": 283,
    "start_time": "2024-02-04T19:27:23.049Z"
   },
   {
    "duration": 6,
    "start_time": "2024-02-04T19:27:23.334Z"
   },
   {
    "duration": 153,
    "start_time": "2024-02-04T19:27:23.341Z"
   },
   {
    "duration": 18,
    "start_time": "2024-02-04T19:27:23.496Z"
   },
   {
    "duration": 229,
    "start_time": "2024-02-04T19:27:23.515Z"
   },
   {
    "duration": 15,
    "start_time": "2024-02-04T19:27:23.746Z"
   },
   {
    "duration": 262,
    "start_time": "2024-02-04T19:27:23.763Z"
   },
   {
    "duration": 16,
    "start_time": "2024-02-04T19:27:24.027Z"
   },
   {
    "duration": 311,
    "start_time": "2024-02-04T19:27:24.045Z"
   },
   {
    "duration": 16,
    "start_time": "2024-02-04T19:27:24.357Z"
   },
   {
    "duration": 9,
    "start_time": "2024-02-04T19:27:24.380Z"
   },
   {
    "duration": 26,
    "start_time": "2024-02-04T19:27:24.390Z"
   },
   {
    "duration": 12,
    "start_time": "2024-02-04T19:27:24.418Z"
   },
   {
    "duration": 22,
    "start_time": "2024-02-04T19:27:24.431Z"
   },
   {
    "duration": 42,
    "start_time": "2024-02-04T19:27:24.455Z"
   },
   {
    "duration": 284,
    "start_time": "2024-02-04T19:27:24.499Z"
   },
   {
    "duration": 8,
    "start_time": "2024-02-04T19:27:24.785Z"
   },
   {
    "duration": 17,
    "start_time": "2024-02-04T19:27:24.795Z"
   },
   {
    "duration": 269,
    "start_time": "2024-02-04T19:27:24.813Z"
   },
   {
    "duration": 8,
    "start_time": "2024-02-04T19:27:25.083Z"
   },
   {
    "duration": 38,
    "start_time": "2024-02-04T19:27:25.092Z"
   },
   {
    "duration": 56,
    "start_time": "2024-02-04T19:27:25.131Z"
   },
   {
    "duration": 13,
    "start_time": "2024-02-04T19:27:25.189Z"
   },
   {
    "duration": 19,
    "start_time": "2024-02-04T19:27:25.203Z"
   },
   {
    "duration": 18,
    "start_time": "2024-02-04T19:27:25.224Z"
   },
   {
    "duration": 59,
    "start_time": "2024-02-04T19:27:25.243Z"
   },
   {
    "duration": 7,
    "start_time": "2024-02-04T19:27:25.304Z"
   },
   {
    "duration": 9,
    "start_time": "2024-02-04T19:27:25.313Z"
   },
   {
    "duration": 19,
    "start_time": "2024-02-04T19:27:25.323Z"
   },
   {
    "duration": 44,
    "start_time": "2024-02-04T19:27:25.343Z"
   },
   {
    "duration": 5,
    "start_time": "2024-02-04T19:27:25.389Z"
   },
   {
    "duration": 14,
    "start_time": "2024-02-04T19:27:39.586Z"
   },
   {
    "duration": 117,
    "start_time": "2024-02-04T20:09:46.704Z"
   },
   {
    "duration": 21,
    "start_time": "2024-02-04T20:10:01.972Z"
   },
   {
    "duration": 17,
    "start_time": "2024-02-04T20:10:16.390Z"
   },
   {
    "duration": 16,
    "start_time": "2024-02-04T20:10:28.202Z"
   },
   {
    "duration": 8,
    "start_time": "2024-02-04T20:11:07.537Z"
   },
   {
    "duration": 5,
    "start_time": "2024-02-04T20:11:25.040Z"
   },
   {
    "duration": 11,
    "start_time": "2024-02-04T20:13:00.840Z"
   },
   {
    "duration": 7,
    "start_time": "2024-02-04T20:13:09.820Z"
   },
   {
    "duration": 27,
    "start_time": "2024-02-04T20:16:53.749Z"
   },
   {
    "duration": 14,
    "start_time": "2024-02-04T20:17:12.320Z"
   },
   {
    "duration": 11,
    "start_time": "2024-02-04T20:17:41.767Z"
   },
   {
    "duration": 7,
    "start_time": "2024-02-04T20:17:57.907Z"
   },
   {
    "duration": 94,
    "start_time": "2024-02-04T20:22:39.009Z"
   },
   {
    "duration": 8,
    "start_time": "2024-02-04T20:22:52.673Z"
   },
   {
    "duration": 1504,
    "start_time": "2024-02-04T20:23:02.644Z"
   },
   {
    "duration": 12,
    "start_time": "2024-02-04T20:23:18.647Z"
   },
   {
    "duration": 4,
    "start_time": "2024-02-04T20:23:21.457Z"
   },
   {
    "duration": 30,
    "start_time": "2024-02-04T20:23:46.560Z"
   },
   {
    "duration": 13,
    "start_time": "2024-02-04T20:24:19.131Z"
   }
  ],
  "kernelspec": {
   "display_name": "Python 3 (ipykernel)",
   "language": "python",
   "name": "python3"
  },
  "language_info": {
   "codemirror_mode": {
    "name": "ipython",
    "version": 3
   },
   "file_extension": ".py",
   "mimetype": "text/x-python",
   "name": "python",
   "nbconvert_exporter": "python",
   "pygments_lexer": "ipython3",
   "version": "3.9.18"
  },
  "toc": {
   "base_numbering": 1,
   "nav_menu": {
    "height": "277px",
    "width": "343px"
   },
   "number_sections": true,
   "sideBar": true,
   "skip_h1_title": true,
   "title_cell": "Table of Contents",
   "title_sidebar": "Содержание",
   "toc_cell": false,
   "toc_position": {
    "height": "calc(100% - 180px)",
    "left": "10px",
    "top": "150px",
    "width": "287.969px"
   },
   "toc_section_display": true,
   "toc_window_display": true
  }
 },
 "nbformat": 4,
 "nbformat_minor": 5
}
