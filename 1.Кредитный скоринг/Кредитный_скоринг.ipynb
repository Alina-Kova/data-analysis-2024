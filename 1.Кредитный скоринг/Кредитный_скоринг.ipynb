{
 "cells": [
  {
   "cell_type": "markdown",
   "id": "386f2ae7",
   "metadata": {
    "deletable": false,
    "editable": false,
    "id": "386f2ae7"
   },
   "source": [
    "# Исследование надежности заемщиков\n"
   ]
  },
  {
   "cell_type": "markdown",
   "id": "ffe86f65",
   "metadata": {
    "deletable": false,
    "editable": false,
    "id": "ffe86f65"
   },
   "source": [
    "Во второй части проекта вы выполните шаги 3 и 4. Их вручную проверит ревьюер.\n",
    "Чтобы вам не пришлось писать код заново для шагов 1 и 2, мы добавили авторские решения в ячейки с кодом. \n",
    "\n"
   ]
  },
  {
   "cell_type": "markdown",
   "id": "26613308",
   "metadata": {
    "deletable": false,
    "editable": false,
    "id": "26613308"
   },
   "source": [
    "## Откройте таблицу и изучите общую информацию о данных"
   ]
  },
  {
   "cell_type": "markdown",
   "id": "3c9f838e",
   "metadata": {
    "deletable": false,
    "editable": false,
    "id": "3c9f838e"
   },
   "source": [
    "**Задание 1. Импортируйте библиотеку pandas. Считайте данные из csv-файла в датафрейм и сохраните в переменную `data`. Путь к файлу:**\n",
    "\n",
    "`/datasets/data.csv`"
   ]
  },
  {
   "cell_type": "code",
   "execution_count": 1,
   "id": "77a68a90",
   "metadata": {
    "deletable": false,
    "id": "77a68a90"
   },
   "outputs": [],
   "source": [
    "import pandas as pd\n",
    "\n",
    "#try:\n",
    "#    data = pd.read_csv('/datasets/data.csv')\n",
    "#except:\n",
    "#    data = pd.read_csv('https://code.s3.yandex.net/datasets/data.csv')\n",
    "    \n",
    "data = pd.read_csv('/Users/alinavayner/Desktop/Data_Analyst/Проекты/проект_2_ кредитный_скоринг/data.csv')\n",
    "data.to_csv('data.csv', index=False) "
   ]
  },
  {
   "cell_type": "markdown",
   "id": "45365635",
   "metadata": {
    "deletable": false,
    "editable": false,
    "id": "45365635"
   },
   "source": [
    "**Задание 2. Выведите первые 20 строчек датафрейма `data` на экран.**"
   ]
  },
  {
   "cell_type": "code",
   "execution_count": 2,
   "id": "b0451a9a",
   "metadata": {
    "deletable": false,
    "id": "b0451a9a",
    "outputId": "1a8f3ef2-d323-4ec2-ddf7-89670b5944c4"
   },
   "outputs": [
    {
     "data": {
      "text/html": [
       "<div>\n",
       "<style scoped>\n",
       "    .dataframe tbody tr th:only-of-type {\n",
       "        vertical-align: middle;\n",
       "    }\n",
       "\n",
       "    .dataframe tbody tr th {\n",
       "        vertical-align: top;\n",
       "    }\n",
       "\n",
       "    .dataframe thead th {\n",
       "        text-align: right;\n",
       "    }\n",
       "</style>\n",
       "<table border=\"1\" class=\"dataframe\">\n",
       "  <thead>\n",
       "    <tr style=\"text-align: right;\">\n",
       "      <th></th>\n",
       "      <th>children</th>\n",
       "      <th>days_employed</th>\n",
       "      <th>dob_years</th>\n",
       "      <th>education</th>\n",
       "      <th>education_id</th>\n",
       "      <th>family_status</th>\n",
       "      <th>family_status_id</th>\n",
       "      <th>gender</th>\n",
       "      <th>income_type</th>\n",
       "      <th>debt</th>\n",
       "      <th>total_income</th>\n",
       "      <th>purpose</th>\n",
       "    </tr>\n",
       "  </thead>\n",
       "  <tbody>\n",
       "    <tr>\n",
       "      <th>0</th>\n",
       "      <td>1</td>\n",
       "      <td>-8437.673028</td>\n",
       "      <td>42</td>\n",
       "      <td>высшее</td>\n",
       "      <td>0</td>\n",
       "      <td>женат / замужем</td>\n",
       "      <td>0</td>\n",
       "      <td>F</td>\n",
       "      <td>сотрудник</td>\n",
       "      <td>0</td>\n",
       "      <td>253875.639453</td>\n",
       "      <td>покупка жилья</td>\n",
       "    </tr>\n",
       "    <tr>\n",
       "      <th>1</th>\n",
       "      <td>1</td>\n",
       "      <td>-4024.803754</td>\n",
       "      <td>36</td>\n",
       "      <td>среднее</td>\n",
       "      <td>1</td>\n",
       "      <td>женат / замужем</td>\n",
       "      <td>0</td>\n",
       "      <td>F</td>\n",
       "      <td>сотрудник</td>\n",
       "      <td>0</td>\n",
       "      <td>112080.014102</td>\n",
       "      <td>приобретение автомобиля</td>\n",
       "    </tr>\n",
       "    <tr>\n",
       "      <th>2</th>\n",
       "      <td>0</td>\n",
       "      <td>-5623.422610</td>\n",
       "      <td>33</td>\n",
       "      <td>Среднее</td>\n",
       "      <td>1</td>\n",
       "      <td>женат / замужем</td>\n",
       "      <td>0</td>\n",
       "      <td>M</td>\n",
       "      <td>сотрудник</td>\n",
       "      <td>0</td>\n",
       "      <td>145885.952297</td>\n",
       "      <td>покупка жилья</td>\n",
       "    </tr>\n",
       "    <tr>\n",
       "      <th>3</th>\n",
       "      <td>3</td>\n",
       "      <td>-4124.747207</td>\n",
       "      <td>32</td>\n",
       "      <td>среднее</td>\n",
       "      <td>1</td>\n",
       "      <td>женат / замужем</td>\n",
       "      <td>0</td>\n",
       "      <td>M</td>\n",
       "      <td>сотрудник</td>\n",
       "      <td>0</td>\n",
       "      <td>267628.550329</td>\n",
       "      <td>дополнительное образование</td>\n",
       "    </tr>\n",
       "    <tr>\n",
       "      <th>4</th>\n",
       "      <td>0</td>\n",
       "      <td>340266.072047</td>\n",
       "      <td>53</td>\n",
       "      <td>среднее</td>\n",
       "      <td>1</td>\n",
       "      <td>гражданский брак</td>\n",
       "      <td>1</td>\n",
       "      <td>F</td>\n",
       "      <td>пенсионер</td>\n",
       "      <td>0</td>\n",
       "      <td>158616.077870</td>\n",
       "      <td>сыграть свадьбу</td>\n",
       "    </tr>\n",
       "    <tr>\n",
       "      <th>5</th>\n",
       "      <td>0</td>\n",
       "      <td>-926.185831</td>\n",
       "      <td>27</td>\n",
       "      <td>высшее</td>\n",
       "      <td>0</td>\n",
       "      <td>гражданский брак</td>\n",
       "      <td>1</td>\n",
       "      <td>M</td>\n",
       "      <td>компаньон</td>\n",
       "      <td>0</td>\n",
       "      <td>255763.565419</td>\n",
       "      <td>покупка жилья</td>\n",
       "    </tr>\n",
       "    <tr>\n",
       "      <th>6</th>\n",
       "      <td>0</td>\n",
       "      <td>-2879.202052</td>\n",
       "      <td>43</td>\n",
       "      <td>высшее</td>\n",
       "      <td>0</td>\n",
       "      <td>женат / замужем</td>\n",
       "      <td>0</td>\n",
       "      <td>F</td>\n",
       "      <td>компаньон</td>\n",
       "      <td>0</td>\n",
       "      <td>240525.971920</td>\n",
       "      <td>операции с жильем</td>\n",
       "    </tr>\n",
       "    <tr>\n",
       "      <th>7</th>\n",
       "      <td>0</td>\n",
       "      <td>-152.779569</td>\n",
       "      <td>50</td>\n",
       "      <td>СРЕДНЕЕ</td>\n",
       "      <td>1</td>\n",
       "      <td>женат / замужем</td>\n",
       "      <td>0</td>\n",
       "      <td>M</td>\n",
       "      <td>сотрудник</td>\n",
       "      <td>0</td>\n",
       "      <td>135823.934197</td>\n",
       "      <td>образование</td>\n",
       "    </tr>\n",
       "    <tr>\n",
       "      <th>8</th>\n",
       "      <td>2</td>\n",
       "      <td>-6929.865299</td>\n",
       "      <td>35</td>\n",
       "      <td>ВЫСШЕЕ</td>\n",
       "      <td>0</td>\n",
       "      <td>гражданский брак</td>\n",
       "      <td>1</td>\n",
       "      <td>F</td>\n",
       "      <td>сотрудник</td>\n",
       "      <td>0</td>\n",
       "      <td>95856.832424</td>\n",
       "      <td>на проведение свадьбы</td>\n",
       "    </tr>\n",
       "    <tr>\n",
       "      <th>9</th>\n",
       "      <td>0</td>\n",
       "      <td>-2188.756445</td>\n",
       "      <td>41</td>\n",
       "      <td>среднее</td>\n",
       "      <td>1</td>\n",
       "      <td>женат / замужем</td>\n",
       "      <td>0</td>\n",
       "      <td>M</td>\n",
       "      <td>сотрудник</td>\n",
       "      <td>0</td>\n",
       "      <td>144425.938277</td>\n",
       "      <td>покупка жилья для семьи</td>\n",
       "    </tr>\n",
       "    <tr>\n",
       "      <th>10</th>\n",
       "      <td>2</td>\n",
       "      <td>-4171.483647</td>\n",
       "      <td>36</td>\n",
       "      <td>высшее</td>\n",
       "      <td>0</td>\n",
       "      <td>женат / замужем</td>\n",
       "      <td>0</td>\n",
       "      <td>M</td>\n",
       "      <td>компаньон</td>\n",
       "      <td>0</td>\n",
       "      <td>113943.491460</td>\n",
       "      <td>покупка недвижимости</td>\n",
       "    </tr>\n",
       "    <tr>\n",
       "      <th>11</th>\n",
       "      <td>0</td>\n",
       "      <td>-792.701887</td>\n",
       "      <td>40</td>\n",
       "      <td>среднее</td>\n",
       "      <td>1</td>\n",
       "      <td>женат / замужем</td>\n",
       "      <td>0</td>\n",
       "      <td>F</td>\n",
       "      <td>сотрудник</td>\n",
       "      <td>0</td>\n",
       "      <td>77069.234271</td>\n",
       "      <td>покупка коммерческой недвижимости</td>\n",
       "    </tr>\n",
       "    <tr>\n",
       "      <th>12</th>\n",
       "      <td>0</td>\n",
       "      <td>NaN</td>\n",
       "      <td>65</td>\n",
       "      <td>среднее</td>\n",
       "      <td>1</td>\n",
       "      <td>гражданский брак</td>\n",
       "      <td>1</td>\n",
       "      <td>M</td>\n",
       "      <td>пенсионер</td>\n",
       "      <td>0</td>\n",
       "      <td>NaN</td>\n",
       "      <td>сыграть свадьбу</td>\n",
       "    </tr>\n",
       "    <tr>\n",
       "      <th>13</th>\n",
       "      <td>0</td>\n",
       "      <td>-1846.641941</td>\n",
       "      <td>54</td>\n",
       "      <td>неоконченное высшее</td>\n",
       "      <td>2</td>\n",
       "      <td>женат / замужем</td>\n",
       "      <td>0</td>\n",
       "      <td>F</td>\n",
       "      <td>сотрудник</td>\n",
       "      <td>0</td>\n",
       "      <td>130458.228857</td>\n",
       "      <td>приобретение автомобиля</td>\n",
       "    </tr>\n",
       "    <tr>\n",
       "      <th>14</th>\n",
       "      <td>0</td>\n",
       "      <td>-1844.956182</td>\n",
       "      <td>56</td>\n",
       "      <td>высшее</td>\n",
       "      <td>0</td>\n",
       "      <td>гражданский брак</td>\n",
       "      <td>1</td>\n",
       "      <td>F</td>\n",
       "      <td>компаньон</td>\n",
       "      <td>1</td>\n",
       "      <td>165127.911772</td>\n",
       "      <td>покупка жилой недвижимости</td>\n",
       "    </tr>\n",
       "    <tr>\n",
       "      <th>15</th>\n",
       "      <td>1</td>\n",
       "      <td>-972.364419</td>\n",
       "      <td>26</td>\n",
       "      <td>среднее</td>\n",
       "      <td>1</td>\n",
       "      <td>женат / замужем</td>\n",
       "      <td>0</td>\n",
       "      <td>F</td>\n",
       "      <td>сотрудник</td>\n",
       "      <td>0</td>\n",
       "      <td>116820.904450</td>\n",
       "      <td>строительство собственной недвижимости</td>\n",
       "    </tr>\n",
       "    <tr>\n",
       "      <th>16</th>\n",
       "      <td>0</td>\n",
       "      <td>-1719.934226</td>\n",
       "      <td>35</td>\n",
       "      <td>среднее</td>\n",
       "      <td>1</td>\n",
       "      <td>женат / замужем</td>\n",
       "      <td>0</td>\n",
       "      <td>F</td>\n",
       "      <td>сотрудник</td>\n",
       "      <td>0</td>\n",
       "      <td>289202.704229</td>\n",
       "      <td>недвижимость</td>\n",
       "    </tr>\n",
       "    <tr>\n",
       "      <th>17</th>\n",
       "      <td>0</td>\n",
       "      <td>-2369.999720</td>\n",
       "      <td>33</td>\n",
       "      <td>высшее</td>\n",
       "      <td>0</td>\n",
       "      <td>гражданский брак</td>\n",
       "      <td>1</td>\n",
       "      <td>M</td>\n",
       "      <td>сотрудник</td>\n",
       "      <td>0</td>\n",
       "      <td>90410.586745</td>\n",
       "      <td>строительство недвижимости</td>\n",
       "    </tr>\n",
       "    <tr>\n",
       "      <th>18</th>\n",
       "      <td>0</td>\n",
       "      <td>400281.136913</td>\n",
       "      <td>53</td>\n",
       "      <td>среднее</td>\n",
       "      <td>1</td>\n",
       "      <td>вдовец / вдова</td>\n",
       "      <td>2</td>\n",
       "      <td>F</td>\n",
       "      <td>пенсионер</td>\n",
       "      <td>0</td>\n",
       "      <td>56823.777243</td>\n",
       "      <td>на покупку подержанного автомобиля</td>\n",
       "    </tr>\n",
       "    <tr>\n",
       "      <th>19</th>\n",
       "      <td>0</td>\n",
       "      <td>-10038.818549</td>\n",
       "      <td>48</td>\n",
       "      <td>СРЕДНЕЕ</td>\n",
       "      <td>1</td>\n",
       "      <td>в разводе</td>\n",
       "      <td>3</td>\n",
       "      <td>F</td>\n",
       "      <td>сотрудник</td>\n",
       "      <td>0</td>\n",
       "      <td>242831.107982</td>\n",
       "      <td>на покупку своего автомобиля</td>\n",
       "    </tr>\n",
       "  </tbody>\n",
       "</table>\n",
       "</div>"
      ],
      "text/plain": [
       "    children  days_employed  dob_years            education  education_id  \\\n",
       "0          1   -8437.673028         42               высшее             0   \n",
       "1          1   -4024.803754         36              среднее             1   \n",
       "2          0   -5623.422610         33              Среднее             1   \n",
       "3          3   -4124.747207         32              среднее             1   \n",
       "4          0  340266.072047         53              среднее             1   \n",
       "5          0    -926.185831         27               высшее             0   \n",
       "6          0   -2879.202052         43               высшее             0   \n",
       "7          0    -152.779569         50              СРЕДНЕЕ             1   \n",
       "8          2   -6929.865299         35               ВЫСШЕЕ             0   \n",
       "9          0   -2188.756445         41              среднее             1   \n",
       "10         2   -4171.483647         36               высшее             0   \n",
       "11         0    -792.701887         40              среднее             1   \n",
       "12         0            NaN         65              среднее             1   \n",
       "13         0   -1846.641941         54  неоконченное высшее             2   \n",
       "14         0   -1844.956182         56               высшее             0   \n",
       "15         1    -972.364419         26              среднее             1   \n",
       "16         0   -1719.934226         35              среднее             1   \n",
       "17         0   -2369.999720         33               высшее             0   \n",
       "18         0  400281.136913         53              среднее             1   \n",
       "19         0  -10038.818549         48              СРЕДНЕЕ             1   \n",
       "\n",
       "       family_status  family_status_id gender income_type  debt  \\\n",
       "0    женат / замужем                 0      F   сотрудник     0   \n",
       "1    женат / замужем                 0      F   сотрудник     0   \n",
       "2    женат / замужем                 0      M   сотрудник     0   \n",
       "3    женат / замужем                 0      M   сотрудник     0   \n",
       "4   гражданский брак                 1      F   пенсионер     0   \n",
       "5   гражданский брак                 1      M   компаньон     0   \n",
       "6    женат / замужем                 0      F   компаньон     0   \n",
       "7    женат / замужем                 0      M   сотрудник     0   \n",
       "8   гражданский брак                 1      F   сотрудник     0   \n",
       "9    женат / замужем                 0      M   сотрудник     0   \n",
       "10   женат / замужем                 0      M   компаньон     0   \n",
       "11   женат / замужем                 0      F   сотрудник     0   \n",
       "12  гражданский брак                 1      M   пенсионер     0   \n",
       "13   женат / замужем                 0      F   сотрудник     0   \n",
       "14  гражданский брак                 1      F   компаньон     1   \n",
       "15   женат / замужем                 0      F   сотрудник     0   \n",
       "16   женат / замужем                 0      F   сотрудник     0   \n",
       "17  гражданский брак                 1      M   сотрудник     0   \n",
       "18    вдовец / вдова                 2      F   пенсионер     0   \n",
       "19         в разводе                 3      F   сотрудник     0   \n",
       "\n",
       "     total_income                                 purpose  \n",
       "0   253875.639453                           покупка жилья  \n",
       "1   112080.014102                 приобретение автомобиля  \n",
       "2   145885.952297                           покупка жилья  \n",
       "3   267628.550329              дополнительное образование  \n",
       "4   158616.077870                         сыграть свадьбу  \n",
       "5   255763.565419                           покупка жилья  \n",
       "6   240525.971920                       операции с жильем  \n",
       "7   135823.934197                             образование  \n",
       "8    95856.832424                   на проведение свадьбы  \n",
       "9   144425.938277                 покупка жилья для семьи  \n",
       "10  113943.491460                    покупка недвижимости  \n",
       "11   77069.234271       покупка коммерческой недвижимости  \n",
       "12            NaN                         сыграть свадьбу  \n",
       "13  130458.228857                 приобретение автомобиля  \n",
       "14  165127.911772              покупка жилой недвижимости  \n",
       "15  116820.904450  строительство собственной недвижимости  \n",
       "16  289202.704229                            недвижимость  \n",
       "17   90410.586745              строительство недвижимости  \n",
       "18   56823.777243      на покупку подержанного автомобиля  \n",
       "19  242831.107982            на покупку своего автомобиля  "
      ]
     },
     "execution_count": 2,
     "metadata": {},
     "output_type": "execute_result"
    }
   ],
   "source": [
    "data.head(20)"
   ]
  },
  {
   "cell_type": "markdown",
   "id": "0ed8f27f",
   "metadata": {
    "deletable": false,
    "editable": false,
    "id": "0ed8f27f"
   },
   "source": [
    "**Задание 3. Выведите основную информацию о датафрейме с помощью метода `info()`.**"
   ]
  },
  {
   "cell_type": "code",
   "execution_count": 3,
   "id": "ab3f863b",
   "metadata": {
    "deletable": false,
    "id": "ab3f863b",
    "outputId": "15376089-8dad-46c9-b520-c05248d43158"
   },
   "outputs": [
    {
     "name": "stdout",
     "output_type": "stream",
     "text": [
      "<class 'pandas.core.frame.DataFrame'>\n",
      "RangeIndex: 21525 entries, 0 to 21524\n",
      "Data columns (total 12 columns):\n",
      " #   Column            Non-Null Count  Dtype  \n",
      "---  ------            --------------  -----  \n",
      " 0   children          21525 non-null  int64  \n",
      " 1   days_employed     19351 non-null  float64\n",
      " 2   dob_years         21525 non-null  int64  \n",
      " 3   education         21525 non-null  object \n",
      " 4   education_id      21525 non-null  int64  \n",
      " 5   family_status     21525 non-null  object \n",
      " 6   family_status_id  21525 non-null  int64  \n",
      " 7   gender            21525 non-null  object \n",
      " 8   income_type       21525 non-null  object \n",
      " 9   debt              21525 non-null  int64  \n",
      " 10  total_income      19351 non-null  float64\n",
      " 11  purpose           21525 non-null  object \n",
      "dtypes: float64(2), int64(5), object(5)\n",
      "memory usage: 2.0+ MB\n"
     ]
    }
   ],
   "source": [
    "data.info()"
   ]
  },
  {
   "cell_type": "code",
   "execution_count": null,
   "id": "27e59967",
   "metadata": {},
   "outputs": [],
   "source": []
  },
  {
   "cell_type": "markdown",
   "id": "60e3e22d",
   "metadata": {
    "deletable": false,
    "editable": false,
    "id": "60e3e22d"
   },
   "source": [
    "## Предобработка данных"
   ]
  },
  {
   "cell_type": "markdown",
   "id": "03dc170c",
   "metadata": {
    "deletable": false,
    "editable": false,
    "id": "03dc170c"
   },
   "source": [
    "### Удаление пропусков"
   ]
  },
  {
   "cell_type": "markdown",
   "id": "a4f54eef",
   "metadata": {
    "deletable": false,
    "editable": false,
    "id": "a4f54eef"
   },
   "source": [
    "**Задание 4. Выведите количество пропущенных значений для каждого столбца. Используйте комбинацию двух методов.**"
   ]
  },
  {
   "cell_type": "code",
   "execution_count": 4,
   "id": "2dc372b2",
   "metadata": {
    "deletable": false,
    "id": "2dc372b2",
    "outputId": "81f4d817-781c-465c-ed15-91ce4446810d"
   },
   "outputs": [
    {
     "data": {
      "text/plain": [
       "children               0\n",
       "days_employed       2174\n",
       "dob_years              0\n",
       "education              0\n",
       "education_id           0\n",
       "family_status          0\n",
       "family_status_id       0\n",
       "gender                 0\n",
       "income_type            0\n",
       "debt                   0\n",
       "total_income        2174\n",
       "purpose                0\n",
       "dtype: int64"
      ]
     },
     "execution_count": 4,
     "metadata": {},
     "output_type": "execute_result"
    }
   ],
   "source": [
    "data.isna().sum()\n"
   ]
  },
  {
   "cell_type": "markdown",
   "id": "14f011b1",
   "metadata": {
    "deletable": false,
    "editable": false,
    "id": "14f011b1"
   },
   "source": [
    "**Задание 5. В двух столбцах есть пропущенные значения. Один из них — `days_employed`. Пропуски в этом столбце вы обработаете на следующем этапе. Другой столбец с пропущенными значениями — `total_income` — хранит данные о доходах. На сумму дохода сильнее всего влияет тип занятости, поэтому заполнить пропуски в этом столбце нужно медианным значением по каждому типу из столбца `income_type`. Например, у человека с типом занятости `сотрудник` пропуск в столбце `total_income` должен быть заполнен медианным доходом среди всех записей с тем же типом.**"
   ]
  },
  {
   "cell_type": "code",
   "execution_count": 5,
   "id": "bdabfb6e",
   "metadata": {
    "deletable": false,
    "id": "bdabfb6e"
   },
   "outputs": [],
   "source": [
    "for t in data['income_type'].unique():\n",
    "    data.loc[(data['income_type'] == t) & (data['total_income'].isna()), 'total_income'] = \\\n",
    "    data.loc[(data['income_type'] == t), 'total_income'].median()"
   ]
  },
  {
   "cell_type": "markdown",
   "id": "5be34059",
   "metadata": {
    "deletable": false,
    "editable": false,
    "id": "5be34059"
   },
   "source": [
    "### Обработка аномальных значений"
   ]
  },
  {
   "cell_type": "markdown",
   "id": "a87606cb",
   "metadata": {
    "deletable": false,
    "editable": false,
    "id": "a87606cb"
   },
   "source": [
    "**Задание 6. В данных могут встречаться артефакты (аномалии) — значения, которые не отражают действительность и появились по какой-то ошибке. таким артефактом будет отрицательное количество дней трудового стажа в столбце `days_employed`. Для реальных данных это нормально. Обработайте значения в этом столбце: замените все отрицательные значения положительными с помощью метода `abs()`.**"
   ]
  },
  {
   "cell_type": "code",
   "execution_count": 6,
   "id": "020c46cc",
   "metadata": {
    "deletable": false,
    "id": "020c46cc"
   },
   "outputs": [],
   "source": [
    "data['days_employed'] = data['days_employed'].abs()"
   ]
  },
  {
   "cell_type": "markdown",
   "id": "45538a3a",
   "metadata": {
    "deletable": false,
    "editable": false,
    "id": "45538a3a"
   },
   "source": [
    "**Задание 7. Для каждого типа занятости выведите медианное значение трудового стажа `days_employed` в днях.**"
   ]
  },
  {
   "cell_type": "code",
   "execution_count": 7,
   "id": "cd3e6328",
   "metadata": {
    "deletable": false,
    "id": "cd3e6328",
    "outputId": "801ef80e-522b-4668-f34e-565af7432bcf"
   },
   "outputs": [
    {
     "data": {
      "text/plain": [
       "income_type\n",
       "безработный        366413.652744\n",
       "в декрете            3296.759962\n",
       "госслужащий          2689.368353\n",
       "компаньон            1547.382223\n",
       "пенсионер          365213.306266\n",
       "предприниматель       520.848083\n",
       "сотрудник            1574.202821\n",
       "студент               578.751554\n",
       "Name: days_employed, dtype: float64"
      ]
     },
     "execution_count": 7,
     "metadata": {},
     "output_type": "execute_result"
    }
   ],
   "source": [
    "data.groupby('income_type')['days_employed'].agg('median')"
   ]
  },
  {
   "cell_type": "markdown",
   "id": "90c5f058",
   "metadata": {
    "deletable": false,
    "editable": false,
    "id": "90c5f058"
   },
   "source": [
    "У двух типов (безработные и пенсионеры) получатся аномально большие значения. Исправить такие значения сложно, поэтому оставьте их как есть."
   ]
  },
  {
   "cell_type": "markdown",
   "id": "9652e50d",
   "metadata": {
    "deletable": false,
    "editable": false,
    "id": "9652e50d"
   },
   "source": [
    "**Задание 8. Выведите перечень уникальных значений столбца `children`.**"
   ]
  },
  {
   "cell_type": "code",
   "execution_count": 8,
   "id": "dbb37b8e",
   "metadata": {
    "deletable": false,
    "id": "dbb37b8e",
    "outputId": "6975b15c-7f95-4697-d16d-a0c79b657b03"
   },
   "outputs": [
    {
     "data": {
      "text/plain": [
       "array([ 1,  0,  3,  2, -1,  4, 20,  5])"
      ]
     },
     "execution_count": 8,
     "metadata": {},
     "output_type": "execute_result"
    }
   ],
   "source": [
    "data['children'].unique()"
   ]
  },
  {
   "cell_type": "markdown",
   "id": "2b8b0715",
   "metadata": {
    "deletable": false,
    "editable": false,
    "id": "2b8b0715"
   },
   "source": [
    "**Задание 9. В столбце `children` есть два аномальных значения. Удалите строки, в которых встречаются такие аномальные значения из датафрейма `data`.**"
   ]
  },
  {
   "cell_type": "code",
   "execution_count": 9,
   "id": "20009df8",
   "metadata": {
    "deletable": false,
    "id": "20009df8"
   },
   "outputs": [],
   "source": [
    "data = data[(data['children'] != -1) & (data['children'] != 20)]"
   ]
  },
  {
   "cell_type": "markdown",
   "id": "8c6ac9f1",
   "metadata": {
    "deletable": false,
    "editable": false,
    "id": "8c6ac9f1"
   },
   "source": [
    "**Задание 10. Ещё раз выведите перечень уникальных значений столбца `children`, чтобы убедиться, что артефакты удалены.**"
   ]
  },
  {
   "cell_type": "code",
   "execution_count": 10,
   "id": "07337b81",
   "metadata": {
    "deletable": false,
    "id": "07337b81",
    "outputId": "b2097101-d49d-44d9-901b-32a65c9463d1"
   },
   "outputs": [
    {
     "data": {
      "text/plain": [
       "array([1, 0, 3, 2, 4, 5])"
      ]
     },
     "execution_count": 10,
     "metadata": {},
     "output_type": "execute_result"
    }
   ],
   "source": [
    "data['children'].unique()"
   ]
  },
  {
   "cell_type": "markdown",
   "id": "ee3f52d4",
   "metadata": {
    "deletable": false,
    "editable": false,
    "id": "ee3f52d4"
   },
   "source": [
    "### Удаление пропусков (продолжение)"
   ]
  },
  {
   "cell_type": "markdown",
   "id": "a700b0e4",
   "metadata": {
    "deletable": false,
    "editable": false,
    "id": "a700b0e4"
   },
   "source": [
    "**Задание 11. Заполните пропуски в столбце `days_employed` медианными значениями по каждого типа занятости `income_type`.**"
   ]
  },
  {
   "cell_type": "code",
   "execution_count": 11,
   "id": "61946b83",
   "metadata": {
    "deletable": false,
    "id": "61946b83"
   },
   "outputs": [],
   "source": [
    "for t in data['income_type'].unique():\n",
    "    data.loc[(data['income_type'] == t) & (data['days_employed'].isna()), 'days_employed'] = \\\n",
    "    data.loc[(data['income_type'] == t), 'days_employed'].median()"
   ]
  },
  {
   "cell_type": "markdown",
   "id": "550dcd9b",
   "metadata": {
    "deletable": false,
    "editable": false,
    "id": "550dcd9b"
   },
   "source": [
    "**Задание 12. Убедитесь, что все пропуски заполнены. Проверьте себя и ещё раз выведите количество пропущенных значений для каждого столбца с помощью двух методов.**"
   ]
  },
  {
   "cell_type": "code",
   "execution_count": 12,
   "id": "937c7014",
   "metadata": {
    "deletable": false,
    "id": "937c7014",
    "outputId": "8da1e4e1-358e-4e87-98c9-f261bce0a7b2"
   },
   "outputs": [
    {
     "data": {
      "text/plain": [
       "children            0\n",
       "days_employed       0\n",
       "dob_years           0\n",
       "education           0\n",
       "education_id        0\n",
       "family_status       0\n",
       "family_status_id    0\n",
       "gender              0\n",
       "income_type         0\n",
       "debt                0\n",
       "total_income        0\n",
       "purpose             0\n",
       "dtype: int64"
      ]
     },
     "execution_count": 12,
     "metadata": {},
     "output_type": "execute_result"
    }
   ],
   "source": [
    "data.isna().sum()"
   ]
  },
  {
   "cell_type": "markdown",
   "id": "d522e295",
   "metadata": {
    "deletable": false,
    "editable": false,
    "id": "d522e295"
   },
   "source": [
    "### Изменение типов данных"
   ]
  },
  {
   "cell_type": "markdown",
   "id": "c229c581",
   "metadata": {
    "deletable": false,
    "editable": false,
    "id": "c229c581"
   },
   "source": [
    "**Задание 13. Замените вещественный тип данных в столбце `total_income` на целочисленный с помощью метода `astype()`.**"
   ]
  },
  {
   "cell_type": "code",
   "execution_count": 13,
   "id": "31036462",
   "metadata": {
    "deletable": false,
    "id": "31036462"
   },
   "outputs": [],
   "source": [
    "data['total_income'] = data['total_income'].astype(int)"
   ]
  },
  {
   "cell_type": "markdown",
   "id": "b8e3d1d9",
   "metadata": {
    "deletable": false,
    "editable": false,
    "id": "b8e3d1d9"
   },
   "source": [
    "### Обработка дубликатов"
   ]
  },
  {
   "cell_type": "markdown",
   "id": "9be53c49",
   "metadata": {
    "deletable": false,
    "editable": false,
    "id": "9be53c49"
   },
   "source": [
    "**Задание 14. Обработайте неявные дубликаты в столбце `education`. В этом столбце есть одни и те же значения, но записанные по-разному: с использованием заглавных и строчных букв. Приведите их к нижнему регистру.**"
   ]
  },
  {
   "cell_type": "code",
   "execution_count": 14,
   "id": "d89e73e1",
   "metadata": {
    "deletable": false,
    "id": "d89e73e1"
   },
   "outputs": [],
   "source": [
    "data['education'] = data['education'].str.lower()"
   ]
  },
  {
   "cell_type": "markdown",
   "id": "01d4500e",
   "metadata": {
    "deletable": false,
    "editable": false,
    "id": "01d4500e"
   },
   "source": [
    "**Задание 15. Выведите на экран количество строк-дубликатов в данных. Если такие строки присутствуют, удалите их.**"
   ]
  },
  {
   "cell_type": "code",
   "execution_count": 15,
   "id": "e10efb23",
   "metadata": {
    "deletable": false,
    "id": "e10efb23",
    "outputId": "9684deba-1934-42d1-99e1-cda61740f822"
   },
   "outputs": [
    {
     "data": {
      "text/plain": [
       "71"
      ]
     },
     "execution_count": 15,
     "metadata": {},
     "output_type": "execute_result"
    }
   ],
   "source": [
    "data.duplicated().sum()"
   ]
  },
  {
   "cell_type": "code",
   "execution_count": 16,
   "id": "df853f20",
   "metadata": {
    "deletable": false,
    "id": "df853f20"
   },
   "outputs": [],
   "source": [
    "data = data.drop_duplicates()"
   ]
  },
  {
   "cell_type": "markdown",
   "id": "627be38f",
   "metadata": {
    "deletable": false,
    "editable": false,
    "id": "627be38f"
   },
   "source": [
    "### Категоризация данных"
   ]
  },
  {
   "cell_type": "markdown",
   "id": "4684c3e0",
   "metadata": {
    "deletable": false,
    "editable": false,
    "id": "4684c3e0"
   },
   "source": [
    "**Задание 16. На основании диапазонов, указанных ниже, создайте в датафрейме `data` столбец `total_income_category` с категориями:**\n",
    "\n",
    "- 0–30000 — `'E'`;\n",
    "- 30001–50000 — `'D'`;\n",
    "- 50001–200000 — `'C'`;\n",
    "- 200001–1000000 — `'B'`;\n",
    "- 1000001 и выше — `'A'`.\n",
    "\n",
    "\n",
    "**Например, кредитополучателю с доходом 25000 нужно назначить категорию `'E'`, а клиенту, получающему 235000, — `'B'`. Используйте собственную функцию с именем `categorize_income()` и метод `apply()`.**"
   ]
  },
  {
   "cell_type": "code",
   "execution_count": 17,
   "id": "78965238",
   "metadata": {
    "deletable": false,
    "id": "78965238"
   },
   "outputs": [],
   "source": [
    "def categorize_income(income):\n",
    "    try:\n",
    "        if 0 <= income <= 30000:\n",
    "            return 'E'\n",
    "        elif 30001 <= income <= 50000:\n",
    "            return 'D'\n",
    "        elif 50001 <= income <= 200000:\n",
    "            return 'C'\n",
    "        elif 200001 <= income <= 1000000:\n",
    "            return 'B'\n",
    "        elif income >= 1000001:\n",
    "            return 'A'\n",
    "    except:\n",
    "        pass"
   ]
  },
  {
   "cell_type": "code",
   "execution_count": 18,
   "id": "0980ada1",
   "metadata": {
    "deletable": false,
    "id": "0980ada1"
   },
   "outputs": [],
   "source": [
    "data['total_income_category'] = data['total_income'].apply(categorize_income)"
   ]
  },
  {
   "cell_type": "markdown",
   "id": "9917bba0",
   "metadata": {
    "deletable": false,
    "editable": false,
    "id": "9917bba0"
   },
   "source": [
    "**Задание 17. Выведите на экран перечень уникальных целей взятия кредита из столбца `purpose`.**"
   ]
  },
  {
   "cell_type": "code",
   "execution_count": 19,
   "id": "ee07b65e",
   "metadata": {
    "deletable": false,
    "id": "ee07b65e",
    "outputId": "673c12d9-7d7e-4ae0-9812-c622c89dd244"
   },
   "outputs": [
    {
     "data": {
      "text/plain": [
       "array(['покупка жилья', 'приобретение автомобиля',\n",
       "       'дополнительное образование', 'сыграть свадьбу',\n",
       "       'операции с жильем', 'образование', 'на проведение свадьбы',\n",
       "       'покупка жилья для семьи', 'покупка недвижимости',\n",
       "       'покупка коммерческой недвижимости', 'покупка жилой недвижимости',\n",
       "       'строительство собственной недвижимости', 'недвижимость',\n",
       "       'строительство недвижимости', 'на покупку подержанного автомобиля',\n",
       "       'на покупку своего автомобиля',\n",
       "       'операции с коммерческой недвижимостью',\n",
       "       'строительство жилой недвижимости', 'жилье',\n",
       "       'операции со своей недвижимостью', 'автомобили',\n",
       "       'заняться образованием', 'сделка с подержанным автомобилем',\n",
       "       'получение образования', 'автомобиль', 'свадьба',\n",
       "       'получение дополнительного образования', 'покупка своего жилья',\n",
       "       'операции с недвижимостью', 'получение высшего образования',\n",
       "       'свой автомобиль', 'сделка с автомобилем',\n",
       "       'профильное образование', 'высшее образование',\n",
       "       'покупка жилья для сдачи', 'на покупку автомобиля', 'ремонт жилью',\n",
       "       'заняться высшим образованием'], dtype=object)"
      ]
     },
     "execution_count": 19,
     "metadata": {},
     "output_type": "execute_result"
    }
   ],
   "source": [
    "data['purpose'].unique()"
   ]
  },
  {
   "cell_type": "markdown",
   "id": "52b79d56",
   "metadata": {
    "deletable": false,
    "editable": false,
    "id": "52b79d56"
   },
   "source": [
    "**Задание 18. Создайте функцию, которая на основании данных из столбца `purpose` сформирует новый столбец `purpose_category`, в который войдут следующие категории:**\n",
    "\n",
    "- `'операции с автомобилем'`,\n",
    "- `'операции с недвижимостью'`,\n",
    "- `'проведение свадьбы'`,\n",
    "- `'получение образования'`.\n",
    "\n",
    "**Например, если в столбце `purpose` находится подстрока `'на покупку автомобиля'`, то в столбце `purpose_category` должна появиться строка `'операции с автомобилем'`.**\n",
    "\n",
    "**Используйте собственную функцию с именем `categorize_purpose()` и метод `apply()`. Изучите данные в столбце `purpose` и определите, какие подстроки помогут вам правильно определить категорию.**"
   ]
  },
  {
   "cell_type": "code",
   "execution_count": 20,
   "id": "be41da5d",
   "metadata": {
    "deletable": false,
    "id": "be41da5d"
   },
   "outputs": [],
   "source": [
    "def categorize_purpose(row):\n",
    "    try:\n",
    "        if 'автом' in row:\n",
    "            return 'операции с автомобилем'\n",
    "        elif 'жил' in row or 'недвиж' in row:\n",
    "            return 'операции с недвижимостью'\n",
    "        elif 'свад' in row:\n",
    "            return 'проведение свадьбы'\n",
    "        elif 'образов' in row:\n",
    "            return 'получение образования'\n",
    "    except:\n",
    "        return 'нет категории'"
   ]
  },
  {
   "cell_type": "code",
   "execution_count": 21,
   "id": "94c4a19a",
   "metadata": {
    "deletable": false,
    "id": "94c4a19a"
   },
   "outputs": [
    {
     "data": {
      "text/html": [
       "<div>\n",
       "<style scoped>\n",
       "    .dataframe tbody tr th:only-of-type {\n",
       "        vertical-align: middle;\n",
       "    }\n",
       "\n",
       "    .dataframe tbody tr th {\n",
       "        vertical-align: top;\n",
       "    }\n",
       "\n",
       "    .dataframe thead th {\n",
       "        text-align: right;\n",
       "    }\n",
       "</style>\n",
       "<table border=\"1\" class=\"dataframe\">\n",
       "  <thead>\n",
       "    <tr style=\"text-align: right;\">\n",
       "      <th></th>\n",
       "      <th>children</th>\n",
       "      <th>days_employed</th>\n",
       "      <th>dob_years</th>\n",
       "      <th>education</th>\n",
       "      <th>education_id</th>\n",
       "      <th>family_status</th>\n",
       "      <th>family_status_id</th>\n",
       "      <th>gender</th>\n",
       "      <th>income_type</th>\n",
       "      <th>debt</th>\n",
       "      <th>total_income</th>\n",
       "      <th>purpose</th>\n",
       "      <th>total_income_category</th>\n",
       "      <th>purpose_category</th>\n",
       "    </tr>\n",
       "  </thead>\n",
       "  <tbody>\n",
       "    <tr>\n",
       "      <th>0</th>\n",
       "      <td>1</td>\n",
       "      <td>8437.673028</td>\n",
       "      <td>42</td>\n",
       "      <td>высшее</td>\n",
       "      <td>0</td>\n",
       "      <td>женат / замужем</td>\n",
       "      <td>0</td>\n",
       "      <td>F</td>\n",
       "      <td>сотрудник</td>\n",
       "      <td>0</td>\n",
       "      <td>253875</td>\n",
       "      <td>покупка жилья</td>\n",
       "      <td>B</td>\n",
       "      <td>операции с недвижимостью</td>\n",
       "    </tr>\n",
       "    <tr>\n",
       "      <th>1</th>\n",
       "      <td>1</td>\n",
       "      <td>4024.803754</td>\n",
       "      <td>36</td>\n",
       "      <td>среднее</td>\n",
       "      <td>1</td>\n",
       "      <td>женат / замужем</td>\n",
       "      <td>0</td>\n",
       "      <td>F</td>\n",
       "      <td>сотрудник</td>\n",
       "      <td>0</td>\n",
       "      <td>112080</td>\n",
       "      <td>приобретение автомобиля</td>\n",
       "      <td>C</td>\n",
       "      <td>операции с автомобилем</td>\n",
       "    </tr>\n",
       "    <tr>\n",
       "      <th>2</th>\n",
       "      <td>0</td>\n",
       "      <td>5623.422610</td>\n",
       "      <td>33</td>\n",
       "      <td>среднее</td>\n",
       "      <td>1</td>\n",
       "      <td>женат / замужем</td>\n",
       "      <td>0</td>\n",
       "      <td>M</td>\n",
       "      <td>сотрудник</td>\n",
       "      <td>0</td>\n",
       "      <td>145885</td>\n",
       "      <td>покупка жилья</td>\n",
       "      <td>C</td>\n",
       "      <td>операции с недвижимостью</td>\n",
       "    </tr>\n",
       "    <tr>\n",
       "      <th>3</th>\n",
       "      <td>3</td>\n",
       "      <td>4124.747207</td>\n",
       "      <td>32</td>\n",
       "      <td>среднее</td>\n",
       "      <td>1</td>\n",
       "      <td>женат / замужем</td>\n",
       "      <td>0</td>\n",
       "      <td>M</td>\n",
       "      <td>сотрудник</td>\n",
       "      <td>0</td>\n",
       "      <td>267628</td>\n",
       "      <td>дополнительное образование</td>\n",
       "      <td>B</td>\n",
       "      <td>получение образования</td>\n",
       "    </tr>\n",
       "    <tr>\n",
       "      <th>4</th>\n",
       "      <td>0</td>\n",
       "      <td>340266.072047</td>\n",
       "      <td>53</td>\n",
       "      <td>среднее</td>\n",
       "      <td>1</td>\n",
       "      <td>гражданский брак</td>\n",
       "      <td>1</td>\n",
       "      <td>F</td>\n",
       "      <td>пенсионер</td>\n",
       "      <td>0</td>\n",
       "      <td>158616</td>\n",
       "      <td>сыграть свадьбу</td>\n",
       "      <td>C</td>\n",
       "      <td>проведение свадьбы</td>\n",
       "    </tr>\n",
       "    <tr>\n",
       "      <th>5</th>\n",
       "      <td>0</td>\n",
       "      <td>926.185831</td>\n",
       "      <td>27</td>\n",
       "      <td>высшее</td>\n",
       "      <td>0</td>\n",
       "      <td>гражданский брак</td>\n",
       "      <td>1</td>\n",
       "      <td>M</td>\n",
       "      <td>компаньон</td>\n",
       "      <td>0</td>\n",
       "      <td>255763</td>\n",
       "      <td>покупка жилья</td>\n",
       "      <td>B</td>\n",
       "      <td>операции с недвижимостью</td>\n",
       "    </tr>\n",
       "    <tr>\n",
       "      <th>6</th>\n",
       "      <td>0</td>\n",
       "      <td>2879.202052</td>\n",
       "      <td>43</td>\n",
       "      <td>высшее</td>\n",
       "      <td>0</td>\n",
       "      <td>женат / замужем</td>\n",
       "      <td>0</td>\n",
       "      <td>F</td>\n",
       "      <td>компаньон</td>\n",
       "      <td>0</td>\n",
       "      <td>240525</td>\n",
       "      <td>операции с жильем</td>\n",
       "      <td>B</td>\n",
       "      <td>операции с недвижимостью</td>\n",
       "    </tr>\n",
       "    <tr>\n",
       "      <th>7</th>\n",
       "      <td>0</td>\n",
       "      <td>152.779569</td>\n",
       "      <td>50</td>\n",
       "      <td>среднее</td>\n",
       "      <td>1</td>\n",
       "      <td>женат / замужем</td>\n",
       "      <td>0</td>\n",
       "      <td>M</td>\n",
       "      <td>сотрудник</td>\n",
       "      <td>0</td>\n",
       "      <td>135823</td>\n",
       "      <td>образование</td>\n",
       "      <td>C</td>\n",
       "      <td>получение образования</td>\n",
       "    </tr>\n",
       "    <tr>\n",
       "      <th>8</th>\n",
       "      <td>2</td>\n",
       "      <td>6929.865299</td>\n",
       "      <td>35</td>\n",
       "      <td>высшее</td>\n",
       "      <td>0</td>\n",
       "      <td>гражданский брак</td>\n",
       "      <td>1</td>\n",
       "      <td>F</td>\n",
       "      <td>сотрудник</td>\n",
       "      <td>0</td>\n",
       "      <td>95856</td>\n",
       "      <td>на проведение свадьбы</td>\n",
       "      <td>C</td>\n",
       "      <td>проведение свадьбы</td>\n",
       "    </tr>\n",
       "    <tr>\n",
       "      <th>9</th>\n",
       "      <td>0</td>\n",
       "      <td>2188.756445</td>\n",
       "      <td>41</td>\n",
       "      <td>среднее</td>\n",
       "      <td>1</td>\n",
       "      <td>женат / замужем</td>\n",
       "      <td>0</td>\n",
       "      <td>M</td>\n",
       "      <td>сотрудник</td>\n",
       "      <td>0</td>\n",
       "      <td>144425</td>\n",
       "      <td>покупка жилья для семьи</td>\n",
       "      <td>C</td>\n",
       "      <td>операции с недвижимостью</td>\n",
       "    </tr>\n",
       "    <tr>\n",
       "      <th>10</th>\n",
       "      <td>2</td>\n",
       "      <td>4171.483647</td>\n",
       "      <td>36</td>\n",
       "      <td>высшее</td>\n",
       "      <td>0</td>\n",
       "      <td>женат / замужем</td>\n",
       "      <td>0</td>\n",
       "      <td>M</td>\n",
       "      <td>компаньон</td>\n",
       "      <td>0</td>\n",
       "      <td>113943</td>\n",
       "      <td>покупка недвижимости</td>\n",
       "      <td>C</td>\n",
       "      <td>операции с недвижимостью</td>\n",
       "    </tr>\n",
       "    <tr>\n",
       "      <th>11</th>\n",
       "      <td>0</td>\n",
       "      <td>792.701887</td>\n",
       "      <td>40</td>\n",
       "      <td>среднее</td>\n",
       "      <td>1</td>\n",
       "      <td>женат / замужем</td>\n",
       "      <td>0</td>\n",
       "      <td>F</td>\n",
       "      <td>сотрудник</td>\n",
       "      <td>0</td>\n",
       "      <td>77069</td>\n",
       "      <td>покупка коммерческой недвижимости</td>\n",
       "      <td>C</td>\n",
       "      <td>операции с недвижимостью</td>\n",
       "    </tr>\n",
       "    <tr>\n",
       "      <th>12</th>\n",
       "      <td>0</td>\n",
       "      <td>365286.622650</td>\n",
       "      <td>65</td>\n",
       "      <td>среднее</td>\n",
       "      <td>1</td>\n",
       "      <td>гражданский брак</td>\n",
       "      <td>1</td>\n",
       "      <td>M</td>\n",
       "      <td>пенсионер</td>\n",
       "      <td>0</td>\n",
       "      <td>118514</td>\n",
       "      <td>сыграть свадьбу</td>\n",
       "      <td>C</td>\n",
       "      <td>проведение свадьбы</td>\n",
       "    </tr>\n",
       "    <tr>\n",
       "      <th>13</th>\n",
       "      <td>0</td>\n",
       "      <td>1846.641941</td>\n",
       "      <td>54</td>\n",
       "      <td>неоконченное высшее</td>\n",
       "      <td>2</td>\n",
       "      <td>женат / замужем</td>\n",
       "      <td>0</td>\n",
       "      <td>F</td>\n",
       "      <td>сотрудник</td>\n",
       "      <td>0</td>\n",
       "      <td>130458</td>\n",
       "      <td>приобретение автомобиля</td>\n",
       "      <td>C</td>\n",
       "      <td>операции с автомобилем</td>\n",
       "    </tr>\n",
       "    <tr>\n",
       "      <th>14</th>\n",
       "      <td>0</td>\n",
       "      <td>1844.956182</td>\n",
       "      <td>56</td>\n",
       "      <td>высшее</td>\n",
       "      <td>0</td>\n",
       "      <td>гражданский брак</td>\n",
       "      <td>1</td>\n",
       "      <td>F</td>\n",
       "      <td>компаньон</td>\n",
       "      <td>1</td>\n",
       "      <td>165127</td>\n",
       "      <td>покупка жилой недвижимости</td>\n",
       "      <td>C</td>\n",
       "      <td>операции с недвижимостью</td>\n",
       "    </tr>\n",
       "    <tr>\n",
       "      <th>15</th>\n",
       "      <td>1</td>\n",
       "      <td>972.364419</td>\n",
       "      <td>26</td>\n",
       "      <td>среднее</td>\n",
       "      <td>1</td>\n",
       "      <td>женат / замужем</td>\n",
       "      <td>0</td>\n",
       "      <td>F</td>\n",
       "      <td>сотрудник</td>\n",
       "      <td>0</td>\n",
       "      <td>116820</td>\n",
       "      <td>строительство собственной недвижимости</td>\n",
       "      <td>C</td>\n",
       "      <td>операции с недвижимостью</td>\n",
       "    </tr>\n",
       "    <tr>\n",
       "      <th>16</th>\n",
       "      <td>0</td>\n",
       "      <td>1719.934226</td>\n",
       "      <td>35</td>\n",
       "      <td>среднее</td>\n",
       "      <td>1</td>\n",
       "      <td>женат / замужем</td>\n",
       "      <td>0</td>\n",
       "      <td>F</td>\n",
       "      <td>сотрудник</td>\n",
       "      <td>0</td>\n",
       "      <td>289202</td>\n",
       "      <td>недвижимость</td>\n",
       "      <td>B</td>\n",
       "      <td>операции с недвижимостью</td>\n",
       "    </tr>\n",
       "    <tr>\n",
       "      <th>17</th>\n",
       "      <td>0</td>\n",
       "      <td>2369.999720</td>\n",
       "      <td>33</td>\n",
       "      <td>высшее</td>\n",
       "      <td>0</td>\n",
       "      <td>гражданский брак</td>\n",
       "      <td>1</td>\n",
       "      <td>M</td>\n",
       "      <td>сотрудник</td>\n",
       "      <td>0</td>\n",
       "      <td>90410</td>\n",
       "      <td>строительство недвижимости</td>\n",
       "      <td>C</td>\n",
       "      <td>операции с недвижимостью</td>\n",
       "    </tr>\n",
       "    <tr>\n",
       "      <th>18</th>\n",
       "      <td>0</td>\n",
       "      <td>400281.136913</td>\n",
       "      <td>53</td>\n",
       "      <td>среднее</td>\n",
       "      <td>1</td>\n",
       "      <td>вдовец / вдова</td>\n",
       "      <td>2</td>\n",
       "      <td>F</td>\n",
       "      <td>пенсионер</td>\n",
       "      <td>0</td>\n",
       "      <td>56823</td>\n",
       "      <td>на покупку подержанного автомобиля</td>\n",
       "      <td>C</td>\n",
       "      <td>операции с автомобилем</td>\n",
       "    </tr>\n",
       "    <tr>\n",
       "      <th>19</th>\n",
       "      <td>0</td>\n",
       "      <td>10038.818549</td>\n",
       "      <td>48</td>\n",
       "      <td>среднее</td>\n",
       "      <td>1</td>\n",
       "      <td>в разводе</td>\n",
       "      <td>3</td>\n",
       "      <td>F</td>\n",
       "      <td>сотрудник</td>\n",
       "      <td>0</td>\n",
       "      <td>242831</td>\n",
       "      <td>на покупку своего автомобиля</td>\n",
       "      <td>B</td>\n",
       "      <td>операции с автомобилем</td>\n",
       "    </tr>\n",
       "    <tr>\n",
       "      <th>20</th>\n",
       "      <td>1</td>\n",
       "      <td>1311.604166</td>\n",
       "      <td>36</td>\n",
       "      <td>среднее</td>\n",
       "      <td>1</td>\n",
       "      <td>женат / замужем</td>\n",
       "      <td>0</td>\n",
       "      <td>M</td>\n",
       "      <td>сотрудник</td>\n",
       "      <td>0</td>\n",
       "      <td>209552</td>\n",
       "      <td>недвижимость</td>\n",
       "      <td>B</td>\n",
       "      <td>операции с недвижимостью</td>\n",
       "    </tr>\n",
       "    <tr>\n",
       "      <th>21</th>\n",
       "      <td>1</td>\n",
       "      <td>253.685166</td>\n",
       "      <td>33</td>\n",
       "      <td>среднее</td>\n",
       "      <td>1</td>\n",
       "      <td>гражданский брак</td>\n",
       "      <td>1</td>\n",
       "      <td>F</td>\n",
       "      <td>сотрудник</td>\n",
       "      <td>0</td>\n",
       "      <td>131812</td>\n",
       "      <td>приобретение автомобиля</td>\n",
       "      <td>C</td>\n",
       "      <td>операции с автомобилем</td>\n",
       "    </tr>\n",
       "    <tr>\n",
       "      <th>22</th>\n",
       "      <td>1</td>\n",
       "      <td>1766.644138</td>\n",
       "      <td>24</td>\n",
       "      <td>среднее</td>\n",
       "      <td>1</td>\n",
       "      <td>гражданский брак</td>\n",
       "      <td>1</td>\n",
       "      <td>F</td>\n",
       "      <td>сотрудник</td>\n",
       "      <td>0</td>\n",
       "      <td>149681</td>\n",
       "      <td>на покупку подержанного автомобиля</td>\n",
       "      <td>C</td>\n",
       "      <td>операции с автомобилем</td>\n",
       "    </tr>\n",
       "    <tr>\n",
       "      <th>23</th>\n",
       "      <td>0</td>\n",
       "      <td>272.981385</td>\n",
       "      <td>21</td>\n",
       "      <td>высшее</td>\n",
       "      <td>0</td>\n",
       "      <td>гражданский брак</td>\n",
       "      <td>1</td>\n",
       "      <td>M</td>\n",
       "      <td>сотрудник</td>\n",
       "      <td>0</td>\n",
       "      <td>128265</td>\n",
       "      <td>сыграть свадьбу</td>\n",
       "      <td>C</td>\n",
       "      <td>проведение свадьбы</td>\n",
       "    </tr>\n",
       "    <tr>\n",
       "      <th>24</th>\n",
       "      <td>1</td>\n",
       "      <td>338551.952911</td>\n",
       "      <td>57</td>\n",
       "      <td>среднее</td>\n",
       "      <td>1</td>\n",
       "      <td>Не женат / не замужем</td>\n",
       "      <td>4</td>\n",
       "      <td>F</td>\n",
       "      <td>пенсионер</td>\n",
       "      <td>0</td>\n",
       "      <td>290547</td>\n",
       "      <td>операции с коммерческой недвижимостью</td>\n",
       "      <td>B</td>\n",
       "      <td>операции с недвижимостью</td>\n",
       "    </tr>\n",
       "    <tr>\n",
       "      <th>25</th>\n",
       "      <td>0</td>\n",
       "      <td>363548.489348</td>\n",
       "      <td>67</td>\n",
       "      <td>среднее</td>\n",
       "      <td>1</td>\n",
       "      <td>женат / замужем</td>\n",
       "      <td>0</td>\n",
       "      <td>M</td>\n",
       "      <td>пенсионер</td>\n",
       "      <td>0</td>\n",
       "      <td>55112</td>\n",
       "      <td>покупка недвижимости</td>\n",
       "      <td>C</td>\n",
       "      <td>операции с недвижимостью</td>\n",
       "    </tr>\n",
       "    <tr>\n",
       "      <th>26</th>\n",
       "      <td>0</td>\n",
       "      <td>2689.137274</td>\n",
       "      <td>41</td>\n",
       "      <td>среднее</td>\n",
       "      <td>1</td>\n",
       "      <td>женат / замужем</td>\n",
       "      <td>0</td>\n",
       "      <td>M</td>\n",
       "      <td>госслужащий</td>\n",
       "      <td>0</td>\n",
       "      <td>150447</td>\n",
       "      <td>образование</td>\n",
       "      <td>C</td>\n",
       "      <td>получение образования</td>\n",
       "    </tr>\n",
       "    <tr>\n",
       "      <th>27</th>\n",
       "      <td>0</td>\n",
       "      <td>529.191635</td>\n",
       "      <td>28</td>\n",
       "      <td>высшее</td>\n",
       "      <td>0</td>\n",
       "      <td>женат / замужем</td>\n",
       "      <td>0</td>\n",
       "      <td>M</td>\n",
       "      <td>сотрудник</td>\n",
       "      <td>0</td>\n",
       "      <td>308848</td>\n",
       "      <td>строительство собственной недвижимости</td>\n",
       "      <td>B</td>\n",
       "      <td>операции с недвижимостью</td>\n",
       "    </tr>\n",
       "    <tr>\n",
       "      <th>28</th>\n",
       "      <td>1</td>\n",
       "      <td>717.274324</td>\n",
       "      <td>26</td>\n",
       "      <td>высшее</td>\n",
       "      <td>0</td>\n",
       "      <td>женат / замужем</td>\n",
       "      <td>0</td>\n",
       "      <td>F</td>\n",
       "      <td>сотрудник</td>\n",
       "      <td>0</td>\n",
       "      <td>187863</td>\n",
       "      <td>строительство собственной недвижимости</td>\n",
       "      <td>C</td>\n",
       "      <td>операции с недвижимостью</td>\n",
       "    </tr>\n",
       "    <tr>\n",
       "      <th>29</th>\n",
       "      <td>0</td>\n",
       "      <td>365286.622650</td>\n",
       "      <td>63</td>\n",
       "      <td>среднее</td>\n",
       "      <td>1</td>\n",
       "      <td>Не женат / не замужем</td>\n",
       "      <td>4</td>\n",
       "      <td>F</td>\n",
       "      <td>пенсионер</td>\n",
       "      <td>0</td>\n",
       "      <td>118514</td>\n",
       "      <td>строительство жилой недвижимости</td>\n",
       "      <td>C</td>\n",
       "      <td>операции с недвижимостью</td>\n",
       "    </tr>\n",
       "    <tr>\n",
       "      <th>30</th>\n",
       "      <td>1</td>\n",
       "      <td>335581.668515</td>\n",
       "      <td>62</td>\n",
       "      <td>среднее</td>\n",
       "      <td>1</td>\n",
       "      <td>женат / замужем</td>\n",
       "      <td>0</td>\n",
       "      <td>F</td>\n",
       "      <td>пенсионер</td>\n",
       "      <td>0</td>\n",
       "      <td>171456</td>\n",
       "      <td>операции с коммерческой недвижимостью</td>\n",
       "      <td>C</td>\n",
       "      <td>операции с недвижимостью</td>\n",
       "    </tr>\n",
       "    <tr>\n",
       "      <th>31</th>\n",
       "      <td>0</td>\n",
       "      <td>1682.083438</td>\n",
       "      <td>47</td>\n",
       "      <td>начальное</td>\n",
       "      <td>3</td>\n",
       "      <td>женат / замужем</td>\n",
       "      <td>0</td>\n",
       "      <td>F</td>\n",
       "      <td>сотрудник</td>\n",
       "      <td>0</td>\n",
       "      <td>275485</td>\n",
       "      <td>жилье</td>\n",
       "      <td>B</td>\n",
       "      <td>операции с недвижимостью</td>\n",
       "    </tr>\n",
       "    <tr>\n",
       "      <th>32</th>\n",
       "      <td>0</td>\n",
       "      <td>4649.910832</td>\n",
       "      <td>34</td>\n",
       "      <td>среднее</td>\n",
       "      <td>1</td>\n",
       "      <td>гражданский брак</td>\n",
       "      <td>1</td>\n",
       "      <td>F</td>\n",
       "      <td>сотрудник</td>\n",
       "      <td>1</td>\n",
       "      <td>139057</td>\n",
       "      <td>на проведение свадьбы</td>\n",
       "      <td>C</td>\n",
       "      <td>проведение свадьбы</td>\n",
       "    </tr>\n",
       "    <tr>\n",
       "      <th>33</th>\n",
       "      <td>0</td>\n",
       "      <td>1548.637544</td>\n",
       "      <td>48</td>\n",
       "      <td>среднее</td>\n",
       "      <td>1</td>\n",
       "      <td>женат / замужем</td>\n",
       "      <td>0</td>\n",
       "      <td>F</td>\n",
       "      <td>компаньон</td>\n",
       "      <td>0</td>\n",
       "      <td>157245</td>\n",
       "      <td>покупка жилья</td>\n",
       "      <td>C</td>\n",
       "      <td>операции с недвижимостью</td>\n",
       "    </tr>\n",
       "    <tr>\n",
       "      <th>34</th>\n",
       "      <td>0</td>\n",
       "      <td>4488.067031</td>\n",
       "      <td>35</td>\n",
       "      <td>среднее</td>\n",
       "      <td>1</td>\n",
       "      <td>женат / замужем</td>\n",
       "      <td>0</td>\n",
       "      <td>F</td>\n",
       "      <td>сотрудник</td>\n",
       "      <td>0</td>\n",
       "      <td>104660</td>\n",
       "      <td>операции со своей недвижимостью</td>\n",
       "      <td>C</td>\n",
       "      <td>операции с недвижимостью</td>\n",
       "    </tr>\n",
       "    <tr>\n",
       "      <th>35</th>\n",
       "      <td>0</td>\n",
       "      <td>394021.072184</td>\n",
       "      <td>68</td>\n",
       "      <td>среднее</td>\n",
       "      <td>1</td>\n",
       "      <td>гражданский брак</td>\n",
       "      <td>1</td>\n",
       "      <td>M</td>\n",
       "      <td>пенсионер</td>\n",
       "      <td>0</td>\n",
       "      <td>77805</td>\n",
       "      <td>на проведение свадьбы</td>\n",
       "      <td>C</td>\n",
       "      <td>проведение свадьбы</td>\n",
       "    </tr>\n",
       "    <tr>\n",
       "      <th>36</th>\n",
       "      <td>0</td>\n",
       "      <td>176.216688</td>\n",
       "      <td>33</td>\n",
       "      <td>среднее</td>\n",
       "      <td>1</td>\n",
       "      <td>Не женат / не замужем</td>\n",
       "      <td>4</td>\n",
       "      <td>M</td>\n",
       "      <td>сотрудник</td>\n",
       "      <td>0</td>\n",
       "      <td>138830</td>\n",
       "      <td>автомобили</td>\n",
       "      <td>C</td>\n",
       "      <td>операции с автомобилем</td>\n",
       "    </tr>\n",
       "    <tr>\n",
       "      <th>37</th>\n",
       "      <td>0</td>\n",
       "      <td>6448.810860</td>\n",
       "      <td>43</td>\n",
       "      <td>высшее</td>\n",
       "      <td>0</td>\n",
       "      <td>гражданский брак</td>\n",
       "      <td>1</td>\n",
       "      <td>F</td>\n",
       "      <td>компаньон</td>\n",
       "      <td>0</td>\n",
       "      <td>154128</td>\n",
       "      <td>приобретение автомобиля</td>\n",
       "      <td>C</td>\n",
       "      <td>операции с автомобилем</td>\n",
       "    </tr>\n",
       "    <tr>\n",
       "      <th>38</th>\n",
       "      <td>0</td>\n",
       "      <td>597.881827</td>\n",
       "      <td>25</td>\n",
       "      <td>высшее</td>\n",
       "      <td>0</td>\n",
       "      <td>Не женат / не замужем</td>\n",
       "      <td>4</td>\n",
       "      <td>M</td>\n",
       "      <td>сотрудник</td>\n",
       "      <td>1</td>\n",
       "      <td>192247</td>\n",
       "      <td>образование</td>\n",
       "      <td>C</td>\n",
       "      <td>получение образования</td>\n",
       "    </tr>\n",
       "    <tr>\n",
       "      <th>39</th>\n",
       "      <td>0</td>\n",
       "      <td>650.587796</td>\n",
       "      <td>31</td>\n",
       "      <td>высшее</td>\n",
       "      <td>0</td>\n",
       "      <td>гражданский брак</td>\n",
       "      <td>1</td>\n",
       "      <td>F</td>\n",
       "      <td>компаньон</td>\n",
       "      <td>0</td>\n",
       "      <td>754240</td>\n",
       "      <td>заняться образованием</td>\n",
       "      <td>B</td>\n",
       "      <td>получение образования</td>\n",
       "    </tr>\n",
       "  </tbody>\n",
       "</table>\n",
       "</div>"
      ],
      "text/plain": [
       "    children  days_employed  dob_years            education  education_id  \\\n",
       "0          1    8437.673028         42               высшее             0   \n",
       "1          1    4024.803754         36              среднее             1   \n",
       "2          0    5623.422610         33              среднее             1   \n",
       "3          3    4124.747207         32              среднее             1   \n",
       "4          0  340266.072047         53              среднее             1   \n",
       "5          0     926.185831         27               высшее             0   \n",
       "6          0    2879.202052         43               высшее             0   \n",
       "7          0     152.779569         50              среднее             1   \n",
       "8          2    6929.865299         35               высшее             0   \n",
       "9          0    2188.756445         41              среднее             1   \n",
       "10         2    4171.483647         36               высшее             0   \n",
       "11         0     792.701887         40              среднее             1   \n",
       "12         0  365286.622650         65              среднее             1   \n",
       "13         0    1846.641941         54  неоконченное высшее             2   \n",
       "14         0    1844.956182         56               высшее             0   \n",
       "15         1     972.364419         26              среднее             1   \n",
       "16         0    1719.934226         35              среднее             1   \n",
       "17         0    2369.999720         33               высшее             0   \n",
       "18         0  400281.136913         53              среднее             1   \n",
       "19         0   10038.818549         48              среднее             1   \n",
       "20         1    1311.604166         36              среднее             1   \n",
       "21         1     253.685166         33              среднее             1   \n",
       "22         1    1766.644138         24              среднее             1   \n",
       "23         0     272.981385         21               высшее             0   \n",
       "24         1  338551.952911         57              среднее             1   \n",
       "25         0  363548.489348         67              среднее             1   \n",
       "26         0    2689.137274         41              среднее             1   \n",
       "27         0     529.191635         28               высшее             0   \n",
       "28         1     717.274324         26               высшее             0   \n",
       "29         0  365286.622650         63              среднее             1   \n",
       "30         1  335581.668515         62              среднее             1   \n",
       "31         0    1682.083438         47            начальное             3   \n",
       "32         0    4649.910832         34              среднее             1   \n",
       "33         0    1548.637544         48              среднее             1   \n",
       "34         0    4488.067031         35              среднее             1   \n",
       "35         0  394021.072184         68              среднее             1   \n",
       "36         0     176.216688         33              среднее             1   \n",
       "37         0    6448.810860         43               высшее             0   \n",
       "38         0     597.881827         25               высшее             0   \n",
       "39         0     650.587796         31               высшее             0   \n",
       "\n",
       "            family_status  family_status_id gender  income_type  debt  \\\n",
       "0         женат / замужем                 0      F    сотрудник     0   \n",
       "1         женат / замужем                 0      F    сотрудник     0   \n",
       "2         женат / замужем                 0      M    сотрудник     0   \n",
       "3         женат / замужем                 0      M    сотрудник     0   \n",
       "4        гражданский брак                 1      F    пенсионер     0   \n",
       "5        гражданский брак                 1      M    компаньон     0   \n",
       "6         женат / замужем                 0      F    компаньон     0   \n",
       "7         женат / замужем                 0      M    сотрудник     0   \n",
       "8        гражданский брак                 1      F    сотрудник     0   \n",
       "9         женат / замужем                 0      M    сотрудник     0   \n",
       "10        женат / замужем                 0      M    компаньон     0   \n",
       "11        женат / замужем                 0      F    сотрудник     0   \n",
       "12       гражданский брак                 1      M    пенсионер     0   \n",
       "13        женат / замужем                 0      F    сотрудник     0   \n",
       "14       гражданский брак                 1      F    компаньон     1   \n",
       "15        женат / замужем                 0      F    сотрудник     0   \n",
       "16        женат / замужем                 0      F    сотрудник     0   \n",
       "17       гражданский брак                 1      M    сотрудник     0   \n",
       "18         вдовец / вдова                 2      F    пенсионер     0   \n",
       "19              в разводе                 3      F    сотрудник     0   \n",
       "20        женат / замужем                 0      M    сотрудник     0   \n",
       "21       гражданский брак                 1      F    сотрудник     0   \n",
       "22       гражданский брак                 1      F    сотрудник     0   \n",
       "23       гражданский брак                 1      M    сотрудник     0   \n",
       "24  Не женат / не замужем                 4      F    пенсионер     0   \n",
       "25        женат / замужем                 0      M    пенсионер     0   \n",
       "26        женат / замужем                 0      M  госслужащий     0   \n",
       "27        женат / замужем                 0      M    сотрудник     0   \n",
       "28        женат / замужем                 0      F    сотрудник     0   \n",
       "29  Не женат / не замужем                 4      F    пенсионер     0   \n",
       "30        женат / замужем                 0      F    пенсионер     0   \n",
       "31        женат / замужем                 0      F    сотрудник     0   \n",
       "32       гражданский брак                 1      F    сотрудник     1   \n",
       "33        женат / замужем                 0      F    компаньон     0   \n",
       "34        женат / замужем                 0      F    сотрудник     0   \n",
       "35       гражданский брак                 1      M    пенсионер     0   \n",
       "36  Не женат / не замужем                 4      M    сотрудник     0   \n",
       "37       гражданский брак                 1      F    компаньон     0   \n",
       "38  Не женат / не замужем                 4      M    сотрудник     1   \n",
       "39       гражданский брак                 1      F    компаньон     0   \n",
       "\n",
       "    total_income                                 purpose  \\\n",
       "0         253875                           покупка жилья   \n",
       "1         112080                 приобретение автомобиля   \n",
       "2         145885                           покупка жилья   \n",
       "3         267628              дополнительное образование   \n",
       "4         158616                         сыграть свадьбу   \n",
       "5         255763                           покупка жилья   \n",
       "6         240525                       операции с жильем   \n",
       "7         135823                             образование   \n",
       "8          95856                   на проведение свадьбы   \n",
       "9         144425                 покупка жилья для семьи   \n",
       "10        113943                    покупка недвижимости   \n",
       "11         77069       покупка коммерческой недвижимости   \n",
       "12        118514                         сыграть свадьбу   \n",
       "13        130458                 приобретение автомобиля   \n",
       "14        165127              покупка жилой недвижимости   \n",
       "15        116820  строительство собственной недвижимости   \n",
       "16        289202                            недвижимость   \n",
       "17         90410              строительство недвижимости   \n",
       "18         56823      на покупку подержанного автомобиля   \n",
       "19        242831            на покупку своего автомобиля   \n",
       "20        209552                            недвижимость   \n",
       "21        131812                 приобретение автомобиля   \n",
       "22        149681      на покупку подержанного автомобиля   \n",
       "23        128265                         сыграть свадьбу   \n",
       "24        290547   операции с коммерческой недвижимостью   \n",
       "25         55112                    покупка недвижимости   \n",
       "26        150447                             образование   \n",
       "27        308848  строительство собственной недвижимости   \n",
       "28        187863  строительство собственной недвижимости   \n",
       "29        118514        строительство жилой недвижимости   \n",
       "30        171456   операции с коммерческой недвижимостью   \n",
       "31        275485                                   жилье   \n",
       "32        139057                   на проведение свадьбы   \n",
       "33        157245                           покупка жилья   \n",
       "34        104660         операции со своей недвижимостью   \n",
       "35         77805                   на проведение свадьбы   \n",
       "36        138830                              автомобили   \n",
       "37        154128                 приобретение автомобиля   \n",
       "38        192247                             образование   \n",
       "39        754240                   заняться образованием   \n",
       "\n",
       "   total_income_category          purpose_category  \n",
       "0                      B  операции с недвижимостью  \n",
       "1                      C    операции с автомобилем  \n",
       "2                      C  операции с недвижимостью  \n",
       "3                      B     получение образования  \n",
       "4                      C        проведение свадьбы  \n",
       "5                      B  операции с недвижимостью  \n",
       "6                      B  операции с недвижимостью  \n",
       "7                      C     получение образования  \n",
       "8                      C        проведение свадьбы  \n",
       "9                      C  операции с недвижимостью  \n",
       "10                     C  операции с недвижимостью  \n",
       "11                     C  операции с недвижимостью  \n",
       "12                     C        проведение свадьбы  \n",
       "13                     C    операции с автомобилем  \n",
       "14                     C  операции с недвижимостью  \n",
       "15                     C  операции с недвижимостью  \n",
       "16                     B  операции с недвижимостью  \n",
       "17                     C  операции с недвижимостью  \n",
       "18                     C    операции с автомобилем  \n",
       "19                     B    операции с автомобилем  \n",
       "20                     B  операции с недвижимостью  \n",
       "21                     C    операции с автомобилем  \n",
       "22                     C    операции с автомобилем  \n",
       "23                     C        проведение свадьбы  \n",
       "24                     B  операции с недвижимостью  \n",
       "25                     C  операции с недвижимостью  \n",
       "26                     C     получение образования  \n",
       "27                     B  операции с недвижимостью  \n",
       "28                     C  операции с недвижимостью  \n",
       "29                     C  операции с недвижимостью  \n",
       "30                     C  операции с недвижимостью  \n",
       "31                     B  операции с недвижимостью  \n",
       "32                     C        проведение свадьбы  \n",
       "33                     C  операции с недвижимостью  \n",
       "34                     C  операции с недвижимостью  \n",
       "35                     C        проведение свадьбы  \n",
       "36                     C    операции с автомобилем  \n",
       "37                     C    операции с автомобилем  \n",
       "38                     C     получение образования  \n",
       "39                     B     получение образования  "
      ]
     },
     "execution_count": 21,
     "metadata": {},
     "output_type": "execute_result"
    }
   ],
   "source": [
    "data['purpose_category'] = data['purpose'].apply(categorize_purpose)\n",
    "data.head(40)"
   ]
  },
  {
   "cell_type": "markdown",
   "id": "3d596c34",
   "metadata": {
    "deletable": false,
    "editable": false,
    "id": "3d596c34"
   },
   "source": [
    "### Шаг 3. Исследуйте данные и ответьте на вопросы"
   ]
  },
  {
   "cell_type": "markdown",
   "id": "648db036",
   "metadata": {
    "deletable": false,
    "editable": false,
    "id": "648db036"
   },
   "source": [
    "#### 3.1 Есть ли зависимость между количеством детей и возвратом кредита в срок?"
   ]
  },
  {
   "cell_type": "code",
   "execution_count": 22,
   "id": "7fcff25e",
   "metadata": {
    "deletable": false,
    "id": "7fcff25e"
   },
   "outputs": [
    {
     "data": {
      "text/plain": [
       "children\n",
       "0    1063\n",
       "1     444\n",
       "2     194\n",
       "3      27\n",
       "4       4\n",
       "5       0\n",
       "Name: debt, dtype: int64"
      ]
     },
     "execution_count": 22,
     "metadata": {},
     "output_type": "execute_result"
    }
   ],
   "source": [
    "# Ваш код будет здесь. Вы можете создавать новые ячейки.\n",
    "groupby_children = data.groupby('children')['debt'].sum()\n",
    "groupby_children\n"
   ]
  },
  {
   "cell_type": "markdown",
   "id": "44472327",
   "metadata": {},
   "source": [
    "**Вывод:** \n",
    "\n",
    "Зависимость между количеством детей и возвратом кредита в срок однозначно есть. Количество людей, у которых нет детей, но есть долги по возврату кредита, в 2 раза превышает тех, у кого есть дети и кто тоже имеет долги.\n",
    "\n",
    "Среди людей, у которых есть дети, чаще всего долги по возврату кредита имеются у тех, у кого меньше всего детей. Чем больше человек имеет детей, тем реже у него имеются долги."
   ]
  },
  {
   "cell_type": "code",
   "execution_count": 28,
   "id": "50726720",
   "metadata": {},
   "outputs": [
    {
     "data": {
      "text/html": [
       "<div>\n",
       "<style scoped>\n",
       "    .dataframe tbody tr th:only-of-type {\n",
       "        vertical-align: middle;\n",
       "    }\n",
       "\n",
       "    .dataframe tbody tr th {\n",
       "        vertical-align: top;\n",
       "    }\n",
       "\n",
       "    .dataframe thead th {\n",
       "        text-align: right;\n",
       "    }\n",
       "</style>\n",
       "<table border=\"1\" class=\"dataframe\">\n",
       "  <thead>\n",
       "    <tr style=\"text-align: right;\">\n",
       "      <th>debt</th>\n",
       "      <th>0</th>\n",
       "      <th>1</th>\n",
       "    </tr>\n",
       "    <tr>\n",
       "      <th>children</th>\n",
       "      <th></th>\n",
       "      <th></th>\n",
       "    </tr>\n",
       "  </thead>\n",
       "  <tbody>\n",
       "    <tr>\n",
       "      <th>0</th>\n",
       "      <td>13028.0</td>\n",
       "      <td>1063.0</td>\n",
       "    </tr>\n",
       "    <tr>\n",
       "      <th>1</th>\n",
       "      <td>4364.0</td>\n",
       "      <td>444.0</td>\n",
       "    </tr>\n",
       "    <tr>\n",
       "      <th>2</th>\n",
       "      <td>1858.0</td>\n",
       "      <td>194.0</td>\n",
       "    </tr>\n",
       "    <tr>\n",
       "      <th>3</th>\n",
       "      <td>303.0</td>\n",
       "      <td>27.0</td>\n",
       "    </tr>\n",
       "    <tr>\n",
       "      <th>4</th>\n",
       "      <td>37.0</td>\n",
       "      <td>4.0</td>\n",
       "    </tr>\n",
       "    <tr>\n",
       "      <th>5</th>\n",
       "      <td>9.0</td>\n",
       "      <td>NaN</td>\n",
       "    </tr>\n",
       "  </tbody>\n",
       "</table>\n",
       "</div>"
      ],
      "text/plain": [
       "debt            0       1\n",
       "children                 \n",
       "0         13028.0  1063.0\n",
       "1          4364.0   444.0\n",
       "2          1858.0   194.0\n",
       "3           303.0    27.0\n",
       "4            37.0     4.0\n",
       "5             9.0     NaN"
      ]
     },
     "execution_count": 28,
     "metadata": {},
     "output_type": "execute_result"
    }
   ],
   "source": [
    "#создадим сводную таблицу, где в качестве столбца, по которому группируем данные будет children; в качестве столбца,\n",
    "#по значениям которого происходит группировка - debt (есть/нет); значения, которые увидим в сводной \n",
    "#таблице - gender; \n",
    "#к значениям пола применим функцию подсчета количества людей - count\n",
    "debt_and_kids = data.pivot_table(index=['children'], columns='debt', values='gender', aggfunc='count')\n",
    "debt_and_kids\n"
   ]
  },
  {
   "cell_type": "code",
   "execution_count": 24,
   "id": "457fa4cd",
   "metadata": {},
   "outputs": [
    {
     "data": {
      "text/html": [
       "<div>\n",
       "<style scoped>\n",
       "    .dataframe tbody tr th:only-of-type {\n",
       "        vertical-align: middle;\n",
       "    }\n",
       "\n",
       "    .dataframe tbody tr th {\n",
       "        vertical-align: top;\n",
       "    }\n",
       "\n",
       "    .dataframe thead th {\n",
       "        text-align: right;\n",
       "    }\n",
       "</style>\n",
       "<table border=\"1\" class=\"dataframe\">\n",
       "  <thead>\n",
       "    <tr style=\"text-align: right;\">\n",
       "      <th></th>\n",
       "      <th>total_borrowers</th>\n",
       "      <th>debtors</th>\n",
       "      <th>persentage</th>\n",
       "    </tr>\n",
       "    <tr>\n",
       "      <th>children</th>\n",
       "      <th></th>\n",
       "      <th></th>\n",
       "      <th></th>\n",
       "    </tr>\n",
       "  </thead>\n",
       "  <tbody>\n",
       "    <tr>\n",
       "      <th>4</th>\n",
       "      <td>41</td>\n",
       "      <td>4</td>\n",
       "      <td>0.097561</td>\n",
       "    </tr>\n",
       "    <tr>\n",
       "      <th>2</th>\n",
       "      <td>2052</td>\n",
       "      <td>194</td>\n",
       "      <td>0.094542</td>\n",
       "    </tr>\n",
       "    <tr>\n",
       "      <th>1</th>\n",
       "      <td>4808</td>\n",
       "      <td>444</td>\n",
       "      <td>0.092346</td>\n",
       "    </tr>\n",
       "    <tr>\n",
       "      <th>3</th>\n",
       "      <td>330</td>\n",
       "      <td>27</td>\n",
       "      <td>0.081818</td>\n",
       "    </tr>\n",
       "    <tr>\n",
       "      <th>0</th>\n",
       "      <td>14091</td>\n",
       "      <td>1063</td>\n",
       "      <td>0.075438</td>\n",
       "    </tr>\n",
       "    <tr>\n",
       "      <th>5</th>\n",
       "      <td>9</td>\n",
       "      <td>0</td>\n",
       "      <td>0.000000</td>\n",
       "    </tr>\n",
       "  </tbody>\n",
       "</table>\n",
       "</div>"
      ],
      "text/plain": [
       "          total_borrowers  debtors  persentage\n",
       "children                                      \n",
       "4                      41        4    0.097561\n",
       "2                    2052      194    0.094542\n",
       "1                    4808      444    0.092346\n",
       "3                     330       27    0.081818\n",
       "0                   14091     1063    0.075438\n",
       "5                       9        0    0.000000"
      ]
     },
     "execution_count": 24,
     "metadata": {},
     "output_type": "execute_result"
    }
   ],
   "source": [
    "children_and_debt_pivot = data.groupby('children')['debt'].agg(['count', 'sum', 'mean']) \n",
    "children_and_debt_pivot = children_and_debt_pivot.rename(columns={'count': 'total_borrowers', 'sum': 'debtors', 'mean': 'persentage'})\n",
    "children_and_debt_pivot.sort_values(by='persentage', ascending=False)"
   ]
  },
  {
   "cell_type": "markdown",
   "id": "2eb9088e",
   "metadata": {
    "deletable": false,
    "id": "2eb9088e"
   },
   "source": [
    "**Вывод:**\n",
    "\n",
    "Была построена сводная таблица, сгруппированная по **количеству детей** у клиентов, с колонками: общее количество заемщиков, количество задолжников по выплате кредита и доля должников от общего  количества.\n",
    "\n",
    "По результатам свдной таблицы можно сделать вывод, что люди, имеющие от 1 до 4 детей имеют больше задолженностей по выплате кредитов, чем люди не имеющие детей вовсе. \n",
    "\n",
    "- **Должники с 1, 2 и 4 детьми составляют 9% от своих групп.**\n",
    "- **Должники с 3 детьми составляют чуть меньше - 8% от своей группы.**\n",
    "- **Среди клиентов без детей доля должников составляет 7%.**\n",
    "\n",
    "____________________________________\n",
    "\n",
    "*Также есть группа людей с 5 детьми, должников среди них нет, но количество заемщиков - всего 9 человек. Это очень маленькое количество среди общего числа заемщиков, по которому нельзя сделать какие-либо выводы, поэтому данную группу клиентов не стоит включать в анализ.*\n",
    "\n",
    " "
   ]
  },
  {
   "cell_type": "markdown",
   "id": "74c9b3a7",
   "metadata": {
    "deletable": false,
    "editable": false,
    "id": "74c9b3a7"
   },
   "source": [
    "#### 3.2 Есть ли зависимость между семейным положением и возвратом кредита в срок?"
   ]
  },
  {
   "cell_type": "code",
   "execution_count": 25,
   "id": "8098ab3b",
   "metadata": {
    "deletable": false,
    "id": "8098ab3b"
   },
   "outputs": [
    {
     "data": {
      "text/html": [
       "<div>\n",
       "<style scoped>\n",
       "    .dataframe tbody tr th:only-of-type {\n",
       "        vertical-align: middle;\n",
       "    }\n",
       "\n",
       "    .dataframe tbody tr th {\n",
       "        vertical-align: top;\n",
       "    }\n",
       "\n",
       "    .dataframe thead th {\n",
       "        text-align: right;\n",
       "    }\n",
       "</style>\n",
       "<table border=\"1\" class=\"dataframe\">\n",
       "  <thead>\n",
       "    <tr style=\"text-align: right;\">\n",
       "      <th></th>\n",
       "      <th>total_borrowers</th>\n",
       "      <th>debtors</th>\n",
       "      <th>persentage</th>\n",
       "    </tr>\n",
       "    <tr>\n",
       "      <th>family_status</th>\n",
       "      <th></th>\n",
       "      <th></th>\n",
       "      <th></th>\n",
       "    </tr>\n",
       "  </thead>\n",
       "  <tbody>\n",
       "    <tr>\n",
       "      <th>Не женат / не замужем</th>\n",
       "      <td>2796</td>\n",
       "      <td>273</td>\n",
       "      <td>0.097639</td>\n",
       "    </tr>\n",
       "    <tr>\n",
       "      <th>гражданский брак</th>\n",
       "      <td>4134</td>\n",
       "      <td>385</td>\n",
       "      <td>0.093130</td>\n",
       "    </tr>\n",
       "    <tr>\n",
       "      <th>женат / замужем</th>\n",
       "      <td>12261</td>\n",
       "      <td>927</td>\n",
       "      <td>0.075606</td>\n",
       "    </tr>\n",
       "    <tr>\n",
       "      <th>в разводе</th>\n",
       "      <td>1189</td>\n",
       "      <td>84</td>\n",
       "      <td>0.070648</td>\n",
       "    </tr>\n",
       "    <tr>\n",
       "      <th>вдовец / вдова</th>\n",
       "      <td>951</td>\n",
       "      <td>63</td>\n",
       "      <td>0.066246</td>\n",
       "    </tr>\n",
       "  </tbody>\n",
       "</table>\n",
       "</div>"
      ],
      "text/plain": [
       "                       total_borrowers  debtors  persentage\n",
       "family_status                                              \n",
       "Не женат / не замужем             2796      273    0.097639\n",
       "гражданский брак                  4134      385    0.093130\n",
       "женат / замужем                  12261      927    0.075606\n",
       "в разводе                         1189       84    0.070648\n",
       "вдовец / вдова                     951       63    0.066246"
      ]
     },
     "execution_count": 25,
     "metadata": {},
     "output_type": "execute_result"
    }
   ],
   "source": [
    "marital_ctatus_and_debt_pivot = data.groupby('family_status')['debt'].agg(['count', 'sum', 'mean']) \n",
    "marital_ctatus_and_debt_pivot = marital_ctatus_and_debt_pivot.rename(columns={'count': 'total_borrowers', 'sum': 'debtors', 'mean': 'persentage'})\n",
    "marital_ctatus_and_debt_pivot.sort_values(by='persentage', ascending=False)"
   ]
  },
  {
   "cell_type": "markdown",
   "id": "c389ca63",
   "metadata": {
    "deletable": false,
    "id": "c389ca63"
   },
   "source": [
    "**Вывод:** \n",
    "\n",
    "\n",
    "Была построена сводная таблица, сгруппированная по **семейному положению** клиентов, с колонками: общее количество заемщиков, количество задолжников по выплате кредита и доля должников от общего  количества.\n",
    "\n",
    "На основании построенной сводной таблицы можно сделать следующие выводы:\n",
    "\n",
    "- **Группы клиентов, не состоящих в браке и состоящих в гражданском браке, имеют самую высокую долю должников среди своих групп - 9% в каждой.**\n",
    "- **Доля должников в группе клиентов, состоящих в браке, и в группе клиентов, находящихся в разводе, значительно меньше - по 7% в каждой группе.**\n",
    "- **Среди клиентов с семейным положением вдова/вдовец самая малая доля должников по выплате кредита - 6%**.\n"
   ]
  },
  {
   "cell_type": "markdown",
   "id": "9529de68",
   "metadata": {
    "deletable": false,
    "editable": false,
    "id": "9529de68"
   },
   "source": [
    "#### 3.3 Есть ли зависимость между уровнем дохода и возвратом кредита в срок?"
   ]
  },
  {
   "cell_type": "code",
   "execution_count": 29,
   "id": "8787f44a",
   "metadata": {
    "deletable": false,
    "id": "8787f44a"
   },
   "outputs": [
    {
     "data": {
      "text/html": [
       "<div>\n",
       "<style scoped>\n",
       "    .dataframe tbody tr th:only-of-type {\n",
       "        vertical-align: middle;\n",
       "    }\n",
       "\n",
       "    .dataframe tbody tr th {\n",
       "        vertical-align: top;\n",
       "    }\n",
       "\n",
       "    .dataframe thead th {\n",
       "        text-align: right;\n",
       "    }\n",
       "</style>\n",
       "<table border=\"1\" class=\"dataframe\">\n",
       "  <thead>\n",
       "    <tr style=\"text-align: right;\">\n",
       "      <th></th>\n",
       "      <th>total_borrowers</th>\n",
       "      <th>debtors</th>\n",
       "      <th>persentage</th>\n",
       "    </tr>\n",
       "    <tr>\n",
       "      <th>total_income_category</th>\n",
       "      <th></th>\n",
       "      <th></th>\n",
       "      <th></th>\n",
       "    </tr>\n",
       "  </thead>\n",
       "  <tbody>\n",
       "    <tr>\n",
       "      <th>E</th>\n",
       "      <td>22</td>\n",
       "      <td>2</td>\n",
       "      <td>0.090909</td>\n",
       "    </tr>\n",
       "    <tr>\n",
       "      <th>C</th>\n",
       "      <td>15921</td>\n",
       "      <td>1353</td>\n",
       "      <td>0.084982</td>\n",
       "    </tr>\n",
       "    <tr>\n",
       "      <th>A</th>\n",
       "      <td>25</td>\n",
       "      <td>2</td>\n",
       "      <td>0.080000</td>\n",
       "    </tr>\n",
       "    <tr>\n",
       "      <th>B</th>\n",
       "      <td>5014</td>\n",
       "      <td>354</td>\n",
       "      <td>0.070602</td>\n",
       "    </tr>\n",
       "    <tr>\n",
       "      <th>D</th>\n",
       "      <td>349</td>\n",
       "      <td>21</td>\n",
       "      <td>0.060172</td>\n",
       "    </tr>\n",
       "  </tbody>\n",
       "</table>\n",
       "</div>"
      ],
      "text/plain": [
       "                       total_borrowers  debtors  persentage\n",
       "total_income_category                                      \n",
       "E                                   22        2    0.090909\n",
       "C                                15921     1353    0.084982\n",
       "A                                   25        2    0.080000\n",
       "B                                 5014      354    0.070602\n",
       "D                                  349       21    0.060172"
      ]
     },
     "execution_count": 29,
     "metadata": {},
     "output_type": "execute_result"
    }
   ],
   "source": [
    "income_and_debt_pivot = data.groupby('total_income_category')['debt'].agg(['count', 'sum', 'mean']) \n",
    "income_and_debt_pivot = income_and_debt_pivot.rename(columns={'count': 'total_borrowers', 'sum': 'debtors', 'mean': 'persentage'})\n",
    "income_and_debt_pivot.sort_values(by='persentage', ascending=False)"
   ]
  },
  {
   "cell_type": "markdown",
   "id": "6dd14b57",
   "metadata": {
    "deletable": false,
    "id": "6dd14b57"
   },
   "source": [
    "**Вывод:** \n",
    "\n",
    "Была построена сводная таблица, сгруппированная по **уровню дохода** клиентов, с колонками: общее количество заемщиков, количество задолжников по выплате кредита и доля должников от общего  количества.\n",
    "\n",
    "Легенда к уровням дохода у клиентов:\n",
    "- 0–30000 руб. — 'E';\n",
    "- 30001–50000 руб. — 'D';\n",
    "- 50001–200000 руб. — 'C';\n",
    "- 200001–1000000 руб. — 'B';\n",
    "- 1000001 руб. и выше — 'A'.\n",
    "\n",
    "На основании сводной таблица можем сделать следющие выводы:\n",
    "\n",
    "- **Доля должников среди клиентов с заработком от 50001 до 200000 руб. составляет 8%. При этом в данной группе самое большое число заемщиков от общего числа.**\n",
    "- **В группе клиентов с заработком от 200001 до 1000000 руб. доля должиков составляет 7%**.\n",
    "- **Самая низкая доля должников в группе клиентов с уровнем дохода от 30001 до 50000 руб. - всего 6%**.\n",
    "\n",
    "*В таблице также фигурируют группы клиентов с самым низким заработком (от 0 до 30 000 руб.) и с заработком более 1000000 руб., но количество заемщико всреди обеих групп очень маленькое, в связи с чем мы не можем делать корректные выводы по данным группам.*\n"
   ]
  },
  {
   "cell_type": "markdown",
   "id": "1dcc9b12",
   "metadata": {
    "deletable": false,
    "editable": false,
    "id": "1dcc9b12"
   },
   "source": [
    "#### 3.4 Как разные цели кредита влияют на его возврат в срок?"
   ]
  },
  {
   "cell_type": "code",
   "execution_count": 27,
   "id": "c602bc8b",
   "metadata": {
    "deletable": false,
    "id": "c602bc8b"
   },
   "outputs": [
    {
     "data": {
      "text/html": [
       "<div>\n",
       "<style scoped>\n",
       "    .dataframe tbody tr th:only-of-type {\n",
       "        vertical-align: middle;\n",
       "    }\n",
       "\n",
       "    .dataframe tbody tr th {\n",
       "        vertical-align: top;\n",
       "    }\n",
       "\n",
       "    .dataframe thead th {\n",
       "        text-align: right;\n",
       "    }\n",
       "</style>\n",
       "<table border=\"1\" class=\"dataframe\">\n",
       "  <thead>\n",
       "    <tr style=\"text-align: right;\">\n",
       "      <th></th>\n",
       "      <th>total_borrowers</th>\n",
       "      <th>debtors</th>\n",
       "      <th>persentage</th>\n",
       "    </tr>\n",
       "    <tr>\n",
       "      <th>purpose_category</th>\n",
       "      <th></th>\n",
       "      <th></th>\n",
       "      <th></th>\n",
       "    </tr>\n",
       "  </thead>\n",
       "  <tbody>\n",
       "    <tr>\n",
       "      <th>операции с автомобилем</th>\n",
       "      <td>4279</td>\n",
       "      <td>400</td>\n",
       "      <td>0.093480</td>\n",
       "    </tr>\n",
       "    <tr>\n",
       "      <th>получение образования</th>\n",
       "      <td>3988</td>\n",
       "      <td>369</td>\n",
       "      <td>0.092528</td>\n",
       "    </tr>\n",
       "    <tr>\n",
       "      <th>проведение свадьбы</th>\n",
       "      <td>2313</td>\n",
       "      <td>183</td>\n",
       "      <td>0.079118</td>\n",
       "    </tr>\n",
       "    <tr>\n",
       "      <th>операции с недвижимостью</th>\n",
       "      <td>10751</td>\n",
       "      <td>780</td>\n",
       "      <td>0.072551</td>\n",
       "    </tr>\n",
       "  </tbody>\n",
       "</table>\n",
       "</div>"
      ],
      "text/plain": [
       "                          total_borrowers  debtors  persentage\n",
       "purpose_category                                              \n",
       "операции с автомобилем               4279      400    0.093480\n",
       "получение образования                3988      369    0.092528\n",
       "проведение свадьбы                   2313      183    0.079118\n",
       "операции с недвижимостью            10751      780    0.072551"
      ]
     },
     "execution_count": 27,
     "metadata": {},
     "output_type": "execute_result"
    }
   ],
   "source": [
    "# Ваш код будет здесь. Вы можете создавать новые ячейки.\n",
    "loan_purpose_and_debt_pivot = data.groupby('purpose_category')['debt'].agg(['count', 'sum', 'mean']) \n",
    "loan_purpose_and_debt_pivot = loan_purpose_and_debt_pivot.rename(columns={'count': 'total_borrowers', 'sum': 'debtors', 'mean': 'persentage'})\n",
    "loan_purpose_and_debt_pivot.sort_values(by='persentage', ascending=False)"
   ]
  },
  {
   "cell_type": "markdown",
   "id": "cf05ed63",
   "metadata": {
    "deletable": false,
    "id": "cf05ed63"
   },
   "source": [
    "**Вывод:** \n",
    "\n",
    "Была построена сводная таблица, сгруппированная по **целям кредита**, с колонками: общее количество заемщиков, количество задолжников по выплате кредита и доля должников от общего  количества.\n",
    "\n",
    "На основании данной таблица можем сделать следующие выводы:\n",
    "\n",
    "- **Самый большой процент должников среди тех, кто берут кредиты на операции с автомобилем и на получение образования. В каждой из групп по 9% клиентов с задолженностью.**\n",
    "- **Те, кто берут кредиты на проведение свадьбы, имеют меньший процент должников в своей группе - 7,9%.**\n",
    "- **На операции с недвижимостью клиенты чаще всего берут кредит, но доля должников среди них меньше всего - 7,2%.**"
   ]
  },
  {
   "cell_type": "markdown",
   "id": "46c1f10b",
   "metadata": {
    "deletable": false,
    "editable": false,
    "id": "46c1f10b"
   },
   "source": [
    "#### 3.5 Приведите возможные причины появления пропусков в исходных данных."
   ]
  },
  {
   "cell_type": "markdown",
   "id": "3697d2a9",
   "metadata": {
    "deletable": false,
    "id": "3697d2a9"
   },
   "source": [
    "*Ответ:* \n",
    "\n",
    "Так как пропуски встретились только в двух столбцах: `days_employed` и `total_income` и количество пропущенных значений в обоих столбцах совпадало, то можем предположить, что **пропуски в обоих столбцах были в одних и тех же строчках**. Полагаю, что те, кто не заполнил общее количество дней трудового стажа, также не заполнил информацию по  своему ежемесячному доходу. \n",
    "\n",
    "Вероятные причины незаполненных данных в этих столбцах:\n",
    "\n",
    "- самозанятость/фриланс\n",
    "- человек не работает, а находится на содержании у мужа/жены/родителей\n",
    "- отсутствие/утеря трудовой книжки\n",
    "\n",
    "Помимо человеческого фактора, можем допустить, что возможной причиной пропусков в данных мог стать сбой в работе системы. Возможно, те люди, кто вносил данные, делал это в конкретное время, когда произошел сбой, из-за чего по каждому человеку не \"подтянулсись\" данные о количестве дней трудового стажа и ежемесячному дохожу. \n",
    "\n",
    "Полагаю, что данную информацию стоит донесит до разработчиков, чтобы они проверили корректность работы системы.\n",
    "\n",
    "Также, когда мы выводили медианные значения количества дней трудового стажа по типу занятости, то нам встретились аномально большие значения у двух типов - безработные и пенсионеры. Вероятно, может быть какая-то взаимосвязь между пропусками и в 2 столбцах и этими двумя типами занятости.\n"
   ]
  },
  {
   "cell_type": "markdown",
   "id": "3137d257",
   "metadata": {
    "deletable": false,
    "editable": false,
    "id": "3137d257"
   },
   "source": [
    "#### 3.6 Объясните, почему заполнить пропуски медианным значением — лучшее решение для количественных переменных."
   ]
  },
  {
   "cell_type": "markdown",
   "id": "cf40012a",
   "metadata": {
    "deletable": false,
    "id": "cf40012a"
   },
   "source": [
    "*Ответ:* \n",
    "\n",
    "Так как среднее значение вычиляется из суммы всех значений разделить на количество этих значений, то результат такого исчисления далеко не всегда можно считать корректным, в отличии медианы. Из-за того, что большая часть значений, которые суммируются, могут быть сильно ниже или сильно выше всех остальных значений, то среднее вычсление будет, соответственно, также либо заниженным или завышенным и не будет отражать реальное среднее значение.\n",
    "\n",
    "Например, в столбце `days_employed` было бы некорректо считать среднее значение, если у какой-либо группы преобладает очень большое количество дней стажа и у нескольких десятков совсем небольшое. Аналогично с ежемесячной заработной платой.\n",
    "\n",
    "Медиана же берёт *золотую середину* из выборки количественных значений, что дает данные, приближенные к реальности. \n"
   ]
  },
  {
   "cell_type": "markdown",
   "id": "57bc304e",
   "metadata": {
    "deletable": false,
    "editable": false,
    "id": "57bc304e"
   },
   "source": [
    "### Шаг 4: общий вывод."
   ]
  },
  {
   "cell_type": "markdown",
   "id": "1ab75d1c",
   "metadata": {
    "deletable": false,
    "id": "1ab75d1c"
   },
   "source": [
    "***В ходе анализа данных датафрема выявились следующие закономерности:***\n",
    "\n",
    "**Благонадежным** по выплате кредита в срок являются те, кто: \n",
    "- имеет более от 3 и более детей, \n",
    "- находится в разводе или является вдовой/вдовцом, \n",
    "- имеет заработок от 0 до 30 000 руб. или более 1 000 000 руб. в месяц,\n",
    "- берут кредит с целью отпраздновать свадьбу.\n",
    "\n",
    "**Неблагонадежным** по выплате кредита в срок являются люди:\n",
    "- без детей,\n",
    "- в браке,\n",
    "- с ежемесячным заработком от 50 001 до 200 000 руб.,\n",
    "- берут кредит на недвижимость.\n",
    "        "
   ]
  },
  {
   "cell_type": "markdown",
   "id": "e7d6c07b",
   "metadata": {},
   "source": [
    "**Обзор и предобработка данных**\n",
    "\n",
    "Для проведения исследования была взята таблица с данными о клиентах и их платежеспособности. Таблица состоит из следующих столбцов:\n",
    "- `children` — количество детей в семье\n",
    "- `days_employed` — общий трудовой стаж в днях\n",
    "- `dob_years` — возраст клиента в годах\n",
    "- `education` — уровень образования клиента\n",
    "- `education_id` — идентификатор уровня образования\n",
    "- `family_status` — семейное положение\n",
    "- `family_status_id` — идентификатор семейного положения\n",
    "- `gender` — пол клиента\n",
    "- `income_type` — тип занятости\n",
    "- `debt` — имел ли задолженность по возврату кредитов\n",
    "- `total_income` — ежемесячный доход\n",
    "- `purpose` — цель получения кредита\n",
    "\n",
    "Почти все данные были полные - без пропусков, кроме двух столбцов: `days_employed` и `total_income`. В каждом из этих двух столбцов было пропущено по 2174 значения, при чем в одних и тех же строках. Пропущенные количественные значения в обоих столбцах были заменены медианными значениями для точности результатов исследования. \n",
    "Но на пропуски в обоих столбцах стоит обратить внимание разработчикам и проверить систему, откуда поступают заполненные данные, на корректность работы.\n",
    "\n",
    "В данных также встретились некоторые аномальные значения:\n",
    "1. В столбце `days_employed` были исправлены аномальные значения со знаком минус на положительные.\n",
    "2. В столбца `children` встретились аномальные значения *-1* и *20*. Они были удалены из таблицы и не учитывались при проведении исследования.\n",
    "3. В столбце `days_employed` при выводе медианных значений, сгруппировав данные по типу занятости `income_type`, у двух типов (безработные и пенсионеры) получились аномально большие медианные значения. Так как исправить их не представляется возможным, то было принято решение оставить их, как есть.\n",
    "\n",
    "Была проведена обработка дубликатов: значения в столбце `education` преведены к нижнему регистру, а также найдена и удалена 71 строка дубликатов.\n",
    "\n",
    "**Выводы по результатам исследования:**\n",
    "\n",
    "В ходе исследования были выявлены следующие факторы, влияющие на задолженности в выплате кредита:\n",
    "\n",
    "**1. Наличие/отсутствие детей.**\n",
    "Наличие детей влияет на выплату кредита в срок. Клиенты, имеющие детей (от 1 до 4) также имеют больше задолженностей по выплате кредитов, чем люди не имеющие детей. Доля должников с 1-4 детьми состявляет 8-9%, тогда как доля должников среди клиентов без детей - 7%.\n",
    "\n",
    "В анализе не была учтена группа клиентов, имеющих 5 детей из-за недостаточного количества данных о данной группе.\n",
    "\n",
    "**2. Cемейное положение.**\n",
    "Семейное положение также влияет на наличие задолженностей по кредиту. Среди клиенты, которые не состоят в браке или состоят в гражданском браке, самый высокий процент должников - 9%.\n",
    "Среди клиентов, состоящих в браке, находящихся в разводе или овдовевших, меньший процент должников - 6-7%.\n",
    "\n",
    "**3. Уровень дохода.**\n",
    "Уровень дохода влияет на наличие задолженности по выплате кредита у клиентов.\n",
    "Самая высокая доля должников выявлена среди тех клиентов, чей уровень дохода составляет от 50001 до 200000 руб.\n",
    "\n",
    "Среди тех клиентов, кто в месяц зарабатывет от 30001 до 50000 руб. и от 200001 до 1000000 руб.  доля клиентов с задолженностью - 6-7%.\n",
    "\n",
    "В анализе не учитывались группы с заработком от 0 до 30 000 руб. и более 1000000 руб. ввиду недостаточного количества данных по этим группам.\n",
    "\n",
    "\n",
    "**4. Цель, с которой берется кредит.**\n",
    "Цель, с которой берется кредит, также вляет на его выплату в срок.\n",
    "Больше всего должников среди клиентов, которые берут кредит на операции с автомобилем и на получение образования - 9%.\n",
    "\n",
    "Всего 7% процентов должников среди тех, кто берет кредит на проведение свадьбы и на операции с недвижимостью. \n",
    "Но среди этих двух категорий стоит учесть важный фактор: почти половина от общего числа клиентов берут кредит на операции с недвижимостью, тогда как на проведение свадьбы кредит берет лишь примерно 1/10 часть клиентов от общего числа. \n",
    "\n",
    "\n",
    "Таким образом на основании проведенного исследования можем составить портреты благонадежного и неблагонадежного заемщиков.\n",
    "\n",
    "***Портрет благонадежного заемщика***: без детей, вдовец/вдова, с заработком от 30 000 до 50 000 руб.. Цель кредита: на операции с недвижимостью.\n",
    "\n",
    "***Портрет неблагонадежного заемщика:*** имеет детей, не состоит в браке или находится в гражданском браке, с уровнем дохода от 50000 до 200000 руб. Цель кредита: на получение образования или на операции с автомобилем.\n",
    "\n",
    "\n",
    "**Дополнительная рекомендация:** как ранее писала, в данных есть пропуски в колонках `days_employed` и `total_income` в одних и тех же строках. Рекомендую обратить внимание разработчиков на это и попросить их проверить корректность работы системы, где заполняются данные. \n",
    "\n"
   ]
  }
 ],
 "metadata": {
  "ExecuteTimeLog": [
   {
    "duration": 471,
    "start_time": "2023-11-16T20:45:33.410Z"
   },
   {
    "duration": 22,
    "start_time": "2023-11-16T20:45:58.210Z"
   },
   {
    "duration": 14,
    "start_time": "2023-11-16T20:46:02.993Z"
   },
   {
    "duration": 3,
    "start_time": "2023-11-16T21:02:03.025Z"
   },
   {
    "duration": 8,
    "start_time": "2023-11-16T21:02:03.554Z"
   },
   {
    "duration": 4,
    "start_time": "2023-11-16T21:02:08.946Z"
   },
   {
    "duration": 8,
    "start_time": "2023-11-16T21:02:09.725Z"
   },
   {
    "duration": 68,
    "start_time": "2023-11-16T21:02:14.882Z"
   },
   {
    "duration": 14,
    "start_time": "2023-11-16T21:02:15.681Z"
   },
   {
    "duration": 14,
    "start_time": "2023-11-16T21:02:16.620Z"
   },
   {
    "duration": 11,
    "start_time": "2023-11-16T21:02:17.703Z"
   },
   {
    "duration": 32,
    "start_time": "2023-11-16T21:02:18.219Z"
   },
   {
    "duration": 4,
    "start_time": "2023-11-16T21:02:18.878Z"
   },
   {
    "duration": 9,
    "start_time": "2023-11-16T21:02:19.529Z"
   },
   {
    "duration": 4,
    "start_time": "2023-11-16T21:02:20.330Z"
   },
   {
    "duration": 6,
    "start_time": "2023-11-16T21:02:20.916Z"
   },
   {
    "duration": 4,
    "start_time": "2023-11-16T21:02:21.800Z"
   },
   {
    "duration": 33,
    "start_time": "2023-11-16T21:02:22.994Z"
   },
   {
    "duration": 10,
    "start_time": "2023-11-16T21:02:23.523Z"
   },
   {
    "duration": 3,
    "start_time": "2023-11-16T21:02:24.424Z"
   },
   {
    "duration": 11,
    "start_time": "2023-11-16T21:02:25.396Z"
   },
   {
    "duration": 19,
    "start_time": "2023-11-16T21:02:26.070Z"
   },
   {
    "duration": 16,
    "start_time": "2023-11-16T21:02:26.574Z"
   },
   {
    "duration": 3,
    "start_time": "2023-11-16T21:02:29.320Z"
   },
   {
    "duration": 10,
    "start_time": "2023-11-16T21:02:29.576Z"
   },
   {
    "duration": 5,
    "start_time": "2023-11-16T21:02:30.022Z"
   },
   {
    "duration": 3,
    "start_time": "2023-11-16T21:02:31.741Z"
   },
   {
    "duration": 8,
    "start_time": "2023-11-16T21:02:32.520Z"
   },
   {
    "duration": 498,
    "start_time": "2023-11-18T16:02:09.346Z"
   },
   {
    "duration": 20,
    "start_time": "2023-11-18T16:02:10.186Z"
   },
   {
    "duration": 15,
    "start_time": "2023-11-18T16:02:10.665Z"
   },
   {
    "duration": 10,
    "start_time": "2023-11-18T16:02:11.445Z"
   },
   {
    "duration": 33,
    "start_time": "2023-11-18T16:02:11.796Z"
   },
   {
    "duration": 3,
    "start_time": "2023-11-18T16:02:12.455Z"
   },
   {
    "duration": 9,
    "start_time": "2023-11-18T16:02:12.888Z"
   },
   {
    "duration": 5,
    "start_time": "2023-11-18T16:02:13.518Z"
   },
   {
    "duration": 7,
    "start_time": "2023-11-18T16:02:13.927Z"
   },
   {
    "duration": 4,
    "start_time": "2023-11-18T16:02:14.537Z"
   },
   {
    "duration": 37,
    "start_time": "2023-11-18T16:02:15.264Z"
   },
   {
    "duration": 9,
    "start_time": "2023-11-18T16:02:15.704Z"
   },
   {
    "duration": 3,
    "start_time": "2023-11-18T16:02:17.276Z"
   },
   {
    "duration": 11,
    "start_time": "2023-11-18T16:02:18.227Z"
   },
   {
    "duration": 19,
    "start_time": "2023-11-18T16:02:19.196Z"
   },
   {
    "duration": 19,
    "start_time": "2023-11-18T16:02:19.626Z"
   },
   {
    "duration": 4,
    "start_time": "2023-11-18T16:02:21.664Z"
   },
   {
    "duration": 11,
    "start_time": "2023-11-18T16:02:21.997Z"
   },
   {
    "duration": 5,
    "start_time": "2023-11-18T16:02:22.867Z"
   },
   {
    "duration": 4,
    "start_time": "2023-11-18T16:02:24.814Z"
   },
   {
    "duration": 14,
    "start_time": "2023-11-18T16:02:25.346Z"
   },
   {
    "duration": 26,
    "start_time": "2023-11-18T16:03:15.605Z"
   },
   {
    "duration": 1745,
    "start_time": "2023-11-18T16:05:57.592Z"
   },
   {
    "duration": 1654,
    "start_time": "2023-11-18T16:06:09.492Z"
   },
   {
    "duration": 1644,
    "start_time": "2023-11-18T16:06:46.124Z"
   },
   {
    "duration": 69,
    "start_time": "2023-11-18T16:07:37.980Z"
   },
   {
    "duration": 83,
    "start_time": "2023-11-18T16:07:48.551Z"
   },
   {
    "duration": 79,
    "start_time": "2023-11-18T16:08:03.905Z"
   },
   {
    "duration": 5,
    "start_time": "2023-11-18T16:14:46.430Z"
   },
   {
    "duration": 3,
    "start_time": "2023-11-18T16:15:10.174Z"
   },
   {
    "duration": 4,
    "start_time": "2023-11-18T16:15:16.007Z"
   },
   {
    "duration": 5,
    "start_time": "2023-11-18T16:18:09.746Z"
   },
   {
    "duration": 10,
    "start_time": "2023-11-18T16:22:22.566Z"
   },
   {
    "duration": 6,
    "start_time": "2023-11-18T16:22:39.137Z"
   },
   {
    "duration": 7,
    "start_time": "2023-11-18T16:22:45.056Z"
   },
   {
    "duration": 1624,
    "start_time": "2023-11-18T16:23:31.499Z"
   },
   {
    "duration": 1252,
    "start_time": "2023-11-18T16:23:56.509Z"
   },
   {
    "duration": 848,
    "start_time": "2023-11-18T16:24:35.376Z"
   },
   {
    "duration": 1218,
    "start_time": "2023-11-18T16:25:08.410Z"
   },
   {
    "duration": 13,
    "start_time": "2023-11-18T16:26:20.680Z"
   },
   {
    "duration": 9,
    "start_time": "2023-11-18T16:26:25.795Z"
   },
   {
    "duration": 5,
    "start_time": "2023-11-18T16:26:49.534Z"
   },
   {
    "duration": 5,
    "start_time": "2023-11-18T16:28:35.291Z"
   },
   {
    "duration": 9,
    "start_time": "2023-11-18T16:28:41.271Z"
   },
   {
    "duration": 9,
    "start_time": "2023-11-18T16:28:48.786Z"
   },
   {
    "duration": 15,
    "start_time": "2023-11-18T16:29:00.014Z"
   },
   {
    "duration": 20,
    "start_time": "2023-11-18T16:29:27.081Z"
   },
   {
    "duration": 18,
    "start_time": "2023-11-18T16:29:42.040Z"
   },
   {
    "duration": 19,
    "start_time": "2023-11-18T16:29:56.162Z"
   },
   {
    "duration": 14,
    "start_time": "2023-11-18T16:30:08.527Z"
   },
   {
    "duration": 12,
    "start_time": "2023-11-18T16:30:16.426Z"
   },
   {
    "duration": 7,
    "start_time": "2023-11-18T16:30:52.536Z"
   },
   {
    "duration": 19,
    "start_time": "2023-11-18T16:31:17.876Z"
   },
   {
    "duration": 17,
    "start_time": "2023-11-18T16:31:41.179Z"
   },
   {
    "duration": 12,
    "start_time": "2023-11-18T16:31:54.246Z"
   },
   {
    "duration": 12,
    "start_time": "2023-11-18T16:31:59.974Z"
   },
   {
    "duration": 12,
    "start_time": "2023-11-18T16:32:09.666Z"
   },
   {
    "duration": 6,
    "start_time": "2023-11-18T16:32:18.116Z"
   },
   {
    "duration": 2,
    "start_time": "2023-11-18T16:59:09.826Z"
   },
   {
    "duration": 7,
    "start_time": "2023-11-18T16:59:37.581Z"
   },
   {
    "duration": 6,
    "start_time": "2023-11-18T17:04:36.654Z"
   },
   {
    "duration": 8,
    "start_time": "2023-11-18T17:05:49.887Z"
   },
   {
    "duration": 7,
    "start_time": "2023-11-18T17:09:04.275Z"
   },
   {
    "duration": 6,
    "start_time": "2023-11-18T17:09:47.625Z"
   },
   {
    "duration": 7,
    "start_time": "2023-11-18T17:10:03.003Z"
   },
   {
    "duration": 8,
    "start_time": "2023-11-18T17:10:05.906Z"
   },
   {
    "duration": 8,
    "start_time": "2023-11-18T17:10:07.785Z"
   },
   {
    "duration": 7,
    "start_time": "2023-11-18T17:12:25.715Z"
   },
   {
    "duration": 7,
    "start_time": "2023-11-18T17:19:34.182Z"
   },
   {
    "duration": 6,
    "start_time": "2023-11-18T17:20:00.878Z"
   },
   {
    "duration": 11,
    "start_time": "2023-11-18T17:20:08.746Z"
   },
   {
    "duration": 7,
    "start_time": "2023-11-18T17:20:25.774Z"
   },
   {
    "duration": 7,
    "start_time": "2023-11-18T17:20:30.086Z"
   },
   {
    "duration": 8,
    "start_time": "2023-11-18T17:21:36.037Z"
   },
   {
    "duration": 8,
    "start_time": "2023-11-18T17:21:47.506Z"
   },
   {
    "duration": 8,
    "start_time": "2023-11-18T17:25:52.200Z"
   },
   {
    "duration": 111,
    "start_time": "2023-11-18T17:44:30.005Z"
   },
   {
    "duration": 11,
    "start_time": "2023-11-18T17:44:44.069Z"
   },
   {
    "duration": 11,
    "start_time": "2023-11-18T17:44:48.116Z"
   },
   {
    "duration": 15,
    "start_time": "2023-11-18T17:45:06.238Z"
   },
   {
    "duration": 71,
    "start_time": "2023-11-18T17:45:17.189Z"
   },
   {
    "duration": 19,
    "start_time": "2023-11-18T17:45:24.015Z"
   },
   {
    "duration": 12,
    "start_time": "2023-11-18T17:45:51.649Z"
   },
   {
    "duration": 12,
    "start_time": "2023-11-18T17:46:18.546Z"
   },
   {
    "duration": 80,
    "start_time": "2023-11-18T17:46:23.375Z"
   },
   {
    "duration": 14,
    "start_time": "2023-11-18T17:46:24.387Z"
   },
   {
    "duration": 14,
    "start_time": "2023-11-18T17:46:26.085Z"
   },
   {
    "duration": 10,
    "start_time": "2023-11-18T17:46:28.955Z"
   },
   {
    "duration": 8,
    "start_time": "2023-11-18T17:48:36.538Z"
   },
   {
    "duration": 10,
    "start_time": "2023-11-18T17:48:48.127Z"
   },
   {
    "duration": 9,
    "start_time": "2023-11-18T17:48:50.769Z"
   },
   {
    "duration": 11,
    "start_time": "2023-11-18T17:49:04.759Z"
   },
   {
    "duration": 10,
    "start_time": "2023-11-18T17:49:16.800Z"
   },
   {
    "duration": 75,
    "start_time": "2023-11-18T17:51:25.527Z"
   },
   {
    "duration": 71,
    "start_time": "2023-11-18T17:51:34.925Z"
   },
   {
    "duration": 1650,
    "start_time": "2023-11-18T17:51:50.687Z"
   },
   {
    "duration": 1603,
    "start_time": "2023-11-18T17:51:52.707Z"
   },
   {
    "duration": 76,
    "start_time": "2023-11-18T17:52:06.147Z"
   },
   {
    "duration": 14,
    "start_time": "2023-11-18T17:52:06.608Z"
   },
   {
    "duration": 14,
    "start_time": "2023-11-18T17:52:07.190Z"
   },
   {
    "duration": 1604,
    "start_time": "2023-11-18T17:52:09.887Z"
   },
   {
    "duration": 10,
    "start_time": "2023-11-18T17:52:21.985Z"
   },
   {
    "duration": 11,
    "start_time": "2023-11-18T17:53:05.646Z"
   },
   {
    "duration": 693,
    "start_time": "2023-11-18T23:11:58.166Z"
   },
   {
    "duration": 24,
    "start_time": "2023-11-18T23:11:58.861Z"
   },
   {
    "duration": 17,
    "start_time": "2023-11-18T23:11:58.887Z"
   },
   {
    "duration": 12,
    "start_time": "2023-11-18T23:11:58.906Z"
   },
   {
    "duration": 45,
    "start_time": "2023-11-18T23:11:58.919Z"
   },
   {
    "duration": 4,
    "start_time": "2023-11-18T23:11:58.966Z"
   },
   {
    "duration": 11,
    "start_time": "2023-11-18T23:11:58.971Z"
   },
   {
    "duration": 4,
    "start_time": "2023-11-18T23:11:58.984Z"
   },
   {
    "duration": 26,
    "start_time": "2023-11-18T23:11:58.989Z"
   },
   {
    "duration": 5,
    "start_time": "2023-11-18T23:11:59.018Z"
   },
   {
    "duration": 39,
    "start_time": "2023-11-18T23:11:59.025Z"
   },
   {
    "duration": 11,
    "start_time": "2023-11-18T23:11:59.065Z"
   },
   {
    "duration": 5,
    "start_time": "2023-11-18T23:11:59.077Z"
   },
   {
    "duration": 36,
    "start_time": "2023-11-18T23:11:59.084Z"
   },
   {
    "duration": 23,
    "start_time": "2023-11-18T23:11:59.121Z"
   },
   {
    "duration": 19,
    "start_time": "2023-11-18T23:11:59.146Z"
   },
   {
    "duration": 4,
    "start_time": "2023-11-18T23:11:59.167Z"
   },
   {
    "duration": 41,
    "start_time": "2023-11-18T23:11:59.173Z"
   },
   {
    "duration": 8,
    "start_time": "2023-11-18T23:11:59.216Z"
   },
   {
    "duration": 5,
    "start_time": "2023-11-18T23:11:59.225Z"
   },
   {
    "duration": 34,
    "start_time": "2023-11-18T23:11:59.231Z"
   },
   {
    "duration": 9,
    "start_time": "2023-11-18T23:11:59.266Z"
   },
   {
    "duration": 38,
    "start_time": "2023-11-18T23:11:59.277Z"
   },
   {
    "duration": 9,
    "start_time": "2023-11-18T23:11:59.317Z"
   },
   {
    "duration": 10,
    "start_time": "2023-11-18T23:11:59.328Z"
   },
   {
    "duration": 506,
    "start_time": "2023-11-19T10:37:05.486Z"
   },
   {
    "duration": 21,
    "start_time": "2023-11-19T10:37:05.993Z"
   },
   {
    "duration": 13,
    "start_time": "2023-11-19T10:37:06.015Z"
   },
   {
    "duration": 9,
    "start_time": "2023-11-19T10:37:06.030Z"
   },
   {
    "duration": 38,
    "start_time": "2023-11-19T10:37:06.041Z"
   },
   {
    "duration": 3,
    "start_time": "2023-11-19T10:37:06.080Z"
   },
   {
    "duration": 23,
    "start_time": "2023-11-19T10:37:06.084Z"
   },
   {
    "duration": 4,
    "start_time": "2023-11-19T10:37:06.109Z"
   },
   {
    "duration": 7,
    "start_time": "2023-11-19T10:37:06.116Z"
   },
   {
    "duration": 3,
    "start_time": "2023-11-19T10:37:06.126Z"
   },
   {
    "duration": 43,
    "start_time": "2023-11-19T10:37:06.131Z"
   },
   {
    "duration": 14,
    "start_time": "2023-11-19T10:37:06.176Z"
   },
   {
    "duration": 5,
    "start_time": "2023-11-19T10:37:06.192Z"
   },
   {
    "duration": 15,
    "start_time": "2023-11-19T10:37:06.199Z"
   },
   {
    "duration": 18,
    "start_time": "2023-11-19T10:37:06.216Z"
   },
   {
    "duration": 33,
    "start_time": "2023-11-19T10:37:06.236Z"
   },
   {
    "duration": 3,
    "start_time": "2023-11-19T10:37:06.270Z"
   },
   {
    "duration": 22,
    "start_time": "2023-11-19T10:37:06.275Z"
   },
   {
    "duration": 4,
    "start_time": "2023-11-19T10:37:06.299Z"
   },
   {
    "duration": 4,
    "start_time": "2023-11-19T10:37:06.305Z"
   },
   {
    "duration": 39,
    "start_time": "2023-11-19T10:37:06.310Z"
   },
   {
    "duration": 21,
    "start_time": "2023-11-19T10:37:06.351Z"
   },
   {
    "duration": 8,
    "start_time": "2023-11-19T10:37:06.373Z"
   },
   {
    "duration": 16,
    "start_time": "2023-11-19T10:37:06.382Z"
   },
   {
    "duration": 7,
    "start_time": "2023-11-19T10:37:06.399Z"
   },
   {
    "duration": 71,
    "start_time": "2023-11-19T10:41:33.291Z"
   },
   {
    "duration": 24,
    "start_time": "2023-11-19T10:58:05.642Z"
   },
   {
    "duration": 2,
    "start_time": "2023-11-19T10:59:16.344Z"
   },
   {
    "duration": 18,
    "start_time": "2023-11-19T10:59:20.441Z"
   },
   {
    "duration": 8,
    "start_time": "2023-11-19T11:00:08.231Z"
   },
   {
    "duration": 63,
    "start_time": "2023-11-19T11:00:46.295Z"
   },
   {
    "duration": 17,
    "start_time": "2023-11-19T11:01:10.997Z"
   },
   {
    "duration": 2,
    "start_time": "2023-11-19T11:01:44.326Z"
   },
   {
    "duration": 6,
    "start_time": "2023-11-19T11:02:32.221Z"
   },
   {
    "duration": 9,
    "start_time": "2023-11-19T11:02:40.166Z"
   },
   {
    "duration": 6,
    "start_time": "2023-11-19T11:02:58.416Z"
   },
   {
    "duration": 6,
    "start_time": "2023-11-19T11:03:13.595Z"
   },
   {
    "duration": 6,
    "start_time": "2023-11-19T11:03:34.321Z"
   },
   {
    "duration": 19,
    "start_time": "2023-11-19T11:04:01.690Z"
   },
   {
    "duration": 6,
    "start_time": "2023-11-19T11:04:29.160Z"
   },
   {
    "duration": 9,
    "start_time": "2023-11-19T11:04:38.699Z"
   },
   {
    "duration": 7,
    "start_time": "2023-11-19T11:04:43.264Z"
   },
   {
    "duration": 8,
    "start_time": "2023-11-19T11:05:17.279Z"
   },
   {
    "duration": 10,
    "start_time": "2023-11-19T11:05:34.971Z"
   },
   {
    "duration": 8,
    "start_time": "2023-11-19T11:05:58.185Z"
   },
   {
    "duration": 8,
    "start_time": "2023-11-19T11:06:08.284Z"
   },
   {
    "duration": 8,
    "start_time": "2023-11-19T11:06:16.571Z"
   },
   {
    "duration": 18,
    "start_time": "2023-11-19T11:07:13.675Z"
   },
   {
    "duration": 14,
    "start_time": "2023-11-19T11:08:26.701Z"
   },
   {
    "duration": 23,
    "start_time": "2023-11-19T11:08:31.893Z"
   },
   {
    "duration": 21,
    "start_time": "2023-11-19T11:14:31.371Z"
   },
   {
    "duration": 19,
    "start_time": "2023-11-19T11:17:33.666Z"
   },
   {
    "duration": 19,
    "start_time": "2023-11-19T11:19:18.176Z"
   },
   {
    "duration": 17,
    "start_time": "2023-11-19T11:20:00.867Z"
   },
   {
    "duration": 1567,
    "start_time": "2023-11-19T11:27:15.413Z"
   },
   {
    "duration": 1612,
    "start_time": "2023-11-19T11:27:18.101Z"
   },
   {
    "duration": 1580,
    "start_time": "2023-11-19T11:27:21.414Z"
   },
   {
    "duration": 21,
    "start_time": "2023-11-19T11:27:25.885Z"
   },
   {
    "duration": 29,
    "start_time": "2023-11-19T11:27:36.207Z"
   },
   {
    "duration": 1749,
    "start_time": "2023-11-19T11:27:48.302Z"
   },
   {
    "duration": 21,
    "start_time": "2023-11-19T11:27:53.119Z"
   },
   {
    "duration": 30,
    "start_time": "2023-11-19T11:27:57.332Z"
   },
   {
    "duration": 1594,
    "start_time": "2023-11-19T11:28:15.801Z"
   },
   {
    "duration": 19,
    "start_time": "2023-11-19T11:31:46.460Z"
   },
   {
    "duration": 18,
    "start_time": "2023-11-19T11:32:02.664Z"
   },
   {
    "duration": 18,
    "start_time": "2023-11-19T11:32:49.859Z"
   },
   {
    "duration": 18,
    "start_time": "2023-11-19T11:32:55.720Z"
   },
   {
    "duration": 18,
    "start_time": "2023-11-19T11:32:57.632Z"
   },
   {
    "duration": 17,
    "start_time": "2023-11-19T11:33:04.568Z"
   },
   {
    "duration": 19,
    "start_time": "2023-11-19T11:33:19.542Z"
   },
   {
    "duration": 20,
    "start_time": "2023-11-19T11:34:42.568Z"
   },
   {
    "duration": 20,
    "start_time": "2023-11-19T11:34:54.815Z"
   },
   {
    "duration": 18,
    "start_time": "2023-11-19T11:35:20.263Z"
   },
   {
    "duration": 18,
    "start_time": "2023-11-19T11:35:26.116Z"
   },
   {
    "duration": 22,
    "start_time": "2023-11-19T11:41:20.824Z"
   },
   {
    "duration": 26,
    "start_time": "2023-11-19T11:44:38.764Z"
   },
   {
    "duration": 31,
    "start_time": "2023-11-19T11:44:58.990Z"
   },
   {
    "duration": 24,
    "start_time": "2023-11-19T11:45:33.501Z"
   },
   {
    "duration": 27,
    "start_time": "2023-11-19T11:49:30.924Z"
   },
   {
    "duration": 25,
    "start_time": "2023-11-19T11:49:37.358Z"
   },
   {
    "duration": 20,
    "start_time": "2023-11-19T11:53:48.455Z"
   },
   {
    "duration": 23,
    "start_time": "2023-11-19T11:53:53.149Z"
   },
   {
    "duration": 7,
    "start_time": "2023-11-19T11:55:55.544Z"
   },
   {
    "duration": 31,
    "start_time": "2023-11-19T12:01:15.303Z"
   },
   {
    "duration": 28,
    "start_time": "2023-11-19T12:02:04.112Z"
   },
   {
    "duration": 32,
    "start_time": "2023-11-19T12:02:09.096Z"
   },
   {
    "duration": 29,
    "start_time": "2023-11-19T12:04:09.657Z"
   },
   {
    "duration": 36,
    "start_time": "2023-11-19T12:04:19.430Z"
   },
   {
    "duration": 33,
    "start_time": "2023-11-19T12:04:42.835Z"
   },
   {
    "duration": 31,
    "start_time": "2023-11-19T12:15:29.089Z"
   },
   {
    "duration": 22,
    "start_time": "2023-11-19T12:15:42.382Z"
   },
   {
    "duration": 24,
    "start_time": "2023-11-19T12:32:23.594Z"
   },
   {
    "duration": 26,
    "start_time": "2023-11-19T12:33:58.068Z"
   },
   {
    "duration": 26,
    "start_time": "2023-11-19T12:34:53.308Z"
   },
   {
    "duration": 24,
    "start_time": "2023-11-19T12:35:24.652Z"
   },
   {
    "duration": 82,
    "start_time": "2023-11-19T12:38:06.785Z"
   },
   {
    "duration": 77,
    "start_time": "2023-11-19T12:40:28.202Z"
   },
   {
    "duration": 81,
    "start_time": "2023-11-19T12:40:54.210Z"
   },
   {
    "duration": 80,
    "start_time": "2023-11-19T12:41:25.624Z"
   },
   {
    "duration": 77,
    "start_time": "2023-11-19T12:41:36.288Z"
   },
   {
    "duration": 25,
    "start_time": "2023-11-19T12:41:49.524Z"
   },
   {
    "duration": 23,
    "start_time": "2023-11-19T12:42:12.256Z"
   },
   {
    "duration": 76,
    "start_time": "2023-11-19T12:42:19.896Z"
   },
   {
    "duration": 70,
    "start_time": "2023-11-19T12:42:28.681Z"
   },
   {
    "duration": 23,
    "start_time": "2023-11-19T12:43:11.652Z"
   },
   {
    "duration": 24,
    "start_time": "2023-11-19T12:43:22.117Z"
   },
   {
    "duration": 83,
    "start_time": "2023-11-19T12:43:45.551Z"
   },
   {
    "duration": 24,
    "start_time": "2023-11-19T12:44:18.441Z"
   },
   {
    "duration": 18,
    "start_time": "2023-11-19T12:44:39.820Z"
   },
   {
    "duration": 17,
    "start_time": "2023-11-19T12:44:45.484Z"
   },
   {
    "duration": 22,
    "start_time": "2023-11-19T12:45:17.494Z"
   },
   {
    "duration": 31,
    "start_time": "2023-11-19T12:46:31.196Z"
   },
   {
    "duration": 25,
    "start_time": "2023-11-19T12:47:53.892Z"
   },
   {
    "duration": 13,
    "start_time": "2023-11-19T12:48:06.243Z"
   },
   {
    "duration": 18,
    "start_time": "2023-11-19T12:48:11.246Z"
   },
   {
    "duration": 31,
    "start_time": "2023-11-19T12:48:26.757Z"
   },
   {
    "duration": 19,
    "start_time": "2023-11-19T12:48:31.987Z"
   },
   {
    "duration": 20,
    "start_time": "2023-11-19T12:49:24.931Z"
   },
   {
    "duration": 19,
    "start_time": "2023-11-19T12:49:29.826Z"
   },
   {
    "duration": 24,
    "start_time": "2023-11-19T13:02:28.091Z"
   },
   {
    "duration": 70,
    "start_time": "2023-11-19T13:02:58.951Z"
   },
   {
    "duration": 26,
    "start_time": "2023-11-19T13:03:56.090Z"
   },
   {
    "duration": 19,
    "start_time": "2023-11-19T13:03:59.479Z"
   },
   {
    "duration": 19,
    "start_time": "2023-11-19T13:07:00.011Z"
   },
   {
    "duration": 22,
    "start_time": "2023-11-19T13:09:07.546Z"
   },
   {
    "duration": 20,
    "start_time": "2023-11-19T13:09:24.788Z"
   },
   {
    "duration": 20,
    "start_time": "2023-11-19T13:09:42.330Z"
   },
   {
    "duration": 20,
    "start_time": "2023-11-19T13:09:53.719Z"
   },
   {
    "duration": 20,
    "start_time": "2023-11-19T13:09:58.002Z"
   },
   {
    "duration": 23,
    "start_time": "2023-11-19T13:10:16.017Z"
   },
   {
    "duration": 20,
    "start_time": "2023-11-19T13:13:00.554Z"
   },
   {
    "duration": 19,
    "start_time": "2023-11-19T13:14:15.927Z"
   },
   {
    "duration": 7,
    "start_time": "2023-11-19T13:14:19.857Z"
   },
   {
    "duration": 55,
    "start_time": "2023-11-19T13:14:22.830Z"
   },
   {
    "duration": 16,
    "start_time": "2023-11-19T13:14:28.488Z"
   },
   {
    "duration": 17,
    "start_time": "2023-11-19T13:14:39.793Z"
   },
   {
    "duration": 19,
    "start_time": "2023-11-19T13:15:29.568Z"
   },
   {
    "duration": 19,
    "start_time": "2023-11-19T13:17:32.702Z"
   },
   {
    "duration": 19,
    "start_time": "2023-11-19T13:17:39.693Z"
   },
   {
    "duration": 13,
    "start_time": "2023-11-19T13:23:09.951Z"
   },
   {
    "duration": 20,
    "start_time": "2023-11-19T13:23:14.979Z"
   },
   {
    "duration": 18,
    "start_time": "2023-11-19T13:23:17.100Z"
   },
   {
    "duration": 19,
    "start_time": "2023-11-19T13:35:31.625Z"
   },
   {
    "duration": 21,
    "start_time": "2023-11-19T13:35:46.857Z"
   },
   {
    "duration": 72,
    "start_time": "2023-11-19T13:36:14.169Z"
   },
   {
    "duration": 19,
    "start_time": "2023-11-19T13:36:15.364Z"
   },
   {
    "duration": 19,
    "start_time": "2023-11-19T13:36:50.455Z"
   },
   {
    "duration": 14,
    "start_time": "2023-11-19T13:37:49.208Z"
   },
   {
    "duration": 7,
    "start_time": "2023-11-19T13:45:18.698Z"
   },
   {
    "duration": 6,
    "start_time": "2023-11-19T13:45:29.099Z"
   },
   {
    "duration": 13,
    "start_time": "2023-11-19T13:48:13.154Z"
   },
   {
    "duration": 12,
    "start_time": "2023-11-19T13:50:04.012Z"
   },
   {
    "duration": 3,
    "start_time": "2023-11-19T13:50:34.937Z"
   },
   {
    "duration": 24,
    "start_time": "2023-11-19T13:50:35.513Z"
   },
   {
    "duration": 3,
    "start_time": "2023-11-19T13:50:55.071Z"
   },
   {
    "duration": 11,
    "start_time": "2023-11-19T13:50:56.310Z"
   },
   {
    "duration": 5,
    "start_time": "2023-11-19T13:50:58.207Z"
   },
   {
    "duration": 3,
    "start_time": "2023-11-19T13:50:59.523Z"
   },
   {
    "duration": 24,
    "start_time": "2023-11-19T13:51:00.698Z"
   },
   {
    "duration": 22,
    "start_time": "2023-11-19T13:51:11.633Z"
   },
   {
    "duration": 22,
    "start_time": "2023-11-19T13:52:30.096Z"
   },
   {
    "duration": 19,
    "start_time": "2023-11-19T13:52:49.109Z"
   },
   {
    "duration": 440,
    "start_time": "2023-11-19T13:53:06.480Z"
   },
   {
    "duration": 20,
    "start_time": "2023-11-19T13:53:06.921Z"
   },
   {
    "duration": 14,
    "start_time": "2023-11-19T13:53:06.943Z"
   },
   {
    "duration": 10,
    "start_time": "2023-11-19T13:53:06.959Z"
   },
   {
    "duration": 41,
    "start_time": "2023-11-19T13:53:06.970Z"
   },
   {
    "duration": 3,
    "start_time": "2023-11-19T13:53:07.012Z"
   },
   {
    "duration": 43,
    "start_time": "2023-11-19T13:53:07.017Z"
   },
   {
    "duration": 33,
    "start_time": "2023-11-19T13:53:07.062Z"
   },
   {
    "duration": 14,
    "start_time": "2023-11-19T13:53:07.096Z"
   },
   {
    "duration": 33,
    "start_time": "2023-11-19T13:53:07.113Z"
   },
   {
    "duration": 60,
    "start_time": "2023-11-19T13:53:07.148Z"
   },
   {
    "duration": 9,
    "start_time": "2023-11-19T13:53:07.210Z"
   },
   {
    "duration": 15,
    "start_time": "2023-11-19T13:53:07.220Z"
   },
   {
    "duration": 34,
    "start_time": "2023-11-19T13:53:07.236Z"
   },
   {
    "duration": 30,
    "start_time": "2023-11-19T13:53:07.271Z"
   },
   {
    "duration": 16,
    "start_time": "2023-11-19T13:53:07.302Z"
   },
   {
    "duration": 4,
    "start_time": "2023-11-19T13:53:07.319Z"
   },
   {
    "duration": 12,
    "start_time": "2023-11-19T13:53:07.324Z"
   },
   {
    "duration": 7,
    "start_time": "2023-11-19T13:53:07.337Z"
   },
   {
    "duration": 11,
    "start_time": "2023-11-19T13:53:07.345Z"
   },
   {
    "duration": 33,
    "start_time": "2023-11-19T13:53:07.357Z"
   },
   {
    "duration": 12,
    "start_time": "2023-11-19T13:53:07.391Z"
   },
   {
    "duration": 26,
    "start_time": "2023-11-19T13:53:07.405Z"
   },
   {
    "duration": 38,
    "start_time": "2023-11-19T13:53:07.433Z"
   },
   {
    "duration": 7,
    "start_time": "2023-11-19T13:53:07.472Z"
   },
   {
    "duration": 18,
    "start_time": "2023-11-19T13:53:07.480Z"
   },
   {
    "duration": 19,
    "start_time": "2023-11-19T13:53:07.499Z"
   },
   {
    "duration": 7,
    "start_time": "2023-11-19T13:53:07.522Z"
   },
   {
    "duration": 40,
    "start_time": "2023-11-19T13:53:07.530Z"
   },
   {
    "duration": 17,
    "start_time": "2023-11-19T13:53:07.572Z"
   },
   {
    "duration": 18,
    "start_time": "2023-11-19T13:53:23.118Z"
   },
   {
    "duration": 16,
    "start_time": "2023-11-19T13:53:31.091Z"
   },
   {
    "duration": 18,
    "start_time": "2023-11-19T13:54:03.403Z"
   },
   {
    "duration": 19,
    "start_time": "2023-11-19T13:56:30.045Z"
   },
   {
    "duration": 19,
    "start_time": "2023-11-19T13:56:38.517Z"
   },
   {
    "duration": 20,
    "start_time": "2023-11-19T13:56:58.011Z"
   },
   {
    "duration": 16,
    "start_time": "2023-11-19T13:57:29.696Z"
   },
   {
    "duration": 19,
    "start_time": "2023-11-19T14:02:00.795Z"
   },
   {
    "duration": 19,
    "start_time": "2023-11-19T14:02:28.471Z"
   },
   {
    "duration": 20,
    "start_time": "2023-11-19T14:02:56.402Z"
   },
   {
    "duration": 20,
    "start_time": "2023-11-19T14:22:30.926Z"
   },
   {
    "duration": 18,
    "start_time": "2023-11-19T14:23:27.725Z"
   },
   {
    "duration": 19,
    "start_time": "2023-11-19T14:23:32.340Z"
   },
   {
    "duration": 28,
    "start_time": "2023-11-19T15:32:58.684Z"
   },
   {
    "duration": 18,
    "start_time": "2023-11-19T15:33:01.712Z"
   },
   {
    "duration": 546,
    "start_time": "2023-11-20T07:53:24.720Z"
   },
   {
    "duration": 22,
    "start_time": "2023-11-20T07:53:25.269Z"
   },
   {
    "duration": 16,
    "start_time": "2023-11-20T07:53:25.293Z"
   },
   {
    "duration": 24,
    "start_time": "2023-11-20T07:53:25.311Z"
   },
   {
    "duration": 53,
    "start_time": "2023-11-20T07:53:25.336Z"
   },
   {
    "duration": 3,
    "start_time": "2023-11-20T07:53:25.391Z"
   },
   {
    "duration": 17,
    "start_time": "2023-11-20T07:53:25.396Z"
   },
   {
    "duration": 6,
    "start_time": "2023-11-20T07:53:25.415Z"
   },
   {
    "duration": 8,
    "start_time": "2023-11-20T07:53:25.423Z"
   },
   {
    "duration": 20,
    "start_time": "2023-11-20T07:53:25.434Z"
   },
   {
    "duration": 44,
    "start_time": "2023-11-20T07:53:25.455Z"
   },
   {
    "duration": 10,
    "start_time": "2023-11-20T07:53:25.500Z"
   },
   {
    "duration": 12,
    "start_time": "2023-11-20T07:53:25.512Z"
   },
   {
    "duration": 12,
    "start_time": "2023-11-20T07:53:25.526Z"
   },
   {
    "duration": 46,
    "start_time": "2023-11-20T07:53:25.540Z"
   },
   {
    "duration": 19,
    "start_time": "2023-11-20T07:53:25.588Z"
   },
   {
    "duration": 3,
    "start_time": "2023-11-20T07:53:25.609Z"
   },
   {
    "duration": 26,
    "start_time": "2023-11-20T07:53:25.614Z"
   },
   {
    "duration": 11,
    "start_time": "2023-11-20T07:53:25.642Z"
   },
   {
    "duration": 4,
    "start_time": "2023-11-20T07:53:25.654Z"
   },
   {
    "duration": 40,
    "start_time": "2023-11-20T07:53:25.659Z"
   },
   {
    "duration": 6,
    "start_time": "2023-11-20T07:53:25.700Z"
   },
   {
    "duration": 39,
    "start_time": "2023-11-20T07:53:25.707Z"
   },
   {
    "duration": 18,
    "start_time": "2023-11-20T07:53:25.747Z"
   },
   {
    "duration": 7,
    "start_time": "2023-11-20T07:53:25.767Z"
   },
   {
    "duration": 23,
    "start_time": "2023-11-20T07:53:25.775Z"
   },
   {
    "duration": 18,
    "start_time": "2023-11-20T07:53:25.799Z"
   },
   {
    "duration": 22,
    "start_time": "2023-11-20T07:53:25.820Z"
   },
   {
    "duration": 26,
    "start_time": "2023-11-20T07:53:25.843Z"
   },
   {
    "duration": 27,
    "start_time": "2023-11-20T07:53:25.870Z"
   },
   {
    "duration": 21,
    "start_time": "2023-11-20T07:53:25.899Z"
   },
   {
    "duration": 22,
    "start_time": "2023-11-20T07:53:25.921Z"
   },
   {
    "duration": 18,
    "start_time": "2023-11-20T07:53:25.945Z"
   },
   {
    "duration": 705,
    "start_time": "2023-11-21T05:05:17.411Z"
   },
   {
    "duration": 23,
    "start_time": "2023-11-21T05:05:18.118Z"
   },
   {
    "duration": 17,
    "start_time": "2023-11-21T05:05:18.142Z"
   },
   {
    "duration": 11,
    "start_time": "2023-11-21T05:05:18.160Z"
   },
   {
    "duration": 36,
    "start_time": "2023-11-21T05:05:18.173Z"
   },
   {
    "duration": 3,
    "start_time": "2023-11-21T05:05:18.210Z"
   },
   {
    "duration": 29,
    "start_time": "2023-11-21T05:05:18.215Z"
   },
   {
    "duration": 8,
    "start_time": "2023-11-21T05:05:18.246Z"
   },
   {
    "duration": 9,
    "start_time": "2023-11-21T05:05:18.256Z"
   },
   {
    "duration": 10,
    "start_time": "2023-11-21T05:05:18.267Z"
   },
   {
    "duration": 36,
    "start_time": "2023-11-21T05:05:18.279Z"
   },
   {
    "duration": 27,
    "start_time": "2023-11-21T05:05:18.317Z"
   },
   {
    "duration": 4,
    "start_time": "2023-11-21T05:05:18.346Z"
   },
   {
    "duration": 16,
    "start_time": "2023-11-21T05:05:18.352Z"
   },
   {
    "duration": 26,
    "start_time": "2023-11-21T05:05:18.369Z"
   },
   {
    "duration": 25,
    "start_time": "2023-11-21T05:05:18.397Z"
   },
   {
    "duration": 3,
    "start_time": "2023-11-21T05:05:18.424Z"
   },
   {
    "duration": 23,
    "start_time": "2023-11-21T05:05:18.429Z"
   },
   {
    "duration": 8,
    "start_time": "2023-11-21T05:05:18.454Z"
   },
   {
    "duration": 19,
    "start_time": "2023-11-21T05:05:18.463Z"
   },
   {
    "duration": 43,
    "start_time": "2023-11-21T05:05:18.483Z"
   },
   {
    "duration": 8,
    "start_time": "2023-11-21T05:05:18.528Z"
   },
   {
    "duration": 29,
    "start_time": "2023-11-21T05:05:18.537Z"
   },
   {
    "duration": 18,
    "start_time": "2023-11-21T05:05:18.567Z"
   },
   {
    "duration": 7,
    "start_time": "2023-11-21T05:05:18.586Z"
   },
   {
    "duration": 22,
    "start_time": "2023-11-21T05:05:18.595Z"
   },
   {
    "duration": 39,
    "start_time": "2023-11-21T05:05:18.618Z"
   },
   {
    "duration": 6,
    "start_time": "2023-11-21T05:05:18.659Z"
   },
   {
    "duration": 22,
    "start_time": "2023-11-21T05:05:18.666Z"
   },
   {
    "duration": 17,
    "start_time": "2023-11-21T05:05:18.690Z"
   },
   {
    "duration": 34,
    "start_time": "2023-11-21T05:05:18.709Z"
   },
   {
    "duration": 25,
    "start_time": "2023-11-21T05:05:18.744Z"
   },
   {
    "duration": 18,
    "start_time": "2023-11-21T05:05:18.771Z"
   },
   {
    "duration": 11,
    "start_time": "2023-11-21T05:06:30.815Z"
   },
   {
    "duration": 10,
    "start_time": "2023-11-21T05:07:34.093Z"
   },
   {
    "duration": 667,
    "start_time": "2023-11-21T19:13:54.379Z"
   },
   {
    "duration": 24,
    "start_time": "2023-11-21T19:13:55.048Z"
   },
   {
    "duration": 18,
    "start_time": "2023-11-21T19:13:55.073Z"
   },
   {
    "duration": 11,
    "start_time": "2023-11-21T19:13:55.093Z"
   },
   {
    "duration": 67,
    "start_time": "2023-11-21T19:13:55.105Z"
   },
   {
    "duration": 4,
    "start_time": "2023-11-21T19:13:55.173Z"
   },
   {
    "duration": 10,
    "start_time": "2023-11-21T19:13:55.179Z"
   },
   {
    "duration": 4,
    "start_time": "2023-11-21T19:13:55.191Z"
   },
   {
    "duration": 7,
    "start_time": "2023-11-21T19:13:55.197Z"
   },
   {
    "duration": 4,
    "start_time": "2023-11-21T19:13:55.209Z"
   },
   {
    "duration": 95,
    "start_time": "2023-11-21T19:13:55.214Z"
   },
   {
    "duration": 10,
    "start_time": "2023-11-21T19:13:55.311Z"
   },
   {
    "duration": 4,
    "start_time": "2023-11-21T19:13:55.322Z"
   },
   {
    "duration": 14,
    "start_time": "2023-11-21T19:13:55.327Z"
   },
   {
    "duration": 19,
    "start_time": "2023-11-21T19:13:55.365Z"
   },
   {
    "duration": 15,
    "start_time": "2023-11-21T19:13:55.386Z"
   },
   {
    "duration": 4,
    "start_time": "2023-11-21T19:13:55.403Z"
   },
   {
    "duration": 13,
    "start_time": "2023-11-21T19:13:55.408Z"
   },
   {
    "duration": 43,
    "start_time": "2023-11-21T19:13:55.422Z"
   },
   {
    "duration": 5,
    "start_time": "2023-11-21T19:13:55.467Z"
   },
   {
    "duration": 31,
    "start_time": "2023-11-21T19:13:55.473Z"
   },
   {
    "duration": 8,
    "start_time": "2023-11-21T19:13:55.506Z"
   },
   {
    "duration": 18,
    "start_time": "2023-11-21T19:13:55.515Z"
   },
   {
    "duration": 31,
    "start_time": "2023-11-21T19:13:55.534Z"
   },
   {
    "duration": 13,
    "start_time": "2023-11-21T19:13:55.566Z"
   },
   {
    "duration": 8,
    "start_time": "2023-11-21T19:13:55.580Z"
   },
   {
    "duration": 22,
    "start_time": "2023-11-21T19:13:55.589Z"
   },
   {
    "duration": 53,
    "start_time": "2023-11-21T19:13:55.614Z"
   },
   {
    "duration": 8,
    "start_time": "2023-11-21T19:13:55.668Z"
   },
   {
    "duration": 22,
    "start_time": "2023-11-21T19:13:55.677Z"
   },
   {
    "duration": 18,
    "start_time": "2023-11-21T19:13:55.701Z"
   },
   {
    "duration": 7,
    "start_time": "2023-11-21T19:13:55.721Z"
   },
   {
    "duration": 21,
    "start_time": "2023-11-21T19:13:55.765Z"
   },
   {
    "duration": 18,
    "start_time": "2023-11-21T19:13:55.788Z"
   },
   {
    "duration": 3,
    "start_time": "2023-11-21T19:17:06.925Z"
   },
   {
    "duration": 2,
    "start_time": "2023-11-21T19:17:07.584Z"
   },
   {
    "duration": 14,
    "start_time": "2023-11-21T19:17:11.165Z"
   },
   {
    "duration": 18,
    "start_time": "2023-11-21T19:17:54.778Z"
   },
   {
    "duration": 6,
    "start_time": "2023-11-21T19:22:40.365Z"
   },
   {
    "duration": 12,
    "start_time": "2023-11-21T19:25:35.184Z"
   },
   {
    "duration": 12,
    "start_time": "2023-11-21T19:25:48.920Z"
   },
   {
    "duration": 15,
    "start_time": "2023-11-21T19:26:55.576Z"
   },
   {
    "duration": 13,
    "start_time": "2023-11-21T19:29:29.567Z"
   },
   {
    "duration": 11,
    "start_time": "2023-11-21T19:30:16.333Z"
   },
   {
    "duration": 17,
    "start_time": "2023-11-21T19:45:25.320Z"
   },
   {
    "duration": 16,
    "start_time": "2023-11-21T19:45:30.208Z"
   },
   {
    "duration": 16,
    "start_time": "2023-11-21T19:46:03.544Z"
   },
   {
    "duration": 79,
    "start_time": "2023-11-21T19:47:12.444Z"
   },
   {
    "duration": 13,
    "start_time": "2023-11-21T19:52:54.745Z"
   },
   {
    "duration": 16,
    "start_time": "2023-11-21T19:53:13.271Z"
   },
   {
    "duration": 14,
    "start_time": "2023-11-21T19:55:38.671Z"
   },
   {
    "duration": 13,
    "start_time": "2023-11-21T20:03:02.116Z"
   },
   {
    "duration": 13,
    "start_time": "2023-11-21T20:03:39.916Z"
   },
   {
    "duration": 13,
    "start_time": "2023-11-21T20:04:12.472Z"
   },
   {
    "duration": 13,
    "start_time": "2023-11-21T20:08:07.977Z"
   },
   {
    "duration": 13,
    "start_time": "2023-11-21T20:08:23.187Z"
   },
   {
    "duration": 12,
    "start_time": "2023-11-21T20:08:34.360Z"
   },
   {
    "duration": 14,
    "start_time": "2023-11-21T20:08:42.932Z"
   },
   {
    "duration": 13,
    "start_time": "2023-11-21T20:43:24.150Z"
   }
  ],
  "colab": {
   "provenance": []
  },
  "kernelspec": {
   "display_name": "Python 3 (ipykernel)",
   "language": "python",
   "name": "python3"
  },
  "language_info": {
   "codemirror_mode": {
    "name": "ipython",
    "version": 3
   },
   "file_extension": ".py",
   "mimetype": "text/x-python",
   "name": "python",
   "nbconvert_exporter": "python",
   "pygments_lexer": "ipython3",
   "version": "3.9.18"
  },
  "toc": {
   "base_numbering": 1,
   "nav_menu": {},
   "number_sections": true,
   "sideBar": true,
   "skip_h1_title": true,
   "title_cell": "Table of Contents",
   "title_sidebar": "Contents",
   "toc_cell": false,
   "toc_position": {},
   "toc_section_display": true,
   "toc_window_display": false
  }
 },
 "nbformat": 4,
 "nbformat_minor": 5
}
